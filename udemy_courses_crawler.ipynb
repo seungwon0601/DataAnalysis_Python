{
 "cells": [
  {
   "cell_type": "markdown",
   "metadata": {},
   "source": [
    "# Website Crawling - Udemy"
   ]
  },
  {
   "cell_type": "code",
   "execution_count": 115,
   "metadata": {},
   "outputs": [],
   "source": [
    "from selenium import webdriver\n",
    "from selenium.webdriver.support.ui import WebDriverWait\n",
    "import pandas as pd"
   ]
  },
  {
   "cell_type": "code",
   "execution_count": 93,
   "metadata": {},
   "outputs": [],
   "source": [
    "# Test Code\n",
    "drive = webdriver.Chrome(executable_path='../chromedriver')\n",
    "link = \"https://www.udemy.com/courses/search/?courseLabel=6594&p=1&q=python&sort=most-reviewed\"\n",
    "drive.get(link)"
   ]
  },
  {
   "cell_type": "code",
   "execution_count": 94,
   "metadata": {},
   "outputs": [],
   "source": [
    "# Test Code\n",
    "li = []\n",
    "li = drive.find_elements_by_css_selector('.udlite-focus-visible-target')"
   ]
  },
  {
   "cell_type": "code",
   "execution_count": 181,
   "metadata": {},
   "outputs": [],
   "source": [
    "def udemy_scrapper(keyword):\n",
    "    drive = webdriver.Chrome(executable_path='../chromedriver')\n",
    "    #데이터프레임\n",
    "    title = []\n",
    "    summary = []\n",
    "    score = []\n",
    "    link = 'https://www.udemy.com'\n",
    "    drive.get(link)\n",
    "    drive.implicitly_wait(10)\n",
    "    language = drive.find_element_by_css_selector('option[value=\"en_US\"]')\n",
    "    language.click()\n",
    "    for page in range(1,6):\n",
    "        link = 'https://www.udemy.com/courses/search/?p={}&q={}&sort=most-reviewed'.format(page,keyword)\n",
    "        print('데이터를 수집중입니다. (진행률 : {}/5)'.format(page))\n",
    "        drive.get(link)\n",
    "        drive.implicitly_wait(10)\n",
    "        title_li = drive.find_elements_by_css_selector('.udlite-focus-visible-target')\n",
    "        subtitle_li = drive.find_elements_by_css_selector('.udlite-text-sm.course-card--course-headline--yIrRk')\n",
    "        score_li = drive.find_elements_by_css_selector('.udlite-text-xs.course-card--reviews-text--12UpL')\n",
    "        try:\n",
    "            for i in range(len(title_li)):\n",
    "                # 데이터시리즈 생성\n",
    "                title.append(title_li[i].text)\n",
    "                summary.append(subtitle_li[i].text)\n",
    "                score.append(score_li[i].text)\n",
    "        except IndexError as e:\n",
    "            print('평점이 없습니다.')\n",
    "            print('error : \\n', e)\n",
    "            continue\n",
    "            # 데이터프레임 생성    \n",
    "        global udemy_df\n",
    "        udemy_df= pd.DataFrame(list(zip(title,summary,score)), columns = ['Title','Summary','Score'])\n",
    "    drive.quit()"
   ]
  },
  {
   "cell_type": "markdown",
   "metadata": {},
   "source": [
    "### Keyword : Python "
   ]
  },
  {
   "cell_type": "code",
   "execution_count": 155,
   "metadata": {},
   "outputs": [
    {
     "name": "stdout",
     "output_type": "stream",
     "text": [
      "데이터를 수집중입니다. (진행률 : 1/5)\n",
      "데이터를 수집중입니다. (진행률 : 2/5)\n",
      "데이터를 수집중입니다. (진행률 : 3/5)\n",
      "데이터를 수집중입니다. (진행률 : 4/5)\n",
      "데이터를 수집중입니다. (진행률 : 5/5)\n"
     ]
    }
   ],
   "source": [
    "udemy_scrapper('Python')"
   ]
  },
  {
   "cell_type": "code",
   "execution_count": 156,
   "metadata": {},
   "outputs": [
    {
     "data": {
      "text/html": [
       "<div>\n",
       "<style scoped>\n",
       "    .dataframe tbody tr th:only-of-type {\n",
       "        vertical-align: middle;\n",
       "    }\n",
       "\n",
       "    .dataframe tbody tr th {\n",
       "        vertical-align: top;\n",
       "    }\n",
       "\n",
       "    .dataframe thead th {\n",
       "        text-align: right;\n",
       "    }\n",
       "</style>\n",
       "<table border=\"1\" class=\"dataframe\">\n",
       "  <thead>\n",
       "    <tr style=\"text-align: right;\">\n",
       "      <th></th>\n",
       "      <th>Title</th>\n",
       "      <th>Summary</th>\n",
       "      <th>Score</th>\n",
       "    </tr>\n",
       "  </thead>\n",
       "  <tbody>\n",
       "    <tr>\n",
       "      <td>0</td>\n",
       "      <td>2020 Complete Python Bootcamp: From Zero to He...</td>\n",
       "      <td>Learn Python like a Professional! Start from t...</td>\n",
       "      <td>(316,595)</td>\n",
       "    </tr>\n",
       "    <tr>\n",
       "      <td>1</td>\n",
       "      <td>Machine Learning A-Z™: Hands-On Python &amp; R In ...</td>\n",
       "      <td>Learn to create Machine Learning Algorithms in...</td>\n",
       "      <td>(131,812)</td>\n",
       "    </tr>\n",
       "    <tr>\n",
       "      <td>2</td>\n",
       "      <td>Python for Data Science and Machine Learning B...</td>\n",
       "      <td>Learn how to use NumPy, Pandas, Seaborn , Matp...</td>\n",
       "      <td>(86,960)</td>\n",
       "    </tr>\n",
       "    <tr>\n",
       "      <td>3</td>\n",
       "      <td>The Data Science Course 2020: Complete Data Sc...</td>\n",
       "      <td>Complete Data Science Training: Mathematics, S...</td>\n",
       "      <td>(76,353)</td>\n",
       "    </tr>\n",
       "    <tr>\n",
       "      <td>4</td>\n",
       "      <td>Automate the Boring Stuff with Python Programming</td>\n",
       "      <td>A practical programming course for office work...</td>\n",
       "      <td>(70,072)</td>\n",
       "    </tr>\n",
       "    <tr>\n",
       "      <td>...</td>\n",
       "      <td>...</td>\n",
       "      <td>...</td>\n",
       "      <td>...</td>\n",
       "    </tr>\n",
       "    <tr>\n",
       "      <td>95</td>\n",
       "      <td>Complete Python 3 Masterclass Journey</td>\n",
       "      <td>Master Python 3! Use story based learning to g...</td>\n",
       "      <td>(2,427)</td>\n",
       "    </tr>\n",
       "    <tr>\n",
       "      <td>96</td>\n",
       "      <td>Learn Python MADE EASY : A Concise Python Cour...</td>\n",
       "      <td>Python for beginners. Python for data science....</td>\n",
       "      <td>(2,398)</td>\n",
       "    </tr>\n",
       "    <tr>\n",
       "      <td>97</td>\n",
       "      <td>Modern Deep Learning in Python</td>\n",
       "      <td>Build with modern libraries like Tensorflow, T...</td>\n",
       "      <td>(2,364)</td>\n",
       "    </tr>\n",
       "    <tr>\n",
       "      <td>98</td>\n",
       "      <td>Scrapy: Powerful Web Scraping &amp; Crawling with ...</td>\n",
       "      <td>Python Scrapy Tutorial - Learn how to scrape w...</td>\n",
       "      <td>(2,243)</td>\n",
       "    </tr>\n",
       "    <tr>\n",
       "      <td>99</td>\n",
       "      <td>Complete 2020 Data Science &amp; Machine Learning ...</td>\n",
       "      <td>Learn Python, Tensorflow, Deep Learning, Regre...</td>\n",
       "      <td>(2,245)</td>\n",
       "    </tr>\n",
       "  </tbody>\n",
       "</table>\n",
       "<p>100 rows × 3 columns</p>\n",
       "</div>"
      ],
      "text/plain": [
       "                                                Title  \\\n",
       "0   2020 Complete Python Bootcamp: From Zero to He...   \n",
       "1   Machine Learning A-Z™: Hands-On Python & R In ...   \n",
       "2   Python for Data Science and Machine Learning B...   \n",
       "3   The Data Science Course 2020: Complete Data Sc...   \n",
       "4   Automate the Boring Stuff with Python Programming   \n",
       "..                                                ...   \n",
       "95              Complete Python 3 Masterclass Journey   \n",
       "96  Learn Python MADE EASY : A Concise Python Cour...   \n",
       "97                     Modern Deep Learning in Python   \n",
       "98  Scrapy: Powerful Web Scraping & Crawling with ...   \n",
       "99  Complete 2020 Data Science & Machine Learning ...   \n",
       "\n",
       "                                              Summary      Score  \n",
       "0   Learn Python like a Professional! Start from t...  (316,595)  \n",
       "1   Learn to create Machine Learning Algorithms in...  (131,812)  \n",
       "2   Learn how to use NumPy, Pandas, Seaborn , Matp...   (86,960)  \n",
       "3   Complete Data Science Training: Mathematics, S...   (76,353)  \n",
       "4   A practical programming course for office work...   (70,072)  \n",
       "..                                                ...        ...  \n",
       "95  Master Python 3! Use story based learning to g...    (2,427)  \n",
       "96  Python for beginners. Python for data science....    (2,398)  \n",
       "97  Build with modern libraries like Tensorflow, T...    (2,364)  \n",
       "98  Python Scrapy Tutorial - Learn how to scrape w...    (2,243)  \n",
       "99  Learn Python, Tensorflow, Deep Learning, Regre...    (2,245)  \n",
       "\n",
       "[100 rows x 3 columns]"
      ]
     },
     "execution_count": 156,
     "metadata": {},
     "output_type": "execute_result"
    }
   ],
   "source": [
    "udemy_df"
   ]
  },
  {
   "cell_type": "code",
   "execution_count": 158,
   "metadata": {},
   "outputs": [],
   "source": [
    "udemy_df.to_excel('./udemy_data.xlsx')"
   ]
  },
  {
   "cell_type": "markdown",
   "metadata": {},
   "source": [
    "### Keyword : Security"
   ]
  },
  {
   "cell_type": "code",
   "execution_count": 212,
   "metadata": {},
   "outputs": [
    {
     "name": "stdout",
     "output_type": "stream",
     "text": [
      "데이터를 수집중입니다. (진행률 : 1/5)\n",
      "데이터를 수집중입니다. (진행률 : 2/5)\n",
      "데이터를 수집중입니다. (진행률 : 3/5)\n",
      "데이터를 수집중입니다. (진행률 : 4/5)\n",
      "데이터를 수집중입니다. (진행률 : 5/5)\n"
     ]
    }
   ],
   "source": [
    "udemy_scrapper('security')"
   ]
  },
  {
   "cell_type": "code",
   "execution_count": 214,
   "metadata": {},
   "outputs": [
    {
     "data": {
      "text/html": [
       "<div>\n",
       "<style scoped>\n",
       "    .dataframe tbody tr th:only-of-type {\n",
       "        vertical-align: middle;\n",
       "    }\n",
       "\n",
       "    .dataframe tbody tr th {\n",
       "        vertical-align: top;\n",
       "    }\n",
       "\n",
       "    .dataframe thead th {\n",
       "        text-align: right;\n",
       "    }\n",
       "</style>\n",
       "<table border=\"1\" class=\"dataframe\">\n",
       "  <thead>\n",
       "    <tr style=\"text-align: right;\">\n",
       "      <th></th>\n",
       "      <th>Title</th>\n",
       "      <th>Summary</th>\n",
       "      <th>Score</th>\n",
       "    </tr>\n",
       "  </thead>\n",
       "  <tbody>\n",
       "    <tr>\n",
       "      <td>0</td>\n",
       "      <td>Learn Ethical Hacking From Scratch</td>\n",
       "      <td>Become an ethical hacker that can hack compute...</td>\n",
       "      <td>(83,898)</td>\n",
       "    </tr>\n",
       "    <tr>\n",
       "      <td>1</td>\n",
       "      <td>CCSO - Certified Cloud Security Officer</td>\n",
       "      <td>Prepare for the Mile2® Certified Cloud Securit...</td>\n",
       "      <td>(594)</td>\n",
       "    </tr>\n",
       "    <tr>\n",
       "      <td>2</td>\n",
       "      <td>The Complete Cyber Security Course : Anonymous...</td>\n",
       "      <td>Volume 3 : Become a Cyber Security Specialist,...</td>\n",
       "      <td>(3,411)</td>\n",
       "    </tr>\n",
       "    <tr>\n",
       "      <td>3</td>\n",
       "      <td>The Absolute Beginners Guide to Cyber Security...</td>\n",
       "      <td>Learn about Networking, Malware, Encryption, V...</td>\n",
       "      <td>(2,546)</td>\n",
       "    </tr>\n",
       "    <tr>\n",
       "      <td>4</td>\n",
       "      <td>The Absolute Beginners Guide to Cyber Security...</td>\n",
       "      <td>Learn Cyber Security concepts such as hacking,...</td>\n",
       "      <td>(12,308)</td>\n",
       "    </tr>\n",
       "    <tr>\n",
       "      <td>...</td>\n",
       "      <td>...</td>\n",
       "      <td>...</td>\n",
       "      <td>...</td>\n",
       "    </tr>\n",
       "    <tr>\n",
       "      <td>93</td>\n",
       "      <td>Cisco CyberOps Associate CBROPS 200-201: Part ...</td>\n",
       "      <td>Learn Cyber Security and prepare for your Cisc...</td>\n",
       "      <td>(188)</td>\n",
       "    </tr>\n",
       "    <tr>\n",
       "      <td>94</td>\n",
       "      <td>SAP Security Training for all</td>\n",
       "      <td>An practical guide to learning SAP security. b...</td>\n",
       "      <td>(162)</td>\n",
       "    </tr>\n",
       "    <tr>\n",
       "      <td>95</td>\n",
       "      <td>SAP Cyber Security</td>\n",
       "      <td>SAP Cyber Security beyond Segregation of Dutie...</td>\n",
       "      <td>(155)</td>\n",
       "    </tr>\n",
       "    <tr>\n",
       "      <td>96</td>\n",
       "      <td>Become a Professional Penetration Tester</td>\n",
       "      <td>If you want to continue your career as an info...</td>\n",
       "      <td>(21)</td>\n",
       "    </tr>\n",
       "    <tr>\n",
       "      <td>97</td>\n",
       "      <td>Advanced Architecting on AWS</td>\n",
       "      <td>Learn how to build complex AWS solutions incor...</td>\n",
       "      <td>(170)</td>\n",
       "    </tr>\n",
       "  </tbody>\n",
       "</table>\n",
       "<p>98 rows × 3 columns</p>\n",
       "</div>"
      ],
      "text/plain": [
       "                                                Title  \\\n",
       "0                  Learn Ethical Hacking From Scratch   \n",
       "1             CCSO - Certified Cloud Security Officer   \n",
       "2   The Complete Cyber Security Course : Anonymous...   \n",
       "3   The Absolute Beginners Guide to Cyber Security...   \n",
       "4   The Absolute Beginners Guide to Cyber Security...   \n",
       "..                                                ...   \n",
       "93  Cisco CyberOps Associate CBROPS 200-201: Part ...   \n",
       "94                      SAP Security Training for all   \n",
       "95                                 SAP Cyber Security   \n",
       "96           Become a Professional Penetration Tester   \n",
       "97                       Advanced Architecting on AWS   \n",
       "\n",
       "                                              Summary     Score  \n",
       "0   Become an ethical hacker that can hack compute...  (83,898)  \n",
       "1   Prepare for the Mile2® Certified Cloud Securit...     (594)  \n",
       "2   Volume 3 : Become a Cyber Security Specialist,...   (3,411)  \n",
       "3   Learn about Networking, Malware, Encryption, V...   (2,546)  \n",
       "4   Learn Cyber Security concepts such as hacking,...  (12,308)  \n",
       "..                                                ...       ...  \n",
       "93  Learn Cyber Security and prepare for your Cisc...     (188)  \n",
       "94  An practical guide to learning SAP security. b...     (162)  \n",
       "95  SAP Cyber Security beyond Segregation of Dutie...     (155)  \n",
       "96  If you want to continue your career as an info...      (21)  \n",
       "97  Learn how to build complex AWS solutions incor...     (170)  \n",
       "\n",
       "[98 rows x 3 columns]"
      ]
     },
     "execution_count": 214,
     "metadata": {},
     "output_type": "execute_result"
    }
   ],
   "source": [
    "udemy_df"
   ]
  },
  {
   "cell_type": "markdown",
   "metadata": {},
   "source": [
    "### Keyword : Deep Learning"
   ]
  },
  {
   "cell_type": "code",
   "execution_count": null,
   "metadata": {},
   "outputs": [],
   "source": [
    "udemy_scrapper('Deeplearning')"
   ]
  },
  {
   "cell_type": "code",
   "execution_count": null,
   "metadata": {},
   "outputs": [],
   "source": [
    "udemy_scrapper('Deeplearning')"
   ]
  },
  {
   "cell_type": "code",
   "execution_count": 199,
   "metadata": {},
   "outputs": [],
   "source": [
    "udemy_df.to_excel('./udemy_DeepLearning.xlsx')"
   ]
  },
  {
   "cell_type": "markdown",
   "metadata": {},
   "source": [
    "### Keyword : JavaScript"
   ]
  },
  {
   "cell_type": "code",
   "execution_count": 162,
   "metadata": {},
   "outputs": [
    {
     "name": "stdout",
     "output_type": "stream",
     "text": [
      "데이터를 수집중입니다. (진행률 : 1/5)\n",
      "데이터를 수집중입니다. (진행률 : 2/5)\n",
      "데이터를 수집중입니다. (진행률 : 3/5)\n",
      "데이터를 수집중입니다. (진행률 : 4/5)\n",
      "데이터를 수집중입니다. (진행률 : 5/5)\n"
     ]
    }
   ],
   "source": [
    "udemy_scrapper('JavaScript')"
   ]
  },
  {
   "cell_type": "code",
   "execution_count": 184,
   "metadata": {},
   "outputs": [
    {
     "data": {
      "text/html": [
       "<div>\n",
       "<style scoped>\n",
       "    .dataframe tbody tr th:only-of-type {\n",
       "        vertical-align: middle;\n",
       "    }\n",
       "\n",
       "    .dataframe tbody tr th {\n",
       "        vertical-align: top;\n",
       "    }\n",
       "\n",
       "    .dataframe thead th {\n",
       "        text-align: right;\n",
       "    }\n",
       "</style>\n",
       "<table border=\"1\" class=\"dataframe\">\n",
       "  <thead>\n",
       "    <tr style=\"text-align: right;\">\n",
       "      <th></th>\n",
       "      <th>Title</th>\n",
       "      <th>Summary</th>\n",
       "      <th>Score</th>\n",
       "    </tr>\n",
       "  </thead>\n",
       "  <tbody>\n",
       "    <tr>\n",
       "      <td>0</td>\n",
       "      <td>Mastering Data Structures &amp; Algorithms using C...</td>\n",
       "      <td>Learn, Analyse and Implement Data Structure us...</td>\n",
       "      <td>(11,955)</td>\n",
       "    </tr>\n",
       "    <tr>\n",
       "      <td>1</td>\n",
       "      <td>Microcontroller Embedded C Programming: absolu...</td>\n",
       "      <td>Foundation course on Embedded C programming us...</td>\n",
       "      <td>(2,288)</td>\n",
       "    </tr>\n",
       "    <tr>\n",
       "      <td>2</td>\n",
       "      <td>Advanced C Programming: Pointers</td>\n",
       "      <td>Master pointers, addresses and memory allocati...</td>\n",
       "      <td>(1,920)</td>\n",
       "    </tr>\n",
       "    <tr>\n",
       "      <td>3</td>\n",
       "      <td>Programming for Complete Beginners in C#</td>\n",
       "      <td>Learning to code C#? We have provided HD video...</td>\n",
       "      <td>(1,866)</td>\n",
       "    </tr>\n",
       "    <tr>\n",
       "      <td>4</td>\n",
       "      <td>C Programming for Beginners - ULTIMATE Course ...</td>\n",
       "      <td>C Programming will allow to Master the Fundame...</td>\n",
       "      <td>(1,483)</td>\n",
       "    </tr>\n",
       "    <tr>\n",
       "      <td>...</td>\n",
       "      <td>...</td>\n",
       "      <td>...</td>\n",
       "      <td>...</td>\n",
       "    </tr>\n",
       "    <tr>\n",
       "      <td>95</td>\n",
       "      <td>LEED AP BD+C Practice Exams| Full-Length V4 Pr...</td>\n",
       "      <td>Test and reinforce your knowledge and ensure f...</td>\n",
       "      <td>(9)</td>\n",
       "    </tr>\n",
       "    <tr>\n",
       "      <td>96</td>\n",
       "      <td>SAP HANA Obtén la certificación internacional ...</td>\n",
       "      <td>Certítificate y trabaja en cualquier parte del...</td>\n",
       "      <td>(1)</td>\n",
       "    </tr>\n",
       "    <tr>\n",
       "      <td>97</td>\n",
       "      <td>Learn C Language</td>\n",
       "      <td>C FOR BEGINNER'S</td>\n",
       "      <td>(2)</td>\n",
       "    </tr>\n",
       "    <tr>\n",
       "      <td>98</td>\n",
       "      <td>C Programming Language Basic to Advanced for B...</td>\n",
       "      <td>Latest 2020 C Programming Course, Basic to Adv...</td>\n",
       "      <td>(2)</td>\n",
       "    </tr>\n",
       "    <tr>\n",
       "      <td>99</td>\n",
       "      <td>C Programming</td>\n",
       "      <td>Learning C Language, Fast and Easy</td>\n",
       "      <td>(2)</td>\n",
       "    </tr>\n",
       "  </tbody>\n",
       "</table>\n",
       "<p>100 rows × 3 columns</p>\n",
       "</div>"
      ],
      "text/plain": [
       "                                                Title  \\\n",
       "0   Mastering Data Structures & Algorithms using C...   \n",
       "1   Microcontroller Embedded C Programming: absolu...   \n",
       "2                    Advanced C Programming: Pointers   \n",
       "3            Programming for Complete Beginners in C#   \n",
       "4   C Programming for Beginners - ULTIMATE Course ...   \n",
       "..                                                ...   \n",
       "95  LEED AP BD+C Practice Exams| Full-Length V4 Pr...   \n",
       "96  SAP HANA Obtén la certificación internacional ...   \n",
       "97                                   Learn C Language   \n",
       "98  C Programming Language Basic to Advanced for B...   \n",
       "99                                      C Programming   \n",
       "\n",
       "                                              Summary     Score  \n",
       "0   Learn, Analyse and Implement Data Structure us...  (11,955)  \n",
       "1   Foundation course on Embedded C programming us...   (2,288)  \n",
       "2   Master pointers, addresses and memory allocati...   (1,920)  \n",
       "3   Learning to code C#? We have provided HD video...   (1,866)  \n",
       "4   C Programming will allow to Master the Fundame...   (1,483)  \n",
       "..                                                ...       ...  \n",
       "95  Test and reinforce your knowledge and ensure f...       (9)  \n",
       "96  Certítificate y trabaja en cualquier parte del...       (1)  \n",
       "97                                   C FOR BEGINNER'S       (2)  \n",
       "98  Latest 2020 C Programming Course, Basic to Adv...       (2)  \n",
       "99                 Learning C Language, Fast and Easy       (2)  \n",
       "\n",
       "[100 rows x 3 columns]"
      ]
     },
     "execution_count": 184,
     "metadata": {},
     "output_type": "execute_result"
    }
   ],
   "source": [
    "udemy_df"
   ]
  },
  {
   "cell_type": "code",
   "execution_count": 164,
   "metadata": {},
   "outputs": [],
   "source": [
    "udemy_df.to_excel('./udemy_JavaScript.xlsx')"
   ]
  }
 ],
 "metadata": {
  "kernelspec": {
   "display_name": "Python 3",
   "language": "python",
   "name": "python3"
  },
  "language_info": {
   "codemirror_mode": {
    "name": "ipython",
    "version": 3
   },
   "file_extension": ".py",
   "mimetype": "text/x-python",
   "name": "python",
   "nbconvert_exporter": "python",
   "pygments_lexer": "ipython3",
   "version": "3.7.4"
  }
 },
 "nbformat": 4,
 "nbformat_minor": 2
}
