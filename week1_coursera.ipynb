{
  "nbformat": 4,
  "nbformat_minor": 0,
  "metadata": {
    "colab": {
      "name": "week1_coursera.ipynb",
      "provenance": [],
      "toc_visible": true,
      "authorship_tag": "ABX9TyNmwJHcSIXvoVWqlOt7Jk9+",
      "include_colab_link": true
    },
    "kernelspec": {
      "name": "python3",
      "display_name": "Python 3"
    }
  },
  "cells": [
    {
      "cell_type": "markdown",
      "metadata": {
        "id": "view-in-github",
        "colab_type": "text"
      },
      "source": [
        "<a href=\"https://colab.research.google.com/github/seungwon0601/fastcampus_lop/blob/master/week1_coursera.ipynb\" target=\"_parent\"><img src=\"https://colab.research.google.com/assets/colab-badge.svg\" alt=\"Open In Colab\"/></a>"
      ]
    },
    {
      "cell_type": "markdown",
      "metadata": {
        "id": "8FMcfOqh-0tq",
        "colab_type": "text"
      },
      "source": [
        "# Project - Week 1. What are the popular courses in Coursera?\n",
        "This is Data Analysis Project with Coursera course dataset(kaggle).\n",
        "\n",
        "- First, Let's look at Coursera courses related to 'Data'\n",
        "- And then Look at the entire courses by programming language(or Frameworks)\n",
        "- Then by type(field or sector)\n"
      ]
    },
    {
      "cell_type": "code",
      "metadata": {
        "id": "IZmuHIqW9ECg",
        "colab_type": "code",
        "colab": {}
      },
      "source": [
        "import pandas as pd\n",
        "import numpy as np"
      ],
      "execution_count": 1,
      "outputs": []
    },
    {
      "cell_type": "code",
      "metadata": {
        "id": "eyOZ7qz59f51",
        "colab_type": "code",
        "colab": {}
      },
      "source": [
        "data = pd.read_csv('/content/coursea_data.csv')"
      ],
      "execution_count": 2,
      "outputs": []
    },
    {
      "cell_type": "markdown",
      "metadata": {
        "id": "TVMNqo4F95yP",
        "colab_type": "text"
      },
      "source": [
        "## Step 1. Data Selection\n",
        "\n",
        "### Coursera Course Dataset | [Kaggle](https://www.kaggle.com/siddharthm1698/coursera-course-dataset#)\n",
        ">This dataset contains mainly 6 columns and 890 course data. The detailed description:\n",
        "1. **course_title** : Contains the course title.\n",
        "2. **course_organization** : It tells which organization is conducting the courses.\n",
        "3. **courseCertificatetype** : It has details about what are the different certifications available in courses.\n",
        "4. **course_rating** : It has the ratings associated with each course.\n",
        "5. **course_difficulty** : It tells about how difficult or what is the level of the course.\n",
        "6. **coursestudentsenrolled** : It has the number of students that are enrolled in the course."
      ]
    },
    {
      "cell_type": "markdown",
      "metadata": {
        "id": "icmhGPD9-lcU",
        "colab_type": "text"
      },
      "source": [
        "## Step 2. Data Lookup"
      ]
    },
    {
      "cell_type": "code",
      "metadata": {
        "id": "eOzP9bwb9lUV",
        "colab_type": "code",
        "colab": {
          "base_uri": "https://localhost:8080/",
          "height": 411
        },
        "outputId": "9c236023-376f-4dcb-88a2-0a3a0a554894"
      },
      "source": [
        "# columns를 조회합니다.\n",
        "data.head()"
      ],
      "execution_count": 3,
      "outputs": [
        {
          "output_type": "execute_result",
          "data": {
            "text/html": [
              "<div>\n",
              "<style scoped>\n",
              "    .dataframe tbody tr th:only-of-type {\n",
              "        vertical-align: middle;\n",
              "    }\n",
              "\n",
              "    .dataframe tbody tr th {\n",
              "        vertical-align: top;\n",
              "    }\n",
              "\n",
              "    .dataframe thead th {\n",
              "        text-align: right;\n",
              "    }\n",
              "</style>\n",
              "<table border=\"1\" class=\"dataframe\">\n",
              "  <thead>\n",
              "    <tr style=\"text-align: right;\">\n",
              "      <th></th>\n",
              "      <th>Unnamed: 0</th>\n",
              "      <th>course_title</th>\n",
              "      <th>course_organization</th>\n",
              "      <th>course_Certificate_type</th>\n",
              "      <th>course_rating</th>\n",
              "      <th>course_difficulty</th>\n",
              "      <th>course_students_enrolled</th>\n",
              "    </tr>\n",
              "  </thead>\n",
              "  <tbody>\n",
              "    <tr>\n",
              "      <th>0</th>\n",
              "      <td>134</td>\n",
              "      <td>(ISC)² Systems Security Certified Practitioner...</td>\n",
              "      <td>(ISC)²</td>\n",
              "      <td>SPECIALIZATION</td>\n",
              "      <td>4.7</td>\n",
              "      <td>Beginner</td>\n",
              "      <td>5.3k</td>\n",
              "    </tr>\n",
              "    <tr>\n",
              "      <th>1</th>\n",
              "      <td>743</td>\n",
              "      <td>A Crash Course in Causality:  Inferring Causal...</td>\n",
              "      <td>University of Pennsylvania</td>\n",
              "      <td>COURSE</td>\n",
              "      <td>4.7</td>\n",
              "      <td>Intermediate</td>\n",
              "      <td>17k</td>\n",
              "    </tr>\n",
              "    <tr>\n",
              "      <th>2</th>\n",
              "      <td>874</td>\n",
              "      <td>A Crash Course in Data Science</td>\n",
              "      <td>Johns Hopkins University</td>\n",
              "      <td>COURSE</td>\n",
              "      <td>4.5</td>\n",
              "      <td>Mixed</td>\n",
              "      <td>130k</td>\n",
              "    </tr>\n",
              "    <tr>\n",
              "      <th>3</th>\n",
              "      <td>413</td>\n",
              "      <td>A Law Student's Toolkit</td>\n",
              "      <td>Yale University</td>\n",
              "      <td>COURSE</td>\n",
              "      <td>4.7</td>\n",
              "      <td>Mixed</td>\n",
              "      <td>91k</td>\n",
              "    </tr>\n",
              "    <tr>\n",
              "      <th>4</th>\n",
              "      <td>635</td>\n",
              "      <td>A Life of Happiness and Fulfillment</td>\n",
              "      <td>Indian School of Business</td>\n",
              "      <td>COURSE</td>\n",
              "      <td>4.8</td>\n",
              "      <td>Mixed</td>\n",
              "      <td>320k</td>\n",
              "    </tr>\n",
              "  </tbody>\n",
              "</table>\n",
              "</div>"
            ],
            "text/plain": [
              "   Unnamed: 0  ... course_students_enrolled\n",
              "0         134  ...                     5.3k\n",
              "1         743  ...                      17k\n",
              "2         874  ...                     130k\n",
              "3         413  ...                      91k\n",
              "4         635  ...                     320k\n",
              "\n",
              "[5 rows x 7 columns]"
            ]
          },
          "metadata": {
            "tags": []
          },
          "execution_count": 3
        }
      ]
    },
    {
      "cell_type": "code",
      "metadata": {
        "id": "uXt6_YPA9xxC",
        "colab_type": "code",
        "colab": {
          "base_uri": "https://localhost:8080/",
          "height": 419
        },
        "outputId": "77916115-5f91-413c-e6cf-d56b8a95553a"
      },
      "source": [
        "# 분석에 필요한 데이터만 요약합니다.\n",
        "data[['course_title','course_rating','course_difficulty','course_students_enrolled']]"
      ],
      "execution_count": 4,
      "outputs": [
        {
          "output_type": "execute_result",
          "data": {
            "text/html": [
              "<div>\n",
              "<style scoped>\n",
              "    .dataframe tbody tr th:only-of-type {\n",
              "        vertical-align: middle;\n",
              "    }\n",
              "\n",
              "    .dataframe tbody tr th {\n",
              "        vertical-align: top;\n",
              "    }\n",
              "\n",
              "    .dataframe thead th {\n",
              "        text-align: right;\n",
              "    }\n",
              "</style>\n",
              "<table border=\"1\" class=\"dataframe\">\n",
              "  <thead>\n",
              "    <tr style=\"text-align: right;\">\n",
              "      <th></th>\n",
              "      <th>course_title</th>\n",
              "      <th>course_rating</th>\n",
              "      <th>course_difficulty</th>\n",
              "      <th>course_students_enrolled</th>\n",
              "    </tr>\n",
              "  </thead>\n",
              "  <tbody>\n",
              "    <tr>\n",
              "      <th>0</th>\n",
              "      <td>(ISC)² Systems Security Certified Practitioner...</td>\n",
              "      <td>4.7</td>\n",
              "      <td>Beginner</td>\n",
              "      <td>5.3k</td>\n",
              "    </tr>\n",
              "    <tr>\n",
              "      <th>1</th>\n",
              "      <td>A Crash Course in Causality:  Inferring Causal...</td>\n",
              "      <td>4.7</td>\n",
              "      <td>Intermediate</td>\n",
              "      <td>17k</td>\n",
              "    </tr>\n",
              "    <tr>\n",
              "      <th>2</th>\n",
              "      <td>A Crash Course in Data Science</td>\n",
              "      <td>4.5</td>\n",
              "      <td>Mixed</td>\n",
              "      <td>130k</td>\n",
              "    </tr>\n",
              "    <tr>\n",
              "      <th>3</th>\n",
              "      <td>A Law Student's Toolkit</td>\n",
              "      <td>4.7</td>\n",
              "      <td>Mixed</td>\n",
              "      <td>91k</td>\n",
              "    </tr>\n",
              "    <tr>\n",
              "      <th>4</th>\n",
              "      <td>A Life of Happiness and Fulfillment</td>\n",
              "      <td>4.8</td>\n",
              "      <td>Mixed</td>\n",
              "      <td>320k</td>\n",
              "    </tr>\n",
              "    <tr>\n",
              "      <th>...</th>\n",
              "      <td>...</td>\n",
              "      <td>...</td>\n",
              "      <td>...</td>\n",
              "      <td>...</td>\n",
              "    </tr>\n",
              "    <tr>\n",
              "      <th>886</th>\n",
              "      <td>Программирование на Python</td>\n",
              "      <td>4.5</td>\n",
              "      <td>Intermediate</td>\n",
              "      <td>52k</td>\n",
              "    </tr>\n",
              "    <tr>\n",
              "      <th>887</th>\n",
              "      <td>Психолингвистика (Psycholinguistics)</td>\n",
              "      <td>4.8</td>\n",
              "      <td>Mixed</td>\n",
              "      <td>21k</td>\n",
              "    </tr>\n",
              "    <tr>\n",
              "      <th>888</th>\n",
              "      <td>Разработка интерфейсов: вёрстка и JavaScript</td>\n",
              "      <td>4.5</td>\n",
              "      <td>Intermediate</td>\n",
              "      <td>30k</td>\n",
              "    </tr>\n",
              "    <tr>\n",
              "      <th>889</th>\n",
              "      <td>Русский как иностранный</td>\n",
              "      <td>4.6</td>\n",
              "      <td>Intermediate</td>\n",
              "      <td>9.8k</td>\n",
              "    </tr>\n",
              "    <tr>\n",
              "      <th>890</th>\n",
              "      <td>Финансовые инструменты для частного инвестора</td>\n",
              "      <td>4.7</td>\n",
              "      <td>Beginner</td>\n",
              "      <td>38k</td>\n",
              "    </tr>\n",
              "  </tbody>\n",
              "</table>\n",
              "<p>891 rows × 4 columns</p>\n",
              "</div>"
            ],
            "text/plain": [
              "                                          course_title  ...  course_students_enrolled\n",
              "0    (ISC)² Systems Security Certified Practitioner...  ...                      5.3k\n",
              "1    A Crash Course in Causality:  Inferring Causal...  ...                       17k\n",
              "2                       A Crash Course in Data Science  ...                      130k\n",
              "3                              A Law Student's Toolkit  ...                       91k\n",
              "4                  A Life of Happiness and Fulfillment  ...                      320k\n",
              "..                                                 ...  ...                       ...\n",
              "886                         Программирование на Python  ...                       52k\n",
              "887               Психолингвистика (Psycholinguistics)  ...                       21k\n",
              "888       Разработка интерфейсов: вёрстка и JavaScript  ...                       30k\n",
              "889                            Русский как иностранный  ...                      9.8k\n",
              "890      Финансовые инструменты для частного инвестора  ...                       38k\n",
              "\n",
              "[891 rows x 4 columns]"
            ]
          },
          "metadata": {
            "tags": []
          },
          "execution_count": 4
        }
      ]
    },
    {
      "cell_type": "markdown",
      "metadata": {
        "id": "76-aRTWADWvU",
        "colab_type": "text"
      },
      "source": [
        "## Step 3. Create DataFrame"
      ]
    },
    {
      "cell_type": "code",
      "metadata": {
        "id": "KdQURhjqBMyI",
        "colab_type": "code",
        "colab": {
          "base_uri": "https://localhost:8080/",
          "height": 419
        },
        "outputId": "ca25993d-1423-4dd1-9f89-f3275ce1c046"
      },
      "source": [
        "# 데이터프레임을 만들어봅니다.\n",
        "df = pd.DataFrame(data[['course_title','course_rating','course_difficulty','course_students_enrolled']])\n",
        "df"
      ],
      "execution_count": 5,
      "outputs": [
        {
          "output_type": "execute_result",
          "data": {
            "text/html": [
              "<div>\n",
              "<style scoped>\n",
              "    .dataframe tbody tr th:only-of-type {\n",
              "        vertical-align: middle;\n",
              "    }\n",
              "\n",
              "    .dataframe tbody tr th {\n",
              "        vertical-align: top;\n",
              "    }\n",
              "\n",
              "    .dataframe thead th {\n",
              "        text-align: right;\n",
              "    }\n",
              "</style>\n",
              "<table border=\"1\" class=\"dataframe\">\n",
              "  <thead>\n",
              "    <tr style=\"text-align: right;\">\n",
              "      <th></th>\n",
              "      <th>course_title</th>\n",
              "      <th>course_rating</th>\n",
              "      <th>course_difficulty</th>\n",
              "      <th>course_students_enrolled</th>\n",
              "    </tr>\n",
              "  </thead>\n",
              "  <tbody>\n",
              "    <tr>\n",
              "      <th>0</th>\n",
              "      <td>(ISC)² Systems Security Certified Practitioner...</td>\n",
              "      <td>4.7</td>\n",
              "      <td>Beginner</td>\n",
              "      <td>5.3k</td>\n",
              "    </tr>\n",
              "    <tr>\n",
              "      <th>1</th>\n",
              "      <td>A Crash Course in Causality:  Inferring Causal...</td>\n",
              "      <td>4.7</td>\n",
              "      <td>Intermediate</td>\n",
              "      <td>17k</td>\n",
              "    </tr>\n",
              "    <tr>\n",
              "      <th>2</th>\n",
              "      <td>A Crash Course in Data Science</td>\n",
              "      <td>4.5</td>\n",
              "      <td>Mixed</td>\n",
              "      <td>130k</td>\n",
              "    </tr>\n",
              "    <tr>\n",
              "      <th>3</th>\n",
              "      <td>A Law Student's Toolkit</td>\n",
              "      <td>4.7</td>\n",
              "      <td>Mixed</td>\n",
              "      <td>91k</td>\n",
              "    </tr>\n",
              "    <tr>\n",
              "      <th>4</th>\n",
              "      <td>A Life of Happiness and Fulfillment</td>\n",
              "      <td>4.8</td>\n",
              "      <td>Mixed</td>\n",
              "      <td>320k</td>\n",
              "    </tr>\n",
              "    <tr>\n",
              "      <th>...</th>\n",
              "      <td>...</td>\n",
              "      <td>...</td>\n",
              "      <td>...</td>\n",
              "      <td>...</td>\n",
              "    </tr>\n",
              "    <tr>\n",
              "      <th>886</th>\n",
              "      <td>Программирование на Python</td>\n",
              "      <td>4.5</td>\n",
              "      <td>Intermediate</td>\n",
              "      <td>52k</td>\n",
              "    </tr>\n",
              "    <tr>\n",
              "      <th>887</th>\n",
              "      <td>Психолингвистика (Psycholinguistics)</td>\n",
              "      <td>4.8</td>\n",
              "      <td>Mixed</td>\n",
              "      <td>21k</td>\n",
              "    </tr>\n",
              "    <tr>\n",
              "      <th>888</th>\n",
              "      <td>Разработка интерфейсов: вёрстка и JavaScript</td>\n",
              "      <td>4.5</td>\n",
              "      <td>Intermediate</td>\n",
              "      <td>30k</td>\n",
              "    </tr>\n",
              "    <tr>\n",
              "      <th>889</th>\n",
              "      <td>Русский как иностранный</td>\n",
              "      <td>4.6</td>\n",
              "      <td>Intermediate</td>\n",
              "      <td>9.8k</td>\n",
              "    </tr>\n",
              "    <tr>\n",
              "      <th>890</th>\n",
              "      <td>Финансовые инструменты для частного инвестора</td>\n",
              "      <td>4.7</td>\n",
              "      <td>Beginner</td>\n",
              "      <td>38k</td>\n",
              "    </tr>\n",
              "  </tbody>\n",
              "</table>\n",
              "<p>891 rows × 4 columns</p>\n",
              "</div>"
            ],
            "text/plain": [
              "                                          course_title  ...  course_students_enrolled\n",
              "0    (ISC)² Systems Security Certified Practitioner...  ...                      5.3k\n",
              "1    A Crash Course in Causality:  Inferring Causal...  ...                       17k\n",
              "2                       A Crash Course in Data Science  ...                      130k\n",
              "3                              A Law Student's Toolkit  ...                       91k\n",
              "4                  A Life of Happiness and Fulfillment  ...                      320k\n",
              "..                                                 ...  ...                       ...\n",
              "886                         Программирование на Python  ...                       52k\n",
              "887               Психолингвистика (Psycholinguistics)  ...                       21k\n",
              "888       Разработка интерфейсов: вёрстка и JavaScript  ...                       30k\n",
              "889                            Русский как иностранный  ...                      9.8k\n",
              "890      Финансовые инструменты для частного инвестора  ...                       38k\n",
              "\n",
              "[891 rows x 4 columns]"
            ]
          },
          "metadata": {
            "tags": []
          },
          "execution_count": 5
        }
      ]
    },
    {
      "cell_type": "code",
      "metadata": {
        "id": "38PGyXB2B_HQ",
        "colab_type": "code",
        "colab": {
          "base_uri": "https://localhost:8080/",
          "height": 419
        },
        "outputId": "f40a85dc-8c6c-40d7-ec36-bf63540350a0"
      },
      "source": [
        "df.columns=['title', 'rating', 'level', 'enrolled']\n",
        "df"
      ],
      "execution_count": 6,
      "outputs": [
        {
          "output_type": "execute_result",
          "data": {
            "text/html": [
              "<div>\n",
              "<style scoped>\n",
              "    .dataframe tbody tr th:only-of-type {\n",
              "        vertical-align: middle;\n",
              "    }\n",
              "\n",
              "    .dataframe tbody tr th {\n",
              "        vertical-align: top;\n",
              "    }\n",
              "\n",
              "    .dataframe thead th {\n",
              "        text-align: right;\n",
              "    }\n",
              "</style>\n",
              "<table border=\"1\" class=\"dataframe\">\n",
              "  <thead>\n",
              "    <tr style=\"text-align: right;\">\n",
              "      <th></th>\n",
              "      <th>title</th>\n",
              "      <th>rating</th>\n",
              "      <th>level</th>\n",
              "      <th>enrolled</th>\n",
              "    </tr>\n",
              "  </thead>\n",
              "  <tbody>\n",
              "    <tr>\n",
              "      <th>0</th>\n",
              "      <td>(ISC)² Systems Security Certified Practitioner...</td>\n",
              "      <td>4.7</td>\n",
              "      <td>Beginner</td>\n",
              "      <td>5.3k</td>\n",
              "    </tr>\n",
              "    <tr>\n",
              "      <th>1</th>\n",
              "      <td>A Crash Course in Causality:  Inferring Causal...</td>\n",
              "      <td>4.7</td>\n",
              "      <td>Intermediate</td>\n",
              "      <td>17k</td>\n",
              "    </tr>\n",
              "    <tr>\n",
              "      <th>2</th>\n",
              "      <td>A Crash Course in Data Science</td>\n",
              "      <td>4.5</td>\n",
              "      <td>Mixed</td>\n",
              "      <td>130k</td>\n",
              "    </tr>\n",
              "    <tr>\n",
              "      <th>3</th>\n",
              "      <td>A Law Student's Toolkit</td>\n",
              "      <td>4.7</td>\n",
              "      <td>Mixed</td>\n",
              "      <td>91k</td>\n",
              "    </tr>\n",
              "    <tr>\n",
              "      <th>4</th>\n",
              "      <td>A Life of Happiness and Fulfillment</td>\n",
              "      <td>4.8</td>\n",
              "      <td>Mixed</td>\n",
              "      <td>320k</td>\n",
              "    </tr>\n",
              "    <tr>\n",
              "      <th>...</th>\n",
              "      <td>...</td>\n",
              "      <td>...</td>\n",
              "      <td>...</td>\n",
              "      <td>...</td>\n",
              "    </tr>\n",
              "    <tr>\n",
              "      <th>886</th>\n",
              "      <td>Программирование на Python</td>\n",
              "      <td>4.5</td>\n",
              "      <td>Intermediate</td>\n",
              "      <td>52k</td>\n",
              "    </tr>\n",
              "    <tr>\n",
              "      <th>887</th>\n",
              "      <td>Психолингвистика (Psycholinguistics)</td>\n",
              "      <td>4.8</td>\n",
              "      <td>Mixed</td>\n",
              "      <td>21k</td>\n",
              "    </tr>\n",
              "    <tr>\n",
              "      <th>888</th>\n",
              "      <td>Разработка интерфейсов: вёрстка и JavaScript</td>\n",
              "      <td>4.5</td>\n",
              "      <td>Intermediate</td>\n",
              "      <td>30k</td>\n",
              "    </tr>\n",
              "    <tr>\n",
              "      <th>889</th>\n",
              "      <td>Русский как иностранный</td>\n",
              "      <td>4.6</td>\n",
              "      <td>Intermediate</td>\n",
              "      <td>9.8k</td>\n",
              "    </tr>\n",
              "    <tr>\n",
              "      <th>890</th>\n",
              "      <td>Финансовые инструменты для частного инвестора</td>\n",
              "      <td>4.7</td>\n",
              "      <td>Beginner</td>\n",
              "      <td>38k</td>\n",
              "    </tr>\n",
              "  </tbody>\n",
              "</table>\n",
              "<p>891 rows × 4 columns</p>\n",
              "</div>"
            ],
            "text/plain": [
              "                                                 title  ...  enrolled\n",
              "0    (ISC)² Systems Security Certified Practitioner...  ...      5.3k\n",
              "1    A Crash Course in Causality:  Inferring Causal...  ...       17k\n",
              "2                       A Crash Course in Data Science  ...      130k\n",
              "3                              A Law Student's Toolkit  ...       91k\n",
              "4                  A Life of Happiness and Fulfillment  ...      320k\n",
              "..                                                 ...  ...       ...\n",
              "886                         Программирование на Python  ...       52k\n",
              "887               Психолингвистика (Psycholinguistics)  ...       21k\n",
              "888       Разработка интерфейсов: вёрстка и JavaScript  ...       30k\n",
              "889                            Русский как иностранный  ...      9.8k\n",
              "890      Финансовые инструменты для частного инвестора  ...       38k\n",
              "\n",
              "[891 rows x 4 columns]"
            ]
          },
          "metadata": {
            "tags": []
          },
          "execution_count": 6
        }
      ]
    },
    {
      "cell_type": "markdown",
      "metadata": {
        "id": "B2W_Fen8Cap0",
        "colab_type": "text"
      },
      "source": [
        "## Step 4. Preprocessing"
      ]
    },
    {
      "cell_type": "code",
      "metadata": {
        "id": "-0sFw0yXD9xp",
        "colab_type": "code",
        "colab": {
          "base_uri": "https://localhost:8080/",
          "height": 34
        },
        "outputId": "4f9eddea-ce64-4d9d-9972-411418f2cb6d"
      },
      "source": [
        "# level column 확인\n",
        "df['level'].unique()"
      ],
      "execution_count": 7,
      "outputs": [
        {
          "output_type": "execute_result",
          "data": {
            "text/plain": [
              "array(['Beginner', 'Intermediate', 'Mixed', 'Advanced'], dtype=object)"
            ]
          },
          "metadata": {
            "tags": []
          },
          "execution_count": 7
        }
      ]
    },
    {
      "cell_type": "code",
      "metadata": {
        "id": "jO2lF1_0eexd",
        "colab_type": "code",
        "colab": {}
      },
      "source": [
        "# level column을 숫자형태로 변형합니다.\n",
        "def levels(x):\n",
        "    if x == 'Beginner':\n",
        "        return 1\n",
        "    elif x == 'Mixed':\n",
        "        return 2\n",
        "    elif x == 'Intermediate':\n",
        "        return 3\n",
        "    elif x == 'Advanced':\n",
        "        return 4"
      ],
      "execution_count": 9,
      "outputs": []
    },
    {
      "cell_type": "code",
      "metadata": {
        "id": "4zEoGxQSewAO",
        "colab_type": "code",
        "colab": {
          "base_uri": "https://localhost:8080/",
          "height": 34
        },
        "outputId": "f9fb7176-4076-4895-e79e-03f0f0d8fc61"
      },
      "source": [
        "df['level'] = df['level'].apply(levels)\n",
        "df['level'].unique()"
      ],
      "execution_count": 10,
      "outputs": [
        {
          "output_type": "execute_result",
          "data": {
            "text/plain": [
              "array([1, 3, 2, 4])"
            ]
          },
          "metadata": {
            "tags": []
          },
          "execution_count": 10
        }
      ]
    },
    {
      "cell_type": "code",
      "metadata": {
        "id": "rvxgmxU-QmWO",
        "colab_type": "code",
        "colab": {
          "base_uri": "https://localhost:8080/",
          "height": 221
        },
        "outputId": "85b20896-46be-424c-c2f1-f7bfd405feaf"
      },
      "source": [
        "# enrolled column 확인\n",
        "df['enrolled']"
      ],
      "execution_count": 11,
      "outputs": [
        {
          "output_type": "execute_result",
          "data": {
            "text/plain": [
              "0      5.3k\n",
              "1       17k\n",
              "2      130k\n",
              "3       91k\n",
              "4      320k\n",
              "       ... \n",
              "886     52k\n",
              "887     21k\n",
              "888     30k\n",
              "889    9.8k\n",
              "890     38k\n",
              "Name: enrolled, Length: 891, dtype: object"
            ]
          },
          "metadata": {
            "tags": []
          },
          "execution_count": 11
        }
      ]
    },
    {
      "cell_type": "code",
      "metadata": {
        "id": "WHa7EMxbfKno",
        "colab_type": "code",
        "colab": {}
      },
      "source": [
        "# 단위(k)를 숫자로 변형합니다.\n",
        "def counts(x):\n",
        "    rx = x.replace('k','000')\n",
        "    if '.' in rx:\n",
        "        rx = rx.replace('.','')\n",
        "        rx = rx[:-1]\n",
        "        return int(rx)\n",
        "    return int(rx)"
      ],
      "execution_count": 23,
      "outputs": []
    },
    {
      "cell_type": "code",
      "metadata": {
        "id": "Y4d6jEjYu7BI",
        "colab_type": "code",
        "colab": {
          "base_uri": "https://localhost:8080/",
          "height": 221
        },
        "outputId": "b80f0c8a-8a96-4a42-90e2-55f20b392553"
      },
      "source": [
        "# counts()함수가 잘 동작하는지 테스트합니다.\n",
        "df['enrolled'].apply(counts)"
      ],
      "execution_count": 24,
      "outputs": [
        {
          "output_type": "execute_result",
          "data": {
            "text/plain": [
              "0        5300\n",
              "1       17000\n",
              "2      130000\n",
              "3       91000\n",
              "4      320000\n",
              "        ...  \n",
              "886     52000\n",
              "887     21000\n",
              "888     30000\n",
              "889      9800\n",
              "890     38000\n",
              "Name: enrolled, Length: 891, dtype: int64"
            ]
          },
          "metadata": {
            "tags": []
          },
          "execution_count": 24
        }
      ]
    },
    {
      "cell_type": "code",
      "metadata": {
        "id": "SRmr42z5KtrM",
        "colab_type": "code",
        "colab": {
          "base_uri": "https://localhost:8080/",
          "height": 419
        },
        "outputId": "a178ad55-91ec-4c99-b978-7c7d7c5ef190"
      },
      "source": [
        "# 데이터 프레임에 적용합니다.\n",
        "df['enrolled'] = df['enrolled'].apply(counts)\n",
        "df"
      ],
      "execution_count": 25,
      "outputs": [
        {
          "output_type": "execute_result",
          "data": {
            "text/html": [
              "<div>\n",
              "<style scoped>\n",
              "    .dataframe tbody tr th:only-of-type {\n",
              "        vertical-align: middle;\n",
              "    }\n",
              "\n",
              "    .dataframe tbody tr th {\n",
              "        vertical-align: top;\n",
              "    }\n",
              "\n",
              "    .dataframe thead th {\n",
              "        text-align: right;\n",
              "    }\n",
              "</style>\n",
              "<table border=\"1\" class=\"dataframe\">\n",
              "  <thead>\n",
              "    <tr style=\"text-align: right;\">\n",
              "      <th></th>\n",
              "      <th>title</th>\n",
              "      <th>rating</th>\n",
              "      <th>level</th>\n",
              "      <th>enrolled</th>\n",
              "    </tr>\n",
              "  </thead>\n",
              "  <tbody>\n",
              "    <tr>\n",
              "      <th>0</th>\n",
              "      <td>(ISC)² Systems Security Certified Practitioner...</td>\n",
              "      <td>4.7</td>\n",
              "      <td>1</td>\n",
              "      <td>5300</td>\n",
              "    </tr>\n",
              "    <tr>\n",
              "      <th>1</th>\n",
              "      <td>A Crash Course in Causality:  Inferring Causal...</td>\n",
              "      <td>4.7</td>\n",
              "      <td>3</td>\n",
              "      <td>17000</td>\n",
              "    </tr>\n",
              "    <tr>\n",
              "      <th>2</th>\n",
              "      <td>A Crash Course in Data Science</td>\n",
              "      <td>4.5</td>\n",
              "      <td>2</td>\n",
              "      <td>130000</td>\n",
              "    </tr>\n",
              "    <tr>\n",
              "      <th>3</th>\n",
              "      <td>A Law Student's Toolkit</td>\n",
              "      <td>4.7</td>\n",
              "      <td>2</td>\n",
              "      <td>91000</td>\n",
              "    </tr>\n",
              "    <tr>\n",
              "      <th>4</th>\n",
              "      <td>A Life of Happiness and Fulfillment</td>\n",
              "      <td>4.8</td>\n",
              "      <td>2</td>\n",
              "      <td>320000</td>\n",
              "    </tr>\n",
              "    <tr>\n",
              "      <th>...</th>\n",
              "      <td>...</td>\n",
              "      <td>...</td>\n",
              "      <td>...</td>\n",
              "      <td>...</td>\n",
              "    </tr>\n",
              "    <tr>\n",
              "      <th>886</th>\n",
              "      <td>Программирование на Python</td>\n",
              "      <td>4.5</td>\n",
              "      <td>3</td>\n",
              "      <td>52000</td>\n",
              "    </tr>\n",
              "    <tr>\n",
              "      <th>887</th>\n",
              "      <td>Психолингвистика (Psycholinguistics)</td>\n",
              "      <td>4.8</td>\n",
              "      <td>2</td>\n",
              "      <td>21000</td>\n",
              "    </tr>\n",
              "    <tr>\n",
              "      <th>888</th>\n",
              "      <td>Разработка интерфейсов: вёрстка и JavaScript</td>\n",
              "      <td>4.5</td>\n",
              "      <td>3</td>\n",
              "      <td>30000</td>\n",
              "    </tr>\n",
              "    <tr>\n",
              "      <th>889</th>\n",
              "      <td>Русский как иностранный</td>\n",
              "      <td>4.6</td>\n",
              "      <td>3</td>\n",
              "      <td>9800</td>\n",
              "    </tr>\n",
              "    <tr>\n",
              "      <th>890</th>\n",
              "      <td>Финансовые инструменты для частного инвестора</td>\n",
              "      <td>4.7</td>\n",
              "      <td>1</td>\n",
              "      <td>38000</td>\n",
              "    </tr>\n",
              "  </tbody>\n",
              "</table>\n",
              "<p>891 rows × 4 columns</p>\n",
              "</div>"
            ],
            "text/plain": [
              "                                                 title  rating  level  enrolled\n",
              "0    (ISC)² Systems Security Certified Practitioner...     4.7      1      5300\n",
              "1    A Crash Course in Causality:  Inferring Causal...     4.7      3     17000\n",
              "2                       A Crash Course in Data Science     4.5      2    130000\n",
              "3                              A Law Student's Toolkit     4.7      2     91000\n",
              "4                  A Life of Happiness and Fulfillment     4.8      2    320000\n",
              "..                                                 ...     ...    ...       ...\n",
              "886                         Программирование на Python     4.5      3     52000\n",
              "887               Психолингвистика (Psycholinguistics)     4.8      2     21000\n",
              "888       Разработка интерфейсов: вёрстка и JavaScript     4.5      3     30000\n",
              "889                            Русский как иностранный     4.6      3      9800\n",
              "890      Финансовые инструменты для частного инвестора     4.7      1     38000\n",
              "\n",
              "[891 rows x 4 columns]"
            ]
          },
          "metadata": {
            "tags": []
          },
          "execution_count": 25
        }
      ]
    },
    {
      "cell_type": "code",
      "metadata": {
        "id": "uw7FA276LcwZ",
        "colab_type": "code",
        "colab": {
          "base_uri": "https://localhost:8080/",
          "height": 419
        },
        "outputId": "d83eb1c4-09dc-41ea-ae71-56e0dd53a4dd"
      },
      "source": [
        "# 데이터 프레임에서 'Data' 단어를 포함하고 있는 강의를 추출/확인합니다.\n",
        "df[df['title'].str.contains('Data')]"
      ],
      "execution_count": 32,
      "outputs": [
        {
          "output_type": "execute_result",
          "data": {
            "text/html": [
              "<div>\n",
              "<style scoped>\n",
              "    .dataframe tbody tr th:only-of-type {\n",
              "        vertical-align: middle;\n",
              "    }\n",
              "\n",
              "    .dataframe tbody tr th {\n",
              "        vertical-align: top;\n",
              "    }\n",
              "\n",
              "    .dataframe thead th {\n",
              "        text-align: right;\n",
              "    }\n",
              "</style>\n",
              "<table border=\"1\" class=\"dataframe\">\n",
              "  <thead>\n",
              "    <tr style=\"text-align: right;\">\n",
              "      <th></th>\n",
              "      <th>title</th>\n",
              "      <th>rating</th>\n",
              "      <th>level</th>\n",
              "      <th>enrolled</th>\n",
              "    </tr>\n",
              "  </thead>\n",
              "  <tbody>\n",
              "    <tr>\n",
              "      <th>1</th>\n",
              "      <td>A Crash Course in Causality:  Inferring Causal...</td>\n",
              "      <td>4.7</td>\n",
              "      <td>3</td>\n",
              "      <td>17000</td>\n",
              "    </tr>\n",
              "    <tr>\n",
              "      <th>2</th>\n",
              "      <td>A Crash Course in Data Science</td>\n",
              "      <td>4.5</td>\n",
              "      <td>2</td>\n",
              "      <td>130000</td>\n",
              "    </tr>\n",
              "    <tr>\n",
              "      <th>27</th>\n",
              "      <td>Advanced Data Science with IBM</td>\n",
              "      <td>4.4</td>\n",
              "      <td>4</td>\n",
              "      <td>320000</td>\n",
              "    </tr>\n",
              "    <tr>\n",
              "      <th>54</th>\n",
              "      <td>Applied Data Science</td>\n",
              "      <td>4.6</td>\n",
              "      <td>1</td>\n",
              "      <td>220000</td>\n",
              "    </tr>\n",
              "    <tr>\n",
              "      <th>55</th>\n",
              "      <td>Applied Data Science Capstone</td>\n",
              "      <td>4.7</td>\n",
              "      <td>3</td>\n",
              "      <td>42000</td>\n",
              "    </tr>\n",
              "    <tr>\n",
              "      <th>...</th>\n",
              "      <td>...</td>\n",
              "      <td>...</td>\n",
              "      <td>...</td>\n",
              "      <td>...</td>\n",
              "    </tr>\n",
              "    <tr>\n",
              "      <th>825</th>\n",
              "      <td>Tools for Data Science</td>\n",
              "      <td>4.6</td>\n",
              "      <td>1</td>\n",
              "      <td>120000</td>\n",
              "    </tr>\n",
              "    <tr>\n",
              "      <th>841</th>\n",
              "      <td>Understanding and Visualizing Data with Python</td>\n",
              "      <td>4.7</td>\n",
              "      <td>1</td>\n",
              "      <td>30000</td>\n",
              "    </tr>\n",
              "    <tr>\n",
              "      <th>849</th>\n",
              "      <td>Using Databases with Python</td>\n",
              "      <td>4.8</td>\n",
              "      <td>2</td>\n",
              "      <td>220000</td>\n",
              "    </tr>\n",
              "    <tr>\n",
              "      <th>850</th>\n",
              "      <td>Using Python to Access Web Data</td>\n",
              "      <td>4.8</td>\n",
              "      <td>2</td>\n",
              "      <td>310000</td>\n",
              "    </tr>\n",
              "    <tr>\n",
              "      <th>864</th>\n",
              "      <td>What is Data Science?</td>\n",
              "      <td>4.7</td>\n",
              "      <td>1</td>\n",
              "      <td>260000</td>\n",
              "    </tr>\n",
              "  </tbody>\n",
              "</table>\n",
              "<p>70 rows × 4 columns</p>\n",
              "</div>"
            ],
            "text/plain": [
              "                                                 title  rating  level  enrolled\n",
              "1    A Crash Course in Causality:  Inferring Causal...     4.7      3     17000\n",
              "2                       A Crash Course in Data Science     4.5      2    130000\n",
              "27                      Advanced Data Science with IBM     4.4      4    320000\n",
              "54                                Applied Data Science     4.6      1    220000\n",
              "55                       Applied Data Science Capstone     4.7      3     42000\n",
              "..                                                 ...     ...    ...       ...\n",
              "825                             Tools for Data Science     4.6      1    120000\n",
              "841     Understanding and Visualizing Data with Python     4.7      1     30000\n",
              "849                        Using Databases with Python     4.8      2    220000\n",
              "850                    Using Python to Access Web Data     4.8      2    310000\n",
              "864                              What is Data Science?     4.7      1    260000\n",
              "\n",
              "[70 rows x 4 columns]"
            ]
          },
          "metadata": {
            "tags": []
          },
          "execution_count": 32
        }
      ]
    },
    {
      "cell_type": "code",
      "metadata": {
        "id": "sFAq3xxPxMJU",
        "colab_type": "code",
        "colab": {
          "base_uri": "https://localhost:8080/",
          "height": 49
        },
        "outputId": "7b3c17bf-7712-486c-c145-909b782c6da3"
      },
      "source": [
        "# 데이터 프레임에서 'data' 단어를 포함하고 있는 강의를 추출/확인합니다.\n",
        "df[df['title'].str.contains('data')]"
      ],
      "execution_count": 27,
      "outputs": [
        {
          "output_type": "execute_result",
          "data": {
            "text/html": [
              "<div>\n",
              "<style scoped>\n",
              "    .dataframe tbody tr th:only-of-type {\n",
              "        vertical-align: middle;\n",
              "    }\n",
              "\n",
              "    .dataframe tbody tr th {\n",
              "        vertical-align: top;\n",
              "    }\n",
              "\n",
              "    .dataframe thead th {\n",
              "        text-align: right;\n",
              "    }\n",
              "</style>\n",
              "<table border=\"1\" class=\"dataframe\">\n",
              "  <thead>\n",
              "    <tr style=\"text-align: right;\">\n",
              "      <th></th>\n",
              "      <th>title</th>\n",
              "      <th>rating</th>\n",
              "      <th>level</th>\n",
              "      <th>enrolled</th>\n",
              "    </tr>\n",
              "  </thead>\n",
              "  <tbody>\n",
              "  </tbody>\n",
              "</table>\n",
              "</div>"
            ],
            "text/plain": [
              "Empty DataFrame\n",
              "Columns: [title, rating, level, enrolled]\n",
              "Index: []"
            ]
          },
          "metadata": {
            "tags": []
          },
          "execution_count": 27
        }
      ]
    },
    {
      "cell_type": "code",
      "metadata": {
        "id": "PYdqskprxS1u",
        "colab_type": "code",
        "colab": {
          "base_uri": "https://localhost:8080/",
          "height": 419
        },
        "outputId": "4bcb5a58-178c-4a4e-fb15-c3979a2037a0"
      },
      "source": [
        "# 모두 'D'(대문자) 형태로 시작합니다. 'Data'를 포함하는 강의를 최다 등록 순으로 정렬합니다.\n",
        "df[df['title'].str.contains('Data')].sort_values(by=['enrolled'], ascending=False)"
      ],
      "execution_count": 36,
      "outputs": [
        {
          "output_type": "execute_result",
          "data": {
            "text/html": [
              "<div>\n",
              "<style scoped>\n",
              "    .dataframe tbody tr th:only-of-type {\n",
              "        vertical-align: middle;\n",
              "    }\n",
              "\n",
              "    .dataframe tbody tr th {\n",
              "        vertical-align: top;\n",
              "    }\n",
              "\n",
              "    .dataframe thead th {\n",
              "        text-align: right;\n",
              "    }\n",
              "</style>\n",
              "<table border=\"1\" class=\"dataframe\">\n",
              "  <thead>\n",
              "    <tr style=\"text-align: right;\">\n",
              "      <th></th>\n",
              "      <th>title</th>\n",
              "      <th>rating</th>\n",
              "      <th>level</th>\n",
              "      <th>enrolled</th>\n",
              "    </tr>\n",
              "  </thead>\n",
              "  <tbody>\n",
              "    <tr>\n",
              "      <th>196</th>\n",
              "      <td>Data Science</td>\n",
              "      <td>4.5</td>\n",
              "      <td>1</td>\n",
              "      <td>830000</td>\n",
              "    </tr>\n",
              "    <tr>\n",
              "      <th>199</th>\n",
              "      <td>Data Science: Foundations using R</td>\n",
              "      <td>4.6</td>\n",
              "      <td>1</td>\n",
              "      <td>740000</td>\n",
              "    </tr>\n",
              "    <tr>\n",
              "      <th>56</th>\n",
              "      <td>Applied Data Science with Python</td>\n",
              "      <td>4.5</td>\n",
              "      <td>3</td>\n",
              "      <td>480000</td>\n",
              "    </tr>\n",
              "    <tr>\n",
              "      <th>420</th>\n",
              "      <td>IBM Data Science</td>\n",
              "      <td>4.6</td>\n",
              "      <td>1</td>\n",
              "      <td>480000</td>\n",
              "    </tr>\n",
              "    <tr>\n",
              "      <th>800</th>\n",
              "      <td>The Data Scientist’s Toolbox</td>\n",
              "      <td>4.6</td>\n",
              "      <td>2</td>\n",
              "      <td>420000</td>\n",
              "    </tr>\n",
              "    <tr>\n",
              "      <th>...</th>\n",
              "      <td>...</td>\n",
              "      <td>...</td>\n",
              "      <td>...</td>\n",
              "      <td>...</td>\n",
              "    </tr>\n",
              "    <tr>\n",
              "      <th>612</th>\n",
              "      <td>Modernizing Data Lakes and Data Warehouses wit...</td>\n",
              "      <td>4.7</td>\n",
              "      <td>3</td>\n",
              "      <td>9100</td>\n",
              "    </tr>\n",
              "    <tr>\n",
              "      <th>89</th>\n",
              "      <td>Big Data – Introducción al uso práctico de dat...</td>\n",
              "      <td>4.5</td>\n",
              "      <td>1</td>\n",
              "      <td>8800</td>\n",
              "    </tr>\n",
              "    <tr>\n",
              "      <th>104</th>\n",
              "      <td>Building Batch Data Pipelines on GCP</td>\n",
              "      <td>4.5</td>\n",
              "      <td>3</td>\n",
              "      <td>7300</td>\n",
              "    </tr>\n",
              "    <tr>\n",
              "      <th>405</th>\n",
              "      <td>Health Information Literacy for Data Analytics</td>\n",
              "      <td>4.5</td>\n",
              "      <td>3</td>\n",
              "      <td>5400</td>\n",
              "    </tr>\n",
              "    <tr>\n",
              "      <th>191</th>\n",
              "      <td>Data Engineering on Google Cloud Platform 日本語版</td>\n",
              "      <td>4.4</td>\n",
              "      <td>3</td>\n",
              "      <td>3000</td>\n",
              "    </tr>\n",
              "  </tbody>\n",
              "</table>\n",
              "<p>70 rows × 4 columns</p>\n",
              "</div>"
            ],
            "text/plain": [
              "                                                 title  rating  level  enrolled\n",
              "196                                       Data Science     4.5      1    830000\n",
              "199                  Data Science: Foundations using R     4.6      1    740000\n",
              "56                    Applied Data Science with Python     4.5      3    480000\n",
              "420                                   IBM Data Science     4.6      1    480000\n",
              "800                       The Data Scientist’s Toolbox     4.6      2    420000\n",
              "..                                                 ...     ...    ...       ...\n",
              "612  Modernizing Data Lakes and Data Warehouses wit...     4.7      3      9100\n",
              "89   Big Data – Introducción al uso práctico de dat...     4.5      1      8800\n",
              "104               Building Batch Data Pipelines on GCP     4.5      3      7300\n",
              "405     Health Information Literacy for Data Analytics     4.5      3      5400\n",
              "191     Data Engineering on Google Cloud Platform 日本語版     4.4      3      3000\n",
              "\n",
              "[70 rows x 4 columns]"
            ]
          },
          "metadata": {
            "tags": []
          },
          "execution_count": 36
        }
      ]
    },
    {
      "cell_type": "code",
      "metadata": {
        "id": "7AD6t0-5xxV1",
        "colab_type": "code",
        "colab": {
          "base_uri": "https://localhost:8080/",
          "height": 34
        },
        "outputId": "c16b9c69-1d7f-4c59-9842-e256d4d53079"
      },
      "source": [
        "# 평점이 너무 낮은 강의는 제외합니다. 4이하의 강의가 있는지 확인합니다.\n",
        "df[df['title'].str.contains('Data')].sort_values(by=['enrolled'], ascending=False)['rating'].min()"
      ],
      "execution_count": 38,
      "outputs": [
        {
          "output_type": "execute_result",
          "data": {
            "text/plain": [
              "4.2"
            ]
          },
          "metadata": {
            "tags": []
          },
          "execution_count": 38
        }
      ]
    },
    {
      "cell_type": "code",
      "metadata": {
        "id": "nB8I_lJM0oRy",
        "colab_type": "code",
        "colab": {}
      },
      "source": [
        "# 평점은 모두 좋은 편입니다. 새로운 변수로 저장해둡니다.\n",
        "Courses_data = df[df['title'].str.contains('Data')].sort_values(by=['enrolled'], ascending=False)"
      ],
      "execution_count": 42,
      "outputs": []
    },
    {
      "cell_type": "code",
      "metadata": {
        "id": "rliXctiA05O4",
        "colab_type": "code",
        "colab": {
          "base_uri": "https://localhost:8080/",
          "height": 204
        },
        "outputId": "175ff4c2-c1db-4020-e37d-73b85360cff1"
      },
      "source": [
        "# 잘 저장되었는지 확인합니다.\n",
        "Courses_data.head()"
      ],
      "execution_count": 44,
      "outputs": [
        {
          "output_type": "execute_result",
          "data": {
            "text/html": [
              "<div>\n",
              "<style scoped>\n",
              "    .dataframe tbody tr th:only-of-type {\n",
              "        vertical-align: middle;\n",
              "    }\n",
              "\n",
              "    .dataframe tbody tr th {\n",
              "        vertical-align: top;\n",
              "    }\n",
              "\n",
              "    .dataframe thead th {\n",
              "        text-align: right;\n",
              "    }\n",
              "</style>\n",
              "<table border=\"1\" class=\"dataframe\">\n",
              "  <thead>\n",
              "    <tr style=\"text-align: right;\">\n",
              "      <th></th>\n",
              "      <th>title</th>\n",
              "      <th>rating</th>\n",
              "      <th>level</th>\n",
              "      <th>enrolled</th>\n",
              "    </tr>\n",
              "  </thead>\n",
              "  <tbody>\n",
              "    <tr>\n",
              "      <th>196</th>\n",
              "      <td>Data Science</td>\n",
              "      <td>4.5</td>\n",
              "      <td>1</td>\n",
              "      <td>830000</td>\n",
              "    </tr>\n",
              "    <tr>\n",
              "      <th>199</th>\n",
              "      <td>Data Science: Foundations using R</td>\n",
              "      <td>4.6</td>\n",
              "      <td>1</td>\n",
              "      <td>740000</td>\n",
              "    </tr>\n",
              "    <tr>\n",
              "      <th>56</th>\n",
              "      <td>Applied Data Science with Python</td>\n",
              "      <td>4.5</td>\n",
              "      <td>3</td>\n",
              "      <td>480000</td>\n",
              "    </tr>\n",
              "    <tr>\n",
              "      <th>420</th>\n",
              "      <td>IBM Data Science</td>\n",
              "      <td>4.6</td>\n",
              "      <td>1</td>\n",
              "      <td>480000</td>\n",
              "    </tr>\n",
              "    <tr>\n",
              "      <th>800</th>\n",
              "      <td>The Data Scientist’s Toolbox</td>\n",
              "      <td>4.6</td>\n",
              "      <td>2</td>\n",
              "      <td>420000</td>\n",
              "    </tr>\n",
              "  </tbody>\n",
              "</table>\n",
              "</div>"
            ],
            "text/plain": [
              "                                 title  rating  level  enrolled\n",
              "196                       Data Science     4.5      1    830000\n",
              "199  Data Science: Foundations using R     4.6      1    740000\n",
              "56    Applied Data Science with Python     4.5      3    480000\n",
              "420                   IBM Data Science     4.6      1    480000\n",
              "800       The Data Scientist’s Toolbox     4.6      2    420000"
            ]
          },
          "metadata": {
            "tags": []
          },
          "execution_count": 44
        }
      ]
    },
    {
      "cell_type": "code",
      "metadata": {
        "id": "5ZW3MYqvzCtN",
        "colab_type": "code",
        "colab": {
          "base_uri": "https://localhost:8080/",
          "height": 1000
        },
        "outputId": "4935e8db-41e9-49c5-82ac-2274e7196950"
      },
      "source": [
        "# 수강생이 100,000 명 이상인 강의만 추출합니다.\n",
        "Courses_data[Courses_data['enrolled']>100000]"
      ],
      "execution_count": 46,
      "outputs": [
        {
          "output_type": "execute_result",
          "data": {
            "text/html": [
              "<div>\n",
              "<style scoped>\n",
              "    .dataframe tbody tr th:only-of-type {\n",
              "        vertical-align: middle;\n",
              "    }\n",
              "\n",
              "    .dataframe tbody tr th {\n",
              "        vertical-align: top;\n",
              "    }\n",
              "\n",
              "    .dataframe thead th {\n",
              "        text-align: right;\n",
              "    }\n",
              "</style>\n",
              "<table border=\"1\" class=\"dataframe\">\n",
              "  <thead>\n",
              "    <tr style=\"text-align: right;\">\n",
              "      <th></th>\n",
              "      <th>title</th>\n",
              "      <th>rating</th>\n",
              "      <th>level</th>\n",
              "      <th>enrolled</th>\n",
              "    </tr>\n",
              "  </thead>\n",
              "  <tbody>\n",
              "    <tr>\n",
              "      <th>196</th>\n",
              "      <td>Data Science</td>\n",
              "      <td>4.5</td>\n",
              "      <td>1</td>\n",
              "      <td>830000</td>\n",
              "    </tr>\n",
              "    <tr>\n",
              "      <th>199</th>\n",
              "      <td>Data Science: Foundations using R</td>\n",
              "      <td>4.6</td>\n",
              "      <td>1</td>\n",
              "      <td>740000</td>\n",
              "    </tr>\n",
              "    <tr>\n",
              "      <th>56</th>\n",
              "      <td>Applied Data Science with Python</td>\n",
              "      <td>4.5</td>\n",
              "      <td>3</td>\n",
              "      <td>480000</td>\n",
              "    </tr>\n",
              "    <tr>\n",
              "      <th>420</th>\n",
              "      <td>IBM Data Science</td>\n",
              "      <td>4.6</td>\n",
              "      <td>1</td>\n",
              "      <td>480000</td>\n",
              "    </tr>\n",
              "    <tr>\n",
              "      <th>800</th>\n",
              "      <td>The Data Scientist’s Toolbox</td>\n",
              "      <td>4.6</td>\n",
              "      <td>2</td>\n",
              "      <td>420000</td>\n",
              "    </tr>\n",
              "    <tr>\n",
              "      <th>684</th>\n",
              "      <td>Python Data Structures</td>\n",
              "      <td>4.9</td>\n",
              "      <td>2</td>\n",
              "      <td>420000</td>\n",
              "    </tr>\n",
              "    <tr>\n",
              "      <th>487</th>\n",
              "      <td>Introduction to Data Science in Python</td>\n",
              "      <td>4.5</td>\n",
              "      <td>3</td>\n",
              "      <td>390000</td>\n",
              "    </tr>\n",
              "    <tr>\n",
              "      <th>27</th>\n",
              "      <td>Advanced Data Science with IBM</td>\n",
              "      <td>4.4</td>\n",
              "      <td>4</td>\n",
              "      <td>320000</td>\n",
              "    </tr>\n",
              "    <tr>\n",
              "      <th>850</th>\n",
              "      <td>Using Python to Access Web Data</td>\n",
              "      <td>4.8</td>\n",
              "      <td>2</td>\n",
              "      <td>310000</td>\n",
              "    </tr>\n",
              "    <tr>\n",
              "      <th>486</th>\n",
              "      <td>Introduction to Data Science</td>\n",
              "      <td>4.6</td>\n",
              "      <td>1</td>\n",
              "      <td>310000</td>\n",
              "    </tr>\n",
              "    <tr>\n",
              "      <th>590</th>\n",
              "      <td>Mastering Data Analysis in Excel</td>\n",
              "      <td>4.2</td>\n",
              "      <td>2</td>\n",
              "      <td>280000</td>\n",
              "    </tr>\n",
              "    <tr>\n",
              "      <th>864</th>\n",
              "      <td>What is Data Science?</td>\n",
              "      <td>4.7</td>\n",
              "      <td>1</td>\n",
              "      <td>260000</td>\n",
              "    </tr>\n",
              "    <tr>\n",
              "      <th>632</th>\n",
              "      <td>Object Oriented Java Programming: Data Structu...</td>\n",
              "      <td>4.7</td>\n",
              "      <td>3</td>\n",
              "      <td>250000</td>\n",
              "    </tr>\n",
              "    <tr>\n",
              "      <th>849</th>\n",
              "      <td>Using Databases with Python</td>\n",
              "      <td>4.8</td>\n",
              "      <td>2</td>\n",
              "      <td>220000</td>\n",
              "    </tr>\n",
              "    <tr>\n",
              "      <th>54</th>\n",
              "      <td>Applied Data Science</td>\n",
              "      <td>4.6</td>\n",
              "      <td>1</td>\n",
              "      <td>220000</td>\n",
              "    </tr>\n",
              "    <tr>\n",
              "      <th>187</th>\n",
              "      <td>Data Analysis and Presentation Skills: the PwC...</td>\n",
              "      <td>4.6</td>\n",
              "      <td>1</td>\n",
              "      <td>220000</td>\n",
              "    </tr>\n",
              "    <tr>\n",
              "      <th>200</th>\n",
              "      <td>Data Science: Statistics and Machine Learning</td>\n",
              "      <td>4.4</td>\n",
              "      <td>3</td>\n",
              "      <td>210000</td>\n",
              "    </tr>\n",
              "    <tr>\n",
              "      <th>687</th>\n",
              "      <td>Python for Data Science and AI</td>\n",
              "      <td>4.6</td>\n",
              "      <td>1</td>\n",
              "      <td>170000</td>\n",
              "    </tr>\n",
              "    <tr>\n",
              "      <th>299</th>\n",
              "      <td>Executive Data Science</td>\n",
              "      <td>4.5</td>\n",
              "      <td>1</td>\n",
              "      <td>170000</td>\n",
              "    </tr>\n",
              "    <tr>\n",
              "      <th>509</th>\n",
              "      <td>Introduction to Probability and Data</td>\n",
              "      <td>4.7</td>\n",
              "      <td>1</td>\n",
              "      <td>160000</td>\n",
              "    </tr>\n",
              "    <tr>\n",
              "      <th>470</th>\n",
              "      <td>Introduction to Big Data</td>\n",
              "      <td>4.6</td>\n",
              "      <td>2</td>\n",
              "      <td>160000</td>\n",
              "    </tr>\n",
              "    <tr>\n",
              "      <th>711</th>\n",
              "      <td>SQL for Data Science</td>\n",
              "      <td>4.6</td>\n",
              "      <td>1</td>\n",
              "      <td>160000</td>\n",
              "    </tr>\n",
              "    <tr>\n",
              "      <th>553</th>\n",
              "      <td>Learn SQL Basics for Data Science</td>\n",
              "      <td>4.6</td>\n",
              "      <td>1</td>\n",
              "      <td>160000</td>\n",
              "    </tr>\n",
              "    <tr>\n",
              "      <th>197</th>\n",
              "      <td>Data Science Math Skills</td>\n",
              "      <td>4.5</td>\n",
              "      <td>1</td>\n",
              "      <td>140000</td>\n",
              "    </tr>\n",
              "    <tr>\n",
              "      <th>195</th>\n",
              "      <td>Data Mining</td>\n",
              "      <td>4.4</td>\n",
              "      <td>3</td>\n",
              "      <td>140000</td>\n",
              "    </tr>\n",
              "    <tr>\n",
              "      <th>465</th>\n",
              "      <td>Introducción a Data Science: Programación Esta...</td>\n",
              "      <td>4.7</td>\n",
              "      <td>1</td>\n",
              "      <td>140000</td>\n",
              "    </tr>\n",
              "    <tr>\n",
              "      <th>205</th>\n",
              "      <td>Data Warehousing for Business Intelligence</td>\n",
              "      <td>4.5</td>\n",
              "      <td>4</td>\n",
              "      <td>140000</td>\n",
              "    </tr>\n",
              "    <tr>\n",
              "      <th>2</th>\n",
              "      <td>A Crash Course in Data Science</td>\n",
              "      <td>4.5</td>\n",
              "      <td>2</td>\n",
              "      <td>130000</td>\n",
              "    </tr>\n",
              "    <tr>\n",
              "      <th>201</th>\n",
              "      <td>Data Visualization and Communication with Tableau</td>\n",
              "      <td>4.7</td>\n",
              "      <td>2</td>\n",
              "      <td>130000</td>\n",
              "    </tr>\n",
              "    <tr>\n",
              "      <th>193</th>\n",
              "      <td>Data Engineering, Big Data, and Machine Learni...</td>\n",
              "      <td>4.6</td>\n",
              "      <td>3</td>\n",
              "      <td>120000</td>\n",
              "    </tr>\n",
              "    <tr>\n",
              "      <th>192</th>\n",
              "      <td>Data Engineering with Google Cloud</td>\n",
              "      <td>4.6</td>\n",
              "      <td>3</td>\n",
              "      <td>120000</td>\n",
              "    </tr>\n",
              "    <tr>\n",
              "      <th>389</th>\n",
              "      <td>Google Cloud Platform Big Data and Machine Lea...</td>\n",
              "      <td>4.6</td>\n",
              "      <td>3</td>\n",
              "      <td>120000</td>\n",
              "    </tr>\n",
              "    <tr>\n",
              "      <th>207</th>\n",
              "      <td>Data-driven Decision Making</td>\n",
              "      <td>4.6</td>\n",
              "      <td>1</td>\n",
              "      <td>120000</td>\n",
              "    </tr>\n",
              "    <tr>\n",
              "      <th>825</th>\n",
              "      <td>Tools for Data Science</td>\n",
              "      <td>4.6</td>\n",
              "      <td>1</td>\n",
              "      <td>120000</td>\n",
              "    </tr>\n",
              "    <tr>\n",
              "      <th>188</th>\n",
              "      <td>Data Analysis with Python</td>\n",
              "      <td>4.7</td>\n",
              "      <td>1</td>\n",
              "      <td>110000</td>\n",
              "    </tr>\n",
              "    <tr>\n",
              "      <th>208</th>\n",
              "      <td>Databases and SQL for Data Science</td>\n",
              "      <td>4.7</td>\n",
              "      <td>1</td>\n",
              "      <td>110000</td>\n",
              "    </tr>\n",
              "  </tbody>\n",
              "</table>\n",
              "</div>"
            ],
            "text/plain": [
              "                                                 title  rating  level  enrolled\n",
              "196                                       Data Science     4.5      1    830000\n",
              "199                  Data Science: Foundations using R     4.6      1    740000\n",
              "56                    Applied Data Science with Python     4.5      3    480000\n",
              "420                                   IBM Data Science     4.6      1    480000\n",
              "800                       The Data Scientist’s Toolbox     4.6      2    420000\n",
              "684                             Python Data Structures     4.9      2    420000\n",
              "487             Introduction to Data Science in Python     4.5      3    390000\n",
              "27                      Advanced Data Science with IBM     4.4      4    320000\n",
              "850                    Using Python to Access Web Data     4.8      2    310000\n",
              "486                       Introduction to Data Science     4.6      1    310000\n",
              "590                   Mastering Data Analysis in Excel     4.2      2    280000\n",
              "864                              What is Data Science?     4.7      1    260000\n",
              "632  Object Oriented Java Programming: Data Structu...     4.7      3    250000\n",
              "849                        Using Databases with Python     4.8      2    220000\n",
              "54                                Applied Data Science     4.6      1    220000\n",
              "187  Data Analysis and Presentation Skills: the PwC...     4.6      1    220000\n",
              "200      Data Science: Statistics and Machine Learning     4.4      3    210000\n",
              "687                     Python for Data Science and AI     4.6      1    170000\n",
              "299                             Executive Data Science     4.5      1    170000\n",
              "509               Introduction to Probability and Data     4.7      1    160000\n",
              "470                           Introduction to Big Data     4.6      2    160000\n",
              "711                               SQL for Data Science     4.6      1    160000\n",
              "553                  Learn SQL Basics for Data Science     4.6      1    160000\n",
              "197                           Data Science Math Skills     4.5      1    140000\n",
              "195                                        Data Mining     4.4      3    140000\n",
              "465  Introducción a Data Science: Programación Esta...     4.7      1    140000\n",
              "205         Data Warehousing for Business Intelligence     4.5      4    140000\n",
              "2                       A Crash Course in Data Science     4.5      2    130000\n",
              "201  Data Visualization and Communication with Tableau     4.7      2    130000\n",
              "193  Data Engineering, Big Data, and Machine Learni...     4.6      3    120000\n",
              "192                 Data Engineering with Google Cloud     4.6      3    120000\n",
              "389  Google Cloud Platform Big Data and Machine Lea...     4.6      3    120000\n",
              "207                        Data-driven Decision Making     4.6      1    120000\n",
              "825                             Tools for Data Science     4.6      1    120000\n",
              "188                          Data Analysis with Python     4.7      1    110000\n",
              "208                 Databases and SQL for Data Science     4.7      1    110000"
            ]
          },
          "metadata": {
            "tags": []
          },
          "execution_count": 46
        }
      ]
    },
    {
      "cell_type": "code",
      "metadata": {
        "id": "1B3_5Lxwzk34",
        "colab_type": "code",
        "colab": {
          "base_uri": "https://localhost:8080/",
          "height": 34
        },
        "outputId": "105360a8-0873-4c64-bfb2-5a8580f4431b"
      },
      "source": [
        "# 강의 수를 확인합니다.\n",
        "len(Courses_data[Courses_data['enrolled']>100000])"
      ],
      "execution_count": 47,
      "outputs": [
        {
          "output_type": "execute_result",
          "data": {
            "text/plain": [
              "36"
            ]
          },
          "metadata": {
            "tags": []
          },
          "execution_count": 47
        }
      ]
    },
    {
      "cell_type": "code",
      "metadata": {
        "id": "S3vAnhJb1ZN1",
        "colab_type": "code",
        "colab": {}
      },
      "source": [
        "# 100000 enrolled 강의를 저장하고, Top 10 강의도 따로 추출해둡니다.\n",
        "AboutData_BestSellers = Courses_data[Courses_data['enrolled']>100000]\n",
        "AboutData_Top_Ten = BestSellers[:10]"
      ],
      "execution_count": 53,
      "outputs": []
    },
    {
      "cell_type": "code",
      "metadata": {
        "id": "5adiGoSB16RU",
        "colab_type": "code",
        "colab": {
          "base_uri": "https://localhost:8080/",
          "height": 359
        },
        "outputId": "9cc59a49-0a15-4794-e68c-36179262a836"
      },
      "source": [
        "AboutData_Top_Ten"
      ],
      "execution_count": 54,
      "outputs": [
        {
          "output_type": "execute_result",
          "data": {
            "text/html": [
              "<div>\n",
              "<style scoped>\n",
              "    .dataframe tbody tr th:only-of-type {\n",
              "        vertical-align: middle;\n",
              "    }\n",
              "\n",
              "    .dataframe tbody tr th {\n",
              "        vertical-align: top;\n",
              "    }\n",
              "\n",
              "    .dataframe thead th {\n",
              "        text-align: right;\n",
              "    }\n",
              "</style>\n",
              "<table border=\"1\" class=\"dataframe\">\n",
              "  <thead>\n",
              "    <tr style=\"text-align: right;\">\n",
              "      <th></th>\n",
              "      <th>title</th>\n",
              "      <th>rating</th>\n",
              "      <th>level</th>\n",
              "      <th>enrolled</th>\n",
              "    </tr>\n",
              "  </thead>\n",
              "  <tbody>\n",
              "    <tr>\n",
              "      <th>196</th>\n",
              "      <td>Data Science</td>\n",
              "      <td>4.5</td>\n",
              "      <td>1</td>\n",
              "      <td>830000</td>\n",
              "    </tr>\n",
              "    <tr>\n",
              "      <th>199</th>\n",
              "      <td>Data Science: Foundations using R</td>\n",
              "      <td>4.6</td>\n",
              "      <td>1</td>\n",
              "      <td>740000</td>\n",
              "    </tr>\n",
              "    <tr>\n",
              "      <th>56</th>\n",
              "      <td>Applied Data Science with Python</td>\n",
              "      <td>4.5</td>\n",
              "      <td>3</td>\n",
              "      <td>480000</td>\n",
              "    </tr>\n",
              "    <tr>\n",
              "      <th>420</th>\n",
              "      <td>IBM Data Science</td>\n",
              "      <td>4.6</td>\n",
              "      <td>1</td>\n",
              "      <td>480000</td>\n",
              "    </tr>\n",
              "    <tr>\n",
              "      <th>800</th>\n",
              "      <td>The Data Scientist’s Toolbox</td>\n",
              "      <td>4.6</td>\n",
              "      <td>2</td>\n",
              "      <td>420000</td>\n",
              "    </tr>\n",
              "    <tr>\n",
              "      <th>684</th>\n",
              "      <td>Python Data Structures</td>\n",
              "      <td>4.9</td>\n",
              "      <td>2</td>\n",
              "      <td>420000</td>\n",
              "    </tr>\n",
              "    <tr>\n",
              "      <th>487</th>\n",
              "      <td>Introduction to Data Science in Python</td>\n",
              "      <td>4.5</td>\n",
              "      <td>3</td>\n",
              "      <td>390000</td>\n",
              "    </tr>\n",
              "    <tr>\n",
              "      <th>27</th>\n",
              "      <td>Advanced Data Science with IBM</td>\n",
              "      <td>4.4</td>\n",
              "      <td>4</td>\n",
              "      <td>320000</td>\n",
              "    </tr>\n",
              "    <tr>\n",
              "      <th>850</th>\n",
              "      <td>Using Python to Access Web Data</td>\n",
              "      <td>4.8</td>\n",
              "      <td>2</td>\n",
              "      <td>310000</td>\n",
              "    </tr>\n",
              "    <tr>\n",
              "      <th>486</th>\n",
              "      <td>Introduction to Data Science</td>\n",
              "      <td>4.6</td>\n",
              "      <td>1</td>\n",
              "      <td>310000</td>\n",
              "    </tr>\n",
              "  </tbody>\n",
              "</table>\n",
              "</div>"
            ],
            "text/plain": [
              "                                      title  rating  level  enrolled\n",
              "196                            Data Science     4.5      1    830000\n",
              "199       Data Science: Foundations using R     4.6      1    740000\n",
              "56         Applied Data Science with Python     4.5      3    480000\n",
              "420                        IBM Data Science     4.6      1    480000\n",
              "800            The Data Scientist’s Toolbox     4.6      2    420000\n",
              "684                  Python Data Structures     4.9      2    420000\n",
              "487  Introduction to Data Science in Python     4.5      3    390000\n",
              "27           Advanced Data Science with IBM     4.4      4    320000\n",
              "850         Using Python to Access Web Data     4.8      2    310000\n",
              "486            Introduction to Data Science     4.6      1    310000"
            ]
          },
          "metadata": {
            "tags": []
          },
          "execution_count": 54
        }
      ]
    },
    {
      "cell_type": "markdown",
      "metadata": {
        "id": "J6BL1dBc17zm",
        "colab_type": "text"
      },
      "source": [
        "## Step 5. Apply - Language/Framework\n",
        "지금까지 Coursera의 890개 강의에 대해 'Data'를 포함하고 있는 강의들을 누적 수강생 순으로 추출해냈습니다.\n",
        "이와 같은 방식으로 언어별 혹은 프레임워크별 Best Seller를 확인해보겠습니다.\n",
        "\n",
        "1. **Python** Best Sellers\n",
        "2. **R** Best Sellers\n",
        "3. **Java** Best Sellers\n",
        "4. **JavaScrips** Best Sellers\n",
        "5. **Django** Best Sellers\n",
        "6. **Flask** Best Sellers\n",
        "7. **React** Best Sellers\n",
        "8. **Vue** Best Sellers\n",
        "9. **Tensorflow** Best Sellers\n",
        "10. **PyTorch** Best Sellers"
      ]
    },
    {
      "cell_type": "markdown",
      "metadata": {
        "id": "4Whnmhjz3NkY",
        "colab_type": "text"
      },
      "source": [
        "### 1. Python Best Sellers"
      ]
    },
    {
      "cell_type": "code",
      "metadata": {
        "id": "LGtfQl8D5LWO",
        "colab_type": "code",
        "colab": {
          "base_uri": "https://localhost:8080/",
          "height": 1000
        },
        "outputId": "23c468e0-1296-45c0-d4ef-9025ee2ba366"
      },
      "source": [
        "# 모든 Python 강의 확인\n",
        "df[df['title'].str.contains('Python')].sort_values(by=['enrolled'], ascending=False)"
      ],
      "execution_count": 55,
      "outputs": [
        {
          "output_type": "execute_result",
          "data": {
            "text/html": [
              "<div>\n",
              "<style scoped>\n",
              "    .dataframe tbody tr th:only-of-type {\n",
              "        vertical-align: middle;\n",
              "    }\n",
              "\n",
              "    .dataframe tbody tr th {\n",
              "        vertical-align: top;\n",
              "    }\n",
              "\n",
              "    .dataframe thead th {\n",
              "        text-align: right;\n",
              "    }\n",
              "</style>\n",
              "<table border=\"1\" class=\"dataframe\">\n",
              "  <thead>\n",
              "    <tr style=\"text-align: right;\">\n",
              "      <th></th>\n",
              "      <th>title</th>\n",
              "      <th>rating</th>\n",
              "      <th>level</th>\n",
              "      <th>enrolled</th>\n",
              "    </tr>\n",
              "  </thead>\n",
              "  <tbody>\n",
              "    <tr>\n",
              "      <th>56</th>\n",
              "      <td>Applied Data Science with Python</td>\n",
              "      <td>4.5</td>\n",
              "      <td>3</td>\n",
              "      <td>480000</td>\n",
              "    </tr>\n",
              "    <tr>\n",
              "      <th>684</th>\n",
              "      <td>Python Data Structures</td>\n",
              "      <td>4.9</td>\n",
              "      <td>2</td>\n",
              "      <td>420000</td>\n",
              "    </tr>\n",
              "    <tr>\n",
              "      <th>487</th>\n",
              "      <td>Introduction to Data Science in Python</td>\n",
              "      <td>4.5</td>\n",
              "      <td>3</td>\n",
              "      <td>390000</td>\n",
              "    </tr>\n",
              "    <tr>\n",
              "      <th>850</th>\n",
              "      <td>Using Python to Access Web Data</td>\n",
              "      <td>4.8</td>\n",
              "      <td>2</td>\n",
              "      <td>310000</td>\n",
              "    </tr>\n",
              "    <tr>\n",
              "      <th>849</th>\n",
              "      <td>Using Databases with Python</td>\n",
              "      <td>4.8</td>\n",
              "      <td>2</td>\n",
              "      <td>220000</td>\n",
              "    </tr>\n",
              "    <tr>\n",
              "      <th>687</th>\n",
              "      <td>Python for Data Science and AI</td>\n",
              "      <td>4.6</td>\n",
              "      <td>1</td>\n",
              "      <td>170000</td>\n",
              "    </tr>\n",
              "    <tr>\n",
              "      <th>57</th>\n",
              "      <td>Applied Machine Learning in Python</td>\n",
              "      <td>4.6</td>\n",
              "      <td>3</td>\n",
              "      <td>150000</td>\n",
              "    </tr>\n",
              "    <tr>\n",
              "      <th>570</th>\n",
              "      <td>Machine Learning with Python</td>\n",
              "      <td>4.7</td>\n",
              "      <td>3</td>\n",
              "      <td>120000</td>\n",
              "    </tr>\n",
              "    <tr>\n",
              "      <th>530</th>\n",
              "      <td>Introdução à Ciência da Computação com Python ...</td>\n",
              "      <td>4.9</td>\n",
              "      <td>1</td>\n",
              "      <td>120000</td>\n",
              "    </tr>\n",
              "    <tr>\n",
              "      <th>682</th>\n",
              "      <td>Python Basics</td>\n",
              "      <td>4.8</td>\n",
              "      <td>1</td>\n",
              "      <td>110000</td>\n",
              "    </tr>\n",
              "    <tr>\n",
              "      <th>188</th>\n",
              "      <td>Data Analysis with Python</td>\n",
              "      <td>4.7</td>\n",
              "      <td>1</td>\n",
              "      <td>110000</td>\n",
              "    </tr>\n",
              "    <tr>\n",
              "      <th>466</th>\n",
              "      <td>Introducción a la programación en Python I: Ap...</td>\n",
              "      <td>4.4</td>\n",
              "      <td>1</td>\n",
              "      <td>100000</td>\n",
              "    </tr>\n",
              "    <tr>\n",
              "      <th>58</th>\n",
              "      <td>Applied Plotting, Charting &amp; Data Representati...</td>\n",
              "      <td>4.6</td>\n",
              "      <td>3</td>\n",
              "      <td>97000</td>\n",
              "    </tr>\n",
              "    <tr>\n",
              "      <th>391</th>\n",
              "      <td>Google IT Automation with Python</td>\n",
              "      <td>4.7</td>\n",
              "      <td>1</td>\n",
              "      <td>93000</td>\n",
              "    </tr>\n",
              "    <tr>\n",
              "      <th>883</th>\n",
              "      <td>Основы программирования на Python</td>\n",
              "      <td>4.6</td>\n",
              "      <td>1</td>\n",
              "      <td>83000</td>\n",
              "    </tr>\n",
              "    <tr>\n",
              "      <th>128</th>\n",
              "      <td>Capstone: Retrieving, Processing, and Visualiz...</td>\n",
              "      <td>4.6</td>\n",
              "      <td>2</td>\n",
              "      <td>82000</td>\n",
              "    </tr>\n",
              "    <tr>\n",
              "      <th>171</th>\n",
              "      <td>Crash Course on Python</td>\n",
              "      <td>4.8</td>\n",
              "      <td>1</td>\n",
              "      <td>81000</td>\n",
              "    </tr>\n",
              "    <tr>\n",
              "      <th>880</th>\n",
              "      <td>Математика и Python для анализа данных</td>\n",
              "      <td>4.8</td>\n",
              "      <td>1</td>\n",
              "      <td>67000</td>\n",
              "    </tr>\n",
              "    <tr>\n",
              "      <th>203</th>\n",
              "      <td>Data Visualization with Python</td>\n",
              "      <td>4.6</td>\n",
              "      <td>3</td>\n",
              "      <td>66000</td>\n",
              "    </tr>\n",
              "    <tr>\n",
              "      <th>886</th>\n",
              "      <td>Программирование на Python</td>\n",
              "      <td>4.5</td>\n",
              "      <td>3</td>\n",
              "      <td>52000</td>\n",
              "    </tr>\n",
              "    <tr>\n",
              "      <th>513</th>\n",
              "      <td>Introduction to Scripting in Python</td>\n",
              "      <td>4.7</td>\n",
              "      <td>1</td>\n",
              "      <td>49000</td>\n",
              "    </tr>\n",
              "    <tr>\n",
              "      <th>885</th>\n",
              "      <td>Погружение в Python</td>\n",
              "      <td>4.7</td>\n",
              "      <td>3</td>\n",
              "      <td>45000</td>\n",
              "    </tr>\n",
              "    <tr>\n",
              "      <th>686</th>\n",
              "      <td>Python and Statistics for Financial Analysis</td>\n",
              "      <td>4.4</td>\n",
              "      <td>3</td>\n",
              "      <td>41000</td>\n",
              "    </tr>\n",
              "    <tr>\n",
              "      <th>752</th>\n",
              "      <td>Statistics with Python</td>\n",
              "      <td>4.6</td>\n",
              "      <td>1</td>\n",
              "      <td>34000</td>\n",
              "    </tr>\n",
              "    <tr>\n",
              "      <th>841</th>\n",
              "      <td>Understanding and Visualizing Data with Python</td>\n",
              "      <td>4.7</td>\n",
              "      <td>1</td>\n",
              "      <td>30000</td>\n",
              "    </tr>\n",
              "    <tr>\n",
              "      <th>685</th>\n",
              "      <td>Python Functions, Files, and Dictionaries</td>\n",
              "      <td>4.8</td>\n",
              "      <td>1</td>\n",
              "      <td>26000</td>\n",
              "    </tr>\n",
              "    <tr>\n",
              "      <th>683</th>\n",
              "      <td>Python Classes and Inheritance</td>\n",
              "      <td>4.7</td>\n",
              "      <td>3</td>\n",
              "      <td>21000</td>\n",
              "    </tr>\n",
              "    <tr>\n",
              "      <th>851</th>\n",
              "      <td>Using Python to Interact with the Operating Sy...</td>\n",
              "      <td>4.7</td>\n",
              "      <td>1</td>\n",
              "      <td>19000</td>\n",
              "    </tr>\n",
              "    <tr>\n",
              "      <th>190</th>\n",
              "      <td>Data Collection and Processing with Python</td>\n",
              "      <td>4.7</td>\n",
              "      <td>3</td>\n",
              "      <td>19000</td>\n",
              "    </tr>\n",
              "    <tr>\n",
              "      <th>532</th>\n",
              "      <td>Investment Management with Python and Machine ...</td>\n",
              "      <td>4.6</td>\n",
              "      <td>1</td>\n",
              "      <td>14000</td>\n",
              "    </tr>\n",
              "    <tr>\n",
              "      <th>508</th>\n",
              "      <td>Introduction to Portfolio Construction and Ana...</td>\n",
              "      <td>4.8</td>\n",
              "      <td>2</td>\n",
              "      <td>11000</td>\n",
              "    </tr>\n",
              "    <tr>\n",
              "      <th>59</th>\n",
              "      <td>Aprende a programar con Python</td>\n",
              "      <td>4.2</td>\n",
              "      <td>1</td>\n",
              "      <td>6600</td>\n",
              "    </tr>\n",
              "    <tr>\n",
              "      <th>688</th>\n",
              "      <td>Python for Everybody</td>\n",
              "      <td>4.8</td>\n",
              "      <td>1</td>\n",
              "      <td>15</td>\n",
              "    </tr>\n",
              "    <tr>\n",
              "      <th>674</th>\n",
              "      <td>Programming for Everybody (Getting Started wit...</td>\n",
              "      <td>4.8</td>\n",
              "      <td>2</td>\n",
              "      <td>13</td>\n",
              "    </tr>\n",
              "  </tbody>\n",
              "</table>\n",
              "</div>"
            ],
            "text/plain": [
              "                                                 title  rating  level  enrolled\n",
              "56                    Applied Data Science with Python     4.5      3    480000\n",
              "684                             Python Data Structures     4.9      2    420000\n",
              "487             Introduction to Data Science in Python     4.5      3    390000\n",
              "850                    Using Python to Access Web Data     4.8      2    310000\n",
              "849                        Using Databases with Python     4.8      2    220000\n",
              "687                     Python for Data Science and AI     4.6      1    170000\n",
              "57                  Applied Machine Learning in Python     4.6      3    150000\n",
              "570                       Machine Learning with Python     4.7      3    120000\n",
              "530  Introdução à Ciência da Computação com Python ...     4.9      1    120000\n",
              "682                                      Python Basics     4.8      1    110000\n",
              "188                          Data Analysis with Python     4.7      1    110000\n",
              "466  Introducción a la programación en Python I: Ap...     4.4      1    100000\n",
              "58   Applied Plotting, Charting & Data Representati...     4.6      3     97000\n",
              "391                   Google IT Automation with Python     4.7      1     93000\n",
              "883                  Основы программирования на Python     4.6      1     83000\n",
              "128  Capstone: Retrieving, Processing, and Visualiz...     4.6      2     82000\n",
              "171                             Crash Course on Python     4.8      1     81000\n",
              "880             Математика и Python для анализа данных     4.8      1     67000\n",
              "203                     Data Visualization with Python     4.6      3     66000\n",
              "886                         Программирование на Python     4.5      3     52000\n",
              "513                Introduction to Scripting in Python     4.7      1     49000\n",
              "885                                Погружение в Python     4.7      3     45000\n",
              "686       Python and Statistics for Financial Analysis     4.4      3     41000\n",
              "752                             Statistics with Python     4.6      1     34000\n",
              "841     Understanding and Visualizing Data with Python     4.7      1     30000\n",
              "685          Python Functions, Files, and Dictionaries     4.8      1     26000\n",
              "683                     Python Classes and Inheritance     4.7      3     21000\n",
              "851  Using Python to Interact with the Operating Sy...     4.7      1     19000\n",
              "190         Data Collection and Processing with Python     4.7      3     19000\n",
              "532  Investment Management with Python and Machine ...     4.6      1     14000\n",
              "508  Introduction to Portfolio Construction and Ana...     4.8      2     11000\n",
              "59                      Aprende a programar con Python     4.2      1      6600\n",
              "688                               Python for Everybody     4.8      1        15\n",
              "674  Programming for Everybody (Getting Started wit...     4.8      2        13"
            ]
          },
          "metadata": {
            "tags": []
          },
          "execution_count": 55
        }
      ]
    },
    {
      "cell_type": "code",
      "metadata": {
        "id": "gBSs12vc5QXZ",
        "colab_type": "code",
        "colab": {
          "base_uri": "https://localhost:8080/",
          "height": 390
        },
        "outputId": "f01e1b3c-4219-414b-99e1-816e9984b271"
      },
      "source": [
        "# 누적 수강생 10만건 이상 Python 강의\n",
        "Python_Courses = df[df['title'].str.contains('Python')].sort_values(by=['enrolled'], ascending=False)\n",
        "Python_Courses[Python_Courses['enrolled']>100000]"
      ],
      "execution_count": 56,
      "outputs": [
        {
          "output_type": "execute_result",
          "data": {
            "text/html": [
              "<div>\n",
              "<style scoped>\n",
              "    .dataframe tbody tr th:only-of-type {\n",
              "        vertical-align: middle;\n",
              "    }\n",
              "\n",
              "    .dataframe tbody tr th {\n",
              "        vertical-align: top;\n",
              "    }\n",
              "\n",
              "    .dataframe thead th {\n",
              "        text-align: right;\n",
              "    }\n",
              "</style>\n",
              "<table border=\"1\" class=\"dataframe\">\n",
              "  <thead>\n",
              "    <tr style=\"text-align: right;\">\n",
              "      <th></th>\n",
              "      <th>title</th>\n",
              "      <th>rating</th>\n",
              "      <th>level</th>\n",
              "      <th>enrolled</th>\n",
              "    </tr>\n",
              "  </thead>\n",
              "  <tbody>\n",
              "    <tr>\n",
              "      <th>56</th>\n",
              "      <td>Applied Data Science with Python</td>\n",
              "      <td>4.5</td>\n",
              "      <td>3</td>\n",
              "      <td>480000</td>\n",
              "    </tr>\n",
              "    <tr>\n",
              "      <th>684</th>\n",
              "      <td>Python Data Structures</td>\n",
              "      <td>4.9</td>\n",
              "      <td>2</td>\n",
              "      <td>420000</td>\n",
              "    </tr>\n",
              "    <tr>\n",
              "      <th>487</th>\n",
              "      <td>Introduction to Data Science in Python</td>\n",
              "      <td>4.5</td>\n",
              "      <td>3</td>\n",
              "      <td>390000</td>\n",
              "    </tr>\n",
              "    <tr>\n",
              "      <th>850</th>\n",
              "      <td>Using Python to Access Web Data</td>\n",
              "      <td>4.8</td>\n",
              "      <td>2</td>\n",
              "      <td>310000</td>\n",
              "    </tr>\n",
              "    <tr>\n",
              "      <th>849</th>\n",
              "      <td>Using Databases with Python</td>\n",
              "      <td>4.8</td>\n",
              "      <td>2</td>\n",
              "      <td>220000</td>\n",
              "    </tr>\n",
              "    <tr>\n",
              "      <th>687</th>\n",
              "      <td>Python for Data Science and AI</td>\n",
              "      <td>4.6</td>\n",
              "      <td>1</td>\n",
              "      <td>170000</td>\n",
              "    </tr>\n",
              "    <tr>\n",
              "      <th>57</th>\n",
              "      <td>Applied Machine Learning in Python</td>\n",
              "      <td>4.6</td>\n",
              "      <td>3</td>\n",
              "      <td>150000</td>\n",
              "    </tr>\n",
              "    <tr>\n",
              "      <th>570</th>\n",
              "      <td>Machine Learning with Python</td>\n",
              "      <td>4.7</td>\n",
              "      <td>3</td>\n",
              "      <td>120000</td>\n",
              "    </tr>\n",
              "    <tr>\n",
              "      <th>530</th>\n",
              "      <td>Introdução à Ciência da Computação com Python ...</td>\n",
              "      <td>4.9</td>\n",
              "      <td>1</td>\n",
              "      <td>120000</td>\n",
              "    </tr>\n",
              "    <tr>\n",
              "      <th>682</th>\n",
              "      <td>Python Basics</td>\n",
              "      <td>4.8</td>\n",
              "      <td>1</td>\n",
              "      <td>110000</td>\n",
              "    </tr>\n",
              "    <tr>\n",
              "      <th>188</th>\n",
              "      <td>Data Analysis with Python</td>\n",
              "      <td>4.7</td>\n",
              "      <td>1</td>\n",
              "      <td>110000</td>\n",
              "    </tr>\n",
              "  </tbody>\n",
              "</table>\n",
              "</div>"
            ],
            "text/plain": [
              "                                                 title  rating  level  enrolled\n",
              "56                    Applied Data Science with Python     4.5      3    480000\n",
              "684                             Python Data Structures     4.9      2    420000\n",
              "487             Introduction to Data Science in Python     4.5      3    390000\n",
              "850                    Using Python to Access Web Data     4.8      2    310000\n",
              "849                        Using Databases with Python     4.8      2    220000\n",
              "687                     Python for Data Science and AI     4.6      1    170000\n",
              "57                  Applied Machine Learning in Python     4.6      3    150000\n",
              "570                       Machine Learning with Python     4.7      3    120000\n",
              "530  Introdução à Ciência da Computação com Python ...     4.9      1    120000\n",
              "682                                      Python Basics     4.8      1    110000\n",
              "188                          Data Analysis with Python     4.7      1    110000"
            ]
          },
          "metadata": {
            "tags": []
          },
          "execution_count": 56
        }
      ]
    },
    {
      "cell_type": "code",
      "metadata": {
        "id": "PxVSmmdK50Mo",
        "colab_type": "code",
        "colab": {}
      },
      "source": [
        "# 데이터 저장\n",
        "Python_BestSellers = Python_Courses[Python_Courses['enrolled']>100000]"
      ],
      "execution_count": 57,
      "outputs": []
    },
    {
      "cell_type": "markdown",
      "metadata": {
        "id": "eRfujIZW6Bmo",
        "colab_type": "text"
      },
      "source": [
        "### 2. R Best Sellers"
      ]
    },
    {
      "cell_type": "code",
      "metadata": {
        "id": "5O9zsnA06G7I",
        "colab_type": "code",
        "colab": {
          "base_uri": "https://localhost:8080/",
          "height": 173
        },
        "outputId": "e1480522-f1fb-48e8-b8d7-95db18e9a737"
      },
      "source": [
        "# R 강의 확인(1)\n",
        "df[df['title'].str.contains('R ')].sort_values(by=['enrolled'], ascending=False)"
      ],
      "execution_count": 60,
      "outputs": [
        {
          "output_type": "execute_result",
          "data": {
            "text/html": [
              "<div>\n",
              "<style scoped>\n",
              "    .dataframe tbody tr th:only-of-type {\n",
              "        vertical-align: middle;\n",
              "    }\n",
              "\n",
              "    .dataframe tbody tr th {\n",
              "        vertical-align: top;\n",
              "    }\n",
              "\n",
              "    .dataframe thead th {\n",
              "        text-align: right;\n",
              "    }\n",
              "</style>\n",
              "<table border=\"1\" class=\"dataframe\">\n",
              "  <thead>\n",
              "    <tr style=\"text-align: right;\">\n",
              "      <th></th>\n",
              "      <th>title</th>\n",
              "      <th>rating</th>\n",
              "      <th>level</th>\n",
              "      <th>enrolled</th>\n",
              "    </tr>\n",
              "  </thead>\n",
              "  <tbody>\n",
              "    <tr>\n",
              "      <th>691</th>\n",
              "      <td>R Programming</td>\n",
              "      <td>4.6</td>\n",
              "      <td>3</td>\n",
              "      <td>480000</td>\n",
              "    </tr>\n",
              "    <tr>\n",
              "      <th>415</th>\n",
              "      <td>Human Resource Management: HR for People Managers</td>\n",
              "      <td>4.7</td>\n",
              "      <td>1</td>\n",
              "      <td>98000</td>\n",
              "    </tr>\n",
              "    <tr>\n",
              "      <th>751</th>\n",
              "      <td>Statistical Analysis with R for Public Health</td>\n",
              "      <td>4.7</td>\n",
              "      <td>1</td>\n",
              "      <td>16000</td>\n",
              "    </tr>\n",
              "    <tr>\n",
              "      <th>844</th>\n",
              "      <td>Unity XR: How to Build AR and VR Apps</td>\n",
              "      <td>4.2</td>\n",
              "      <td>1</td>\n",
              "      <td>12000</td>\n",
              "    </tr>\n",
              "  </tbody>\n",
              "</table>\n",
              "</div>"
            ],
            "text/plain": [
              "                                                 title  rating  level  enrolled\n",
              "691                                      R Programming     4.6      3    480000\n",
              "415  Human Resource Management: HR for People Managers     4.7      1     98000\n",
              "751      Statistical Analysis with R for Public Health     4.7      1     16000\n",
              "844              Unity XR: How to Build AR and VR Apps     4.2      1     12000"
            ]
          },
          "metadata": {
            "tags": []
          },
          "execution_count": 60
        }
      ]
    },
    {
      "cell_type": "code",
      "metadata": {
        "id": "wmdVT95T68EM",
        "colab_type": "code",
        "colab": {
          "base_uri": "https://localhost:8080/",
          "height": 102
        },
        "outputId": "736cea0c-897e-4e51-db4d-81d05c4bae88"
      },
      "source": [
        "# R 강의 확인(1)\n",
        "# 691행만 추출합니다.\n",
        "df[df['title'].str.contains('R ')].sort_values(by=['enrolled'], ascending=False).iloc[0,:]"
      ],
      "execution_count": 68,
      "outputs": [
        {
          "output_type": "execute_result",
          "data": {
            "text/plain": [
              "title       R Programming\n",
              "rating                4.6\n",
              "level                   3\n",
              "enrolled           480000\n",
              "Name: 691, dtype: object"
            ]
          },
          "metadata": {
            "tags": []
          },
          "execution_count": 68
        }
      ]
    },
    {
      "cell_type": "code",
      "metadata": {
        "id": "O1npjN4d7d5z",
        "colab_type": "code",
        "colab": {}
      },
      "source": [
        "# 추출한 행 저장\n",
        "R_temp_1 = df[df['title'].str.contains('R ')].sort_values(by=['enrolled'], ascending=False).iloc[0,:]\n",
        "R_temp_1=pd.DataFrame(R_temp_1).T"
      ],
      "execution_count": 71,
      "outputs": []
    },
    {
      "cell_type": "code",
      "metadata": {
        "id": "c1O2UFae6MQ-",
        "colab_type": "code",
        "colab": {
          "base_uri": "https://localhost:8080/",
          "height": 204
        },
        "outputId": "541c329f-80f5-4f52-e1a8-6b9976a4537d"
      },
      "source": [
        "# R 강의 확인(2)\n",
        "df[df['title'].str[-1] =='R'].sort_values(by=['enrolled'], ascending=False)"
      ],
      "execution_count": 65,
      "outputs": [
        {
          "output_type": "execute_result",
          "data": {
            "text/html": [
              "<div>\n",
              "<style scoped>\n",
              "    .dataframe tbody tr th:only-of-type {\n",
              "        vertical-align: middle;\n",
              "    }\n",
              "\n",
              "    .dataframe tbody tr th {\n",
              "        vertical-align: top;\n",
              "    }\n",
              "\n",
              "    .dataframe thead th {\n",
              "        text-align: right;\n",
              "    }\n",
              "</style>\n",
              "<table border=\"1\" class=\"dataframe\">\n",
              "  <thead>\n",
              "    <tr style=\"text-align: right;\">\n",
              "      <th></th>\n",
              "      <th>title</th>\n",
              "      <th>rating</th>\n",
              "      <th>level</th>\n",
              "      <th>enrolled</th>\n",
              "    </tr>\n",
              "  </thead>\n",
              "  <tbody>\n",
              "    <tr>\n",
              "      <th>199</th>\n",
              "      <td>Data Science: Foundations using R</td>\n",
              "      <td>4.6</td>\n",
              "      <td>1</td>\n",
              "      <td>740000</td>\n",
              "    </tr>\n",
              "    <tr>\n",
              "      <th>753</th>\n",
              "      <td>Statistics with R</td>\n",
              "      <td>4.7</td>\n",
              "      <td>1</td>\n",
              "      <td>220000</td>\n",
              "    </tr>\n",
              "    <tr>\n",
              "      <th>652</th>\n",
              "      <td>Photography Basics and Beyond: From Smartphone...</td>\n",
              "      <td>4.7</td>\n",
              "      <td>1</td>\n",
              "      <td>160000</td>\n",
              "    </tr>\n",
              "    <tr>\n",
              "      <th>465</th>\n",
              "      <td>Introducción a Data Science: Programación Esta...</td>\n",
              "      <td>4.7</td>\n",
              "      <td>1</td>\n",
              "      <td>140000</td>\n",
              "    </tr>\n",
              "    <tr>\n",
              "      <th>592</th>\n",
              "      <td>Mastering Software Development in R</td>\n",
              "      <td>4.3</td>\n",
              "      <td>1</td>\n",
              "      <td>52000</td>\n",
              "    </tr>\n",
              "  </tbody>\n",
              "</table>\n",
              "</div>"
            ],
            "text/plain": [
              "                                                 title  rating  level  enrolled\n",
              "199                  Data Science: Foundations using R     4.6      1    740000\n",
              "753                                  Statistics with R     4.7      1    220000\n",
              "652  Photography Basics and Beyond: From Smartphone...     4.7      1    160000\n",
              "465  Introducción a Data Science: Programación Esta...     4.7      1    140000\n",
              "592                Mastering Software Development in R     4.3      1     52000"
            ]
          },
          "metadata": {
            "tags": []
          },
          "execution_count": 65
        }
      ]
    },
    {
      "cell_type": "code",
      "metadata": {
        "id": "t3wi-mhb6bnf",
        "colab_type": "code",
        "colab": {
          "base_uri": "https://localhost:8080/",
          "height": 111
        },
        "outputId": "acf1d7e6-796c-42c3-ee00-bc075c78dd14"
      },
      "source": [
        "# R 강의 확인(2)\n",
        "# 199, 753행만 추출합니다.\n",
        "df[df['title'].str[-1] =='R'].sort_values(by=['enrolled'], ascending=False).iloc[:2,:]"
      ],
      "execution_count": 70,
      "outputs": [
        {
          "output_type": "execute_result",
          "data": {
            "text/html": [
              "<div>\n",
              "<style scoped>\n",
              "    .dataframe tbody tr th:only-of-type {\n",
              "        vertical-align: middle;\n",
              "    }\n",
              "\n",
              "    .dataframe tbody tr th {\n",
              "        vertical-align: top;\n",
              "    }\n",
              "\n",
              "    .dataframe thead th {\n",
              "        text-align: right;\n",
              "    }\n",
              "</style>\n",
              "<table border=\"1\" class=\"dataframe\">\n",
              "  <thead>\n",
              "    <tr style=\"text-align: right;\">\n",
              "      <th></th>\n",
              "      <th>title</th>\n",
              "      <th>rating</th>\n",
              "      <th>level</th>\n",
              "      <th>enrolled</th>\n",
              "    </tr>\n",
              "  </thead>\n",
              "  <tbody>\n",
              "    <tr>\n",
              "      <th>199</th>\n",
              "      <td>Data Science: Foundations using R</td>\n",
              "      <td>4.6</td>\n",
              "      <td>1</td>\n",
              "      <td>740000</td>\n",
              "    </tr>\n",
              "    <tr>\n",
              "      <th>753</th>\n",
              "      <td>Statistics with R</td>\n",
              "      <td>4.7</td>\n",
              "      <td>1</td>\n",
              "      <td>220000</td>\n",
              "    </tr>\n",
              "  </tbody>\n",
              "</table>\n",
              "</div>"
            ],
            "text/plain": [
              "                                 title  rating  level  enrolled\n",
              "199  Data Science: Foundations using R     4.6      1    740000\n",
              "753                  Statistics with R     4.7      1    220000"
            ]
          },
          "metadata": {
            "tags": []
          },
          "execution_count": 70
        }
      ]
    },
    {
      "cell_type": "code",
      "metadata": {
        "id": "WySEV02y7adI",
        "colab_type": "code",
        "colab": {}
      },
      "source": [
        "# 추출한 행 저장\n",
        "R_temp_2 = df[df['title'].str[-1] =='R'].sort_values(by=['enrolled'], ascending=False).iloc[:2,:]"
      ],
      "execution_count": 72,
      "outputs": []
    },
    {
      "cell_type": "code",
      "metadata": {
        "id": "0-WbjhFm71NB",
        "colab_type": "code",
        "colab": {
          "base_uri": "https://localhost:8080/",
          "height": 142
        },
        "outputId": "f8c17648-70b2-49cd-acda-2d66df2bd87a"
      },
      "source": [
        "pd.concat([R_temp_1, R_temp_2])"
      ],
      "execution_count": 83,
      "outputs": [
        {
          "output_type": "execute_result",
          "data": {
            "text/html": [
              "<div>\n",
              "<style scoped>\n",
              "    .dataframe tbody tr th:only-of-type {\n",
              "        vertical-align: middle;\n",
              "    }\n",
              "\n",
              "    .dataframe tbody tr th {\n",
              "        vertical-align: top;\n",
              "    }\n",
              "\n",
              "    .dataframe thead th {\n",
              "        text-align: right;\n",
              "    }\n",
              "</style>\n",
              "<table border=\"1\" class=\"dataframe\">\n",
              "  <thead>\n",
              "    <tr style=\"text-align: right;\">\n",
              "      <th></th>\n",
              "      <th>title</th>\n",
              "      <th>rating</th>\n",
              "      <th>level</th>\n",
              "      <th>enrolled</th>\n",
              "    </tr>\n",
              "  </thead>\n",
              "  <tbody>\n",
              "    <tr>\n",
              "      <th>691</th>\n",
              "      <td>R Programming</td>\n",
              "      <td>4.6</td>\n",
              "      <td>3</td>\n",
              "      <td>480000</td>\n",
              "    </tr>\n",
              "    <tr>\n",
              "      <th>199</th>\n",
              "      <td>Data Science: Foundations using R</td>\n",
              "      <td>4.6</td>\n",
              "      <td>1</td>\n",
              "      <td>740000</td>\n",
              "    </tr>\n",
              "    <tr>\n",
              "      <th>753</th>\n",
              "      <td>Statistics with R</td>\n",
              "      <td>4.7</td>\n",
              "      <td>1</td>\n",
              "      <td>220000</td>\n",
              "    </tr>\n",
              "  </tbody>\n",
              "</table>\n",
              "</div>"
            ],
            "text/plain": [
              "                                 title rating level enrolled\n",
              "691                      R Programming    4.6     3   480000\n",
              "199  Data Science: Foundations using R    4.6     1   740000\n",
              "753                  Statistics with R    4.7     1   220000"
            ]
          },
          "metadata": {
            "tags": []
          },
          "execution_count": 83
        }
      ]
    },
    {
      "cell_type": "code",
      "metadata": {
        "id": "G0otrL3q_zfA",
        "colab_type": "code",
        "colab": {}
      },
      "source": [
        "# 베스트셀러 저장\n",
        "R_BestSellers = pd.concat([R_temp_1, R_temp_2])"
      ],
      "execution_count": 100,
      "outputs": []
    },
    {
      "cell_type": "markdown",
      "metadata": {
        "id": "YN_qljmk8f6I",
        "colab_type": "text"
      },
      "source": [
        "### 3. Java Best Sellers"
      ]
    },
    {
      "cell_type": "code",
      "metadata": {
        "id": "sPKBMGZh9End",
        "colab_type": "code",
        "colab": {
          "base_uri": "https://localhost:8080/",
          "height": 359
        },
        "outputId": "8a72178a-3d7e-49fd-9a50-f72de030ee80"
      },
      "source": [
        "# Java 강의 확인\n",
        "df[df['title'].str.contains('Java')].sort_values(by=['enrolled'], ascending=False)"
      ],
      "execution_count": 84,
      "outputs": [
        {
          "output_type": "execute_result",
          "data": {
            "text/html": [
              "<div>\n",
              "<style scoped>\n",
              "    .dataframe tbody tr th:only-of-type {\n",
              "        vertical-align: middle;\n",
              "    }\n",
              "\n",
              "    .dataframe tbody tr th {\n",
              "        vertical-align: top;\n",
              "    }\n",
              "\n",
              "    .dataframe thead th {\n",
              "        text-align: right;\n",
              "    }\n",
              "</style>\n",
              "<table border=\"1\" class=\"dataframe\">\n",
              "  <thead>\n",
              "    <tr style=\"text-align: right;\">\n",
              "      <th></th>\n",
              "      <th>title</th>\n",
              "      <th>rating</th>\n",
              "      <th>level</th>\n",
              "      <th>enrolled</th>\n",
              "    </tr>\n",
              "  </thead>\n",
              "  <tbody>\n",
              "    <tr>\n",
              "      <th>535</th>\n",
              "      <td>Java Programming and Software Engineering Fund...</td>\n",
              "      <td>4.6</td>\n",
              "      <td>1</td>\n",
              "      <td>380000</td>\n",
              "    </tr>\n",
              "    <tr>\n",
              "      <th>633</th>\n",
              "      <td>Object Oriented Programming in Java</td>\n",
              "      <td>4.6</td>\n",
              "      <td>1</td>\n",
              "      <td>330000</td>\n",
              "    </tr>\n",
              "    <tr>\n",
              "      <th>632</th>\n",
              "      <td>Object Oriented Java Programming: Data Structu...</td>\n",
              "      <td>4.7</td>\n",
              "      <td>3</td>\n",
              "      <td>250000</td>\n",
              "    </tr>\n",
              "    <tr>\n",
              "      <th>672</th>\n",
              "      <td>Programming Foundations with JavaScript, HTML ...</td>\n",
              "      <td>4.6</td>\n",
              "      <td>1</td>\n",
              "      <td>250000</td>\n",
              "    </tr>\n",
              "    <tr>\n",
              "      <th>399</th>\n",
              "      <td>HTML, CSS, and Javascript for Web Developers</td>\n",
              "      <td>4.8</td>\n",
              "      <td>2</td>\n",
              "      <td>240000</td>\n",
              "    </tr>\n",
              "    <tr>\n",
              "      <th>536</th>\n",
              "      <td>Java Programming: Solving Problems with Software</td>\n",
              "      <td>4.6</td>\n",
              "      <td>1</td>\n",
              "      <td>160000</td>\n",
              "    </tr>\n",
              "    <tr>\n",
              "      <th>538</th>\n",
              "      <td>Kotlin for Java Developers</td>\n",
              "      <td>4.7</td>\n",
              "      <td>3</td>\n",
              "      <td>37000</td>\n",
              "    </tr>\n",
              "    <tr>\n",
              "      <th>645</th>\n",
              "      <td>Parallel, Concurrent, and Distributed Programm...</td>\n",
              "      <td>4.5</td>\n",
              "      <td>3</td>\n",
              "      <td>30000</td>\n",
              "    </tr>\n",
              "    <tr>\n",
              "      <th>888</th>\n",
              "      <td>Разработка интерфейсов: вёрстка и JavaScript</td>\n",
              "      <td>4.5</td>\n",
              "      <td>3</td>\n",
              "      <td>30000</td>\n",
              "    </tr>\n",
              "    <tr>\n",
              "      <th>107</th>\n",
              "      <td>Building Scalable Java Microservices with Spri...</td>\n",
              "      <td>4.3</td>\n",
              "      <td>3</td>\n",
              "      <td>24000</td>\n",
              "    </tr>\n",
              "  </tbody>\n",
              "</table>\n",
              "</div>"
            ],
            "text/plain": [
              "                                                 title  rating  level  enrolled\n",
              "535  Java Programming and Software Engineering Fund...     4.6      1    380000\n",
              "633                Object Oriented Programming in Java     4.6      1    330000\n",
              "632  Object Oriented Java Programming: Data Structu...     4.7      3    250000\n",
              "672  Programming Foundations with JavaScript, HTML ...     4.6      1    250000\n",
              "399       HTML, CSS, and Javascript for Web Developers     4.8      2    240000\n",
              "536   Java Programming: Solving Problems with Software     4.6      1    160000\n",
              "538                         Kotlin for Java Developers     4.7      3     37000\n",
              "645  Parallel, Concurrent, and Distributed Programm...     4.5      3     30000\n",
              "888       Разработка интерфейсов: вёрстка и JavaScript     4.5      3     30000\n",
              "107  Building Scalable Java Microservices with Spri...     4.3      3     24000"
            ]
          },
          "metadata": {
            "tags": []
          },
          "execution_count": 84
        }
      ]
    },
    {
      "cell_type": "code",
      "metadata": {
        "id": "TuDfsZpQ9RQq",
        "colab_type": "code",
        "colab": {
          "base_uri": "https://localhost:8080/",
          "height": 235
        },
        "outputId": "7c75b73e-6702-49cf-efc2-eceb0ce6a91f"
      },
      "source": [
        "Java_Courses = df[df['title'].str.contains('Java')].sort_values(by=['enrolled'], ascending=False)\n",
        "Java_BestSellers = Java_Courses[Java_Courses['enrolled']>100000]\n",
        "Java_BestSellers"
      ],
      "execution_count": 87,
      "outputs": [
        {
          "output_type": "execute_result",
          "data": {
            "text/html": [
              "<div>\n",
              "<style scoped>\n",
              "    .dataframe tbody tr th:only-of-type {\n",
              "        vertical-align: middle;\n",
              "    }\n",
              "\n",
              "    .dataframe tbody tr th {\n",
              "        vertical-align: top;\n",
              "    }\n",
              "\n",
              "    .dataframe thead th {\n",
              "        text-align: right;\n",
              "    }\n",
              "</style>\n",
              "<table border=\"1\" class=\"dataframe\">\n",
              "  <thead>\n",
              "    <tr style=\"text-align: right;\">\n",
              "      <th></th>\n",
              "      <th>title</th>\n",
              "      <th>rating</th>\n",
              "      <th>level</th>\n",
              "      <th>enrolled</th>\n",
              "    </tr>\n",
              "  </thead>\n",
              "  <tbody>\n",
              "    <tr>\n",
              "      <th>535</th>\n",
              "      <td>Java Programming and Software Engineering Fund...</td>\n",
              "      <td>4.6</td>\n",
              "      <td>1</td>\n",
              "      <td>380000</td>\n",
              "    </tr>\n",
              "    <tr>\n",
              "      <th>633</th>\n",
              "      <td>Object Oriented Programming in Java</td>\n",
              "      <td>4.6</td>\n",
              "      <td>1</td>\n",
              "      <td>330000</td>\n",
              "    </tr>\n",
              "    <tr>\n",
              "      <th>632</th>\n",
              "      <td>Object Oriented Java Programming: Data Structu...</td>\n",
              "      <td>4.7</td>\n",
              "      <td>3</td>\n",
              "      <td>250000</td>\n",
              "    </tr>\n",
              "    <tr>\n",
              "      <th>672</th>\n",
              "      <td>Programming Foundations with JavaScript, HTML ...</td>\n",
              "      <td>4.6</td>\n",
              "      <td>1</td>\n",
              "      <td>250000</td>\n",
              "    </tr>\n",
              "    <tr>\n",
              "      <th>399</th>\n",
              "      <td>HTML, CSS, and Javascript for Web Developers</td>\n",
              "      <td>4.8</td>\n",
              "      <td>2</td>\n",
              "      <td>240000</td>\n",
              "    </tr>\n",
              "    <tr>\n",
              "      <th>536</th>\n",
              "      <td>Java Programming: Solving Problems with Software</td>\n",
              "      <td>4.6</td>\n",
              "      <td>1</td>\n",
              "      <td>160000</td>\n",
              "    </tr>\n",
              "  </tbody>\n",
              "</table>\n",
              "</div>"
            ],
            "text/plain": [
              "                                                 title  rating  level  enrolled\n",
              "535  Java Programming and Software Engineering Fund...     4.6      1    380000\n",
              "633                Object Oriented Programming in Java     4.6      1    330000\n",
              "632  Object Oriented Java Programming: Data Structu...     4.7      3    250000\n",
              "672  Programming Foundations with JavaScript, HTML ...     4.6      1    250000\n",
              "399       HTML, CSS, and Javascript for Web Developers     4.8      2    240000\n",
              "536   Java Programming: Solving Problems with Software     4.6      1    160000"
            ]
          },
          "metadata": {
            "tags": []
          },
          "execution_count": 87
        }
      ]
    },
    {
      "cell_type": "code",
      "metadata": {
        "id": "_Kudpm4K939o",
        "colab_type": "code",
        "colab": {
          "base_uri": "https://localhost:8080/",
          "height": 173
        },
        "outputId": "5606ea91-6c12-4884-e08a-b47589df79ed"
      },
      "source": [
        "# JavaScript도 포함되어 있습니다. 제외해줍니다.\n",
        "Java_BestSellers = Java_BestSellers[Java_BestSellers['title'].str.contains('JavaScript')==False]\n",
        "Java_BestSellers = Java_BestSellers[Java_BestSellers['title'].str.contains('Javascript')==False]\n",
        "Java_BestSellers"
      ],
      "execution_count": 91,
      "outputs": [
        {
          "output_type": "execute_result",
          "data": {
            "text/html": [
              "<div>\n",
              "<style scoped>\n",
              "    .dataframe tbody tr th:only-of-type {\n",
              "        vertical-align: middle;\n",
              "    }\n",
              "\n",
              "    .dataframe tbody tr th {\n",
              "        vertical-align: top;\n",
              "    }\n",
              "\n",
              "    .dataframe thead th {\n",
              "        text-align: right;\n",
              "    }\n",
              "</style>\n",
              "<table border=\"1\" class=\"dataframe\">\n",
              "  <thead>\n",
              "    <tr style=\"text-align: right;\">\n",
              "      <th></th>\n",
              "      <th>title</th>\n",
              "      <th>rating</th>\n",
              "      <th>level</th>\n",
              "      <th>enrolled</th>\n",
              "    </tr>\n",
              "  </thead>\n",
              "  <tbody>\n",
              "    <tr>\n",
              "      <th>535</th>\n",
              "      <td>Java Programming and Software Engineering Fund...</td>\n",
              "      <td>4.6</td>\n",
              "      <td>1</td>\n",
              "      <td>380000</td>\n",
              "    </tr>\n",
              "    <tr>\n",
              "      <th>633</th>\n",
              "      <td>Object Oriented Programming in Java</td>\n",
              "      <td>4.6</td>\n",
              "      <td>1</td>\n",
              "      <td>330000</td>\n",
              "    </tr>\n",
              "    <tr>\n",
              "      <th>632</th>\n",
              "      <td>Object Oriented Java Programming: Data Structu...</td>\n",
              "      <td>4.7</td>\n",
              "      <td>3</td>\n",
              "      <td>250000</td>\n",
              "    </tr>\n",
              "    <tr>\n",
              "      <th>536</th>\n",
              "      <td>Java Programming: Solving Problems with Software</td>\n",
              "      <td>4.6</td>\n",
              "      <td>1</td>\n",
              "      <td>160000</td>\n",
              "    </tr>\n",
              "  </tbody>\n",
              "</table>\n",
              "</div>"
            ],
            "text/plain": [
              "                                                 title  rating  level  enrolled\n",
              "535  Java Programming and Software Engineering Fund...     4.6      1    380000\n",
              "633                Object Oriented Programming in Java     4.6      1    330000\n",
              "632  Object Oriented Java Programming: Data Structu...     4.7      3    250000\n",
              "536   Java Programming: Solving Problems with Software     4.6      1    160000"
            ]
          },
          "metadata": {
            "tags": []
          },
          "execution_count": 91
        }
      ]
    },
    {
      "cell_type": "markdown",
      "metadata": {
        "id": "Gusdn3Hx-M76",
        "colab_type": "text"
      },
      "source": [
        "### 4. JavaScript Best Sellers\n"
      ]
    },
    {
      "cell_type": "code",
      "metadata": {
        "id": "U98BXSZ0-mjx",
        "colab_type": "code",
        "colab": {
          "base_uri": "https://localhost:8080/",
          "height": 111
        },
        "outputId": "7a73290d-7609-41b3-c3d1-3f9dd84bb980"
      },
      "source": [
        "# JavaScript 강의 확인\n",
        "df[df['title'].str.contains('JavaScript')].sort_values(by=['enrolled'], ascending=False)"
      ],
      "execution_count": 94,
      "outputs": [
        {
          "output_type": "execute_result",
          "data": {
            "text/html": [
              "<div>\n",
              "<style scoped>\n",
              "    .dataframe tbody tr th:only-of-type {\n",
              "        vertical-align: middle;\n",
              "    }\n",
              "\n",
              "    .dataframe tbody tr th {\n",
              "        vertical-align: top;\n",
              "    }\n",
              "\n",
              "    .dataframe thead th {\n",
              "        text-align: right;\n",
              "    }\n",
              "</style>\n",
              "<table border=\"1\" class=\"dataframe\">\n",
              "  <thead>\n",
              "    <tr style=\"text-align: right;\">\n",
              "      <th></th>\n",
              "      <th>title</th>\n",
              "      <th>rating</th>\n",
              "      <th>level</th>\n",
              "      <th>enrolled</th>\n",
              "    </tr>\n",
              "  </thead>\n",
              "  <tbody>\n",
              "    <tr>\n",
              "      <th>672</th>\n",
              "      <td>Programming Foundations with JavaScript, HTML ...</td>\n",
              "      <td>4.6</td>\n",
              "      <td>1</td>\n",
              "      <td>250000</td>\n",
              "    </tr>\n",
              "    <tr>\n",
              "      <th>888</th>\n",
              "      <td>Разработка интерфейсов: вёрстка и JavaScript</td>\n",
              "      <td>4.5</td>\n",
              "      <td>3</td>\n",
              "      <td>30000</td>\n",
              "    </tr>\n",
              "  </tbody>\n",
              "</table>\n",
              "</div>"
            ],
            "text/plain": [
              "                                                 title  rating  level  enrolled\n",
              "672  Programming Foundations with JavaScript, HTML ...     4.6      1    250000\n",
              "888       Разработка интерфейсов: вёрстка и JavaScript     4.5      3     30000"
            ]
          },
          "metadata": {
            "tags": []
          },
          "execution_count": 94
        }
      ]
    },
    {
      "cell_type": "code",
      "metadata": {
        "id": "VmKiKkXO_PPq",
        "colab_type": "code",
        "colab": {}
      },
      "source": [
        "JavaScript_temp_1 = df[df['title'].str.contains('JavaScript')].sort_values(by=['enrolled'], ascending=False).iloc[0,:]\n",
        "JavaScript_temp_1 = pd.DataFrame(JavaScript_temp_1).T"
      ],
      "execution_count": 97,
      "outputs": []
    },
    {
      "cell_type": "code",
      "metadata": {
        "id": "PO9lW0vT_dSG",
        "colab_type": "code",
        "colab": {
          "base_uri": "https://localhost:8080/",
          "height": 80
        },
        "outputId": "e1e09530-9a6f-43bf-a793-9f10e15c3d75"
      },
      "source": [
        "# 병합 전 임시 할당\n",
        "JavaScript_temp_1"
      ],
      "execution_count": 98,
      "outputs": [
        {
          "output_type": "execute_result",
          "data": {
            "text/html": [
              "<div>\n",
              "<style scoped>\n",
              "    .dataframe tbody tr th:only-of-type {\n",
              "        vertical-align: middle;\n",
              "    }\n",
              "\n",
              "    .dataframe tbody tr th {\n",
              "        vertical-align: top;\n",
              "    }\n",
              "\n",
              "    .dataframe thead th {\n",
              "        text-align: right;\n",
              "    }\n",
              "</style>\n",
              "<table border=\"1\" class=\"dataframe\">\n",
              "  <thead>\n",
              "    <tr style=\"text-align: right;\">\n",
              "      <th></th>\n",
              "      <th>title</th>\n",
              "      <th>rating</th>\n",
              "      <th>level</th>\n",
              "      <th>enrolled</th>\n",
              "    </tr>\n",
              "  </thead>\n",
              "  <tbody>\n",
              "    <tr>\n",
              "      <th>672</th>\n",
              "      <td>Programming Foundations with JavaScript, HTML ...</td>\n",
              "      <td>4.6</td>\n",
              "      <td>1</td>\n",
              "      <td>250000</td>\n",
              "    </tr>\n",
              "  </tbody>\n",
              "</table>\n",
              "</div>"
            ],
            "text/plain": [
              "                                                 title rating level enrolled\n",
              "672  Programming Foundations with JavaScript, HTML ...    4.6     1   250000"
            ]
          },
          "metadata": {
            "tags": []
          },
          "execution_count": 98
        }
      ]
    },
    {
      "cell_type": "code",
      "metadata": {
        "id": "R797L7aP-6BJ",
        "colab_type": "code",
        "colab": {
          "base_uri": "https://localhost:8080/",
          "height": 80
        },
        "outputId": "b789f3d4-e7ac-43a4-ade5-3185e30b1389"
      },
      "source": [
        "df[df['title'].str.contains('Javascript')].sort_values(by=['enrolled'], ascending=False)"
      ],
      "execution_count": 96,
      "outputs": [
        {
          "output_type": "execute_result",
          "data": {
            "text/html": [
              "<div>\n",
              "<style scoped>\n",
              "    .dataframe tbody tr th:only-of-type {\n",
              "        vertical-align: middle;\n",
              "    }\n",
              "\n",
              "    .dataframe tbody tr th {\n",
              "        vertical-align: top;\n",
              "    }\n",
              "\n",
              "    .dataframe thead th {\n",
              "        text-align: right;\n",
              "    }\n",
              "</style>\n",
              "<table border=\"1\" class=\"dataframe\">\n",
              "  <thead>\n",
              "    <tr style=\"text-align: right;\">\n",
              "      <th></th>\n",
              "      <th>title</th>\n",
              "      <th>rating</th>\n",
              "      <th>level</th>\n",
              "      <th>enrolled</th>\n",
              "    </tr>\n",
              "  </thead>\n",
              "  <tbody>\n",
              "    <tr>\n",
              "      <th>399</th>\n",
              "      <td>HTML, CSS, and Javascript for Web Developers</td>\n",
              "      <td>4.8</td>\n",
              "      <td>2</td>\n",
              "      <td>240000</td>\n",
              "    </tr>\n",
              "  </tbody>\n",
              "</table>\n",
              "</div>"
            ],
            "text/plain": [
              "                                            title  rating  level  enrolled\n",
              "399  HTML, CSS, and Javascript for Web Developers     4.8      2    240000"
            ]
          },
          "metadata": {
            "tags": []
          },
          "execution_count": 96
        }
      ]
    },
    {
      "cell_type": "code",
      "metadata": {
        "id": "6dAc0z7f_KCa",
        "colab_type": "code",
        "colab": {}
      },
      "source": [
        "# 병합 전 임시 할당\n",
        "JavaScript_temp_2 = df[df['title'].str.contains('Javascript')].sort_values(by=['enrolled'], ascending=False)"
      ],
      "execution_count": 99,
      "outputs": []
    },
    {
      "cell_type": "code",
      "metadata": {
        "id": "59R9O0l9_n0l",
        "colab_type": "code",
        "colab": {
          "base_uri": "https://localhost:8080/",
          "height": 111
        },
        "outputId": "f61de042-a6f5-4beb-9742-87af1bcf34e8"
      },
      "source": [
        "pd.concat([JavaScript_temp_1, JavaScript_temp_2])"
      ],
      "execution_count": 101,
      "outputs": [
        {
          "output_type": "execute_result",
          "data": {
            "text/html": [
              "<div>\n",
              "<style scoped>\n",
              "    .dataframe tbody tr th:only-of-type {\n",
              "        vertical-align: middle;\n",
              "    }\n",
              "\n",
              "    .dataframe tbody tr th {\n",
              "        vertical-align: top;\n",
              "    }\n",
              "\n",
              "    .dataframe thead th {\n",
              "        text-align: right;\n",
              "    }\n",
              "</style>\n",
              "<table border=\"1\" class=\"dataframe\">\n",
              "  <thead>\n",
              "    <tr style=\"text-align: right;\">\n",
              "      <th></th>\n",
              "      <th>title</th>\n",
              "      <th>rating</th>\n",
              "      <th>level</th>\n",
              "      <th>enrolled</th>\n",
              "    </tr>\n",
              "  </thead>\n",
              "  <tbody>\n",
              "    <tr>\n",
              "      <th>672</th>\n",
              "      <td>Programming Foundations with JavaScript, HTML ...</td>\n",
              "      <td>4.6</td>\n",
              "      <td>1</td>\n",
              "      <td>250000</td>\n",
              "    </tr>\n",
              "    <tr>\n",
              "      <th>399</th>\n",
              "      <td>HTML, CSS, and Javascript for Web Developers</td>\n",
              "      <td>4.8</td>\n",
              "      <td>2</td>\n",
              "      <td>240000</td>\n",
              "    </tr>\n",
              "  </tbody>\n",
              "</table>\n",
              "</div>"
            ],
            "text/plain": [
              "                                                 title rating level enrolled\n",
              "672  Programming Foundations with JavaScript, HTML ...    4.6     1   250000\n",
              "399       HTML, CSS, and Javascript for Web Developers    4.8     2   240000"
            ]
          },
          "metadata": {
            "tags": []
          },
          "execution_count": 101
        }
      ]
    },
    {
      "cell_type": "code",
      "metadata": {
        "id": "SIsHnc_5ACZM",
        "colab_type": "code",
        "colab": {}
      },
      "source": [
        "# 베스트셀러 저장\n",
        "JavaScript_BestSellers = pd.concat([JavaScript_temp_1, JavaScript_temp_2])"
      ],
      "execution_count": 102,
      "outputs": []
    },
    {
      "cell_type": "markdown",
      "metadata": {
        "id": "fq4_tNEQAF8d",
        "colab_type": "text"
      },
      "source": [
        "### 5. Django Best Sellers"
      ]
    },
    {
      "cell_type": "code",
      "metadata": {
        "id": "QXjXyA7wAjMY",
        "colab_type": "code",
        "colab": {
          "base_uri": "https://localhost:8080/",
          "height": 49
        },
        "outputId": "edb43b65-4bc5-473c-9287-a28a832f782b"
      },
      "source": [
        "# Django 강의 확인\n",
        "df[df['title'].str.contains('Django')].sort_values(by=['enrolled'], ascending=False)"
      ],
      "execution_count": 112,
      "outputs": [
        {
          "output_type": "execute_result",
          "data": {
            "text/html": [
              "<div>\n",
              "<style scoped>\n",
              "    .dataframe tbody tr th:only-of-type {\n",
              "        vertical-align: middle;\n",
              "    }\n",
              "\n",
              "    .dataframe tbody tr th {\n",
              "        vertical-align: top;\n",
              "    }\n",
              "\n",
              "    .dataframe thead th {\n",
              "        text-align: right;\n",
              "    }\n",
              "</style>\n",
              "<table border=\"1\" class=\"dataframe\">\n",
              "  <thead>\n",
              "    <tr style=\"text-align: right;\">\n",
              "      <th></th>\n",
              "      <th>title</th>\n",
              "      <th>rating</th>\n",
              "      <th>level</th>\n",
              "      <th>enrolled</th>\n",
              "    </tr>\n",
              "  </thead>\n",
              "  <tbody>\n",
              "  </tbody>\n",
              "</table>\n",
              "</div>"
            ],
            "text/plain": [
              "Empty DataFrame\n",
              "Columns: [title, rating, level, enrolled]\n",
              "Index: []"
            ]
          },
          "metadata": {
            "tags": []
          },
          "execution_count": 112
        }
      ]
    },
    {
      "cell_type": "markdown",
      "metadata": {
        "id": "io9z2x6MBiq9",
        "colab_type": "text"
      },
      "source": [
        "### 6. Flask Best Sellers"
      ]
    },
    {
      "cell_type": "code",
      "metadata": {
        "id": "n0yinYVJAlrg",
        "colab_type": "code",
        "colab": {
          "base_uri": "https://localhost:8080/",
          "height": 49
        },
        "outputId": "e494bbfc-f606-4dd4-f02c-e51c8dfec8d2"
      },
      "source": [
        "# Flask 강의 확인\n",
        "df[df['title'].str.contains('Flask')].sort_values(by=['enrolled'], ascending=False)"
      ],
      "execution_count": 113,
      "outputs": [
        {
          "output_type": "execute_result",
          "data": {
            "text/html": [
              "<div>\n",
              "<style scoped>\n",
              "    .dataframe tbody tr th:only-of-type {\n",
              "        vertical-align: middle;\n",
              "    }\n",
              "\n",
              "    .dataframe tbody tr th {\n",
              "        vertical-align: top;\n",
              "    }\n",
              "\n",
              "    .dataframe thead th {\n",
              "        text-align: right;\n",
              "    }\n",
              "</style>\n",
              "<table border=\"1\" class=\"dataframe\">\n",
              "  <thead>\n",
              "    <tr style=\"text-align: right;\">\n",
              "      <th></th>\n",
              "      <th>title</th>\n",
              "      <th>rating</th>\n",
              "      <th>level</th>\n",
              "      <th>enrolled</th>\n",
              "    </tr>\n",
              "  </thead>\n",
              "  <tbody>\n",
              "  </tbody>\n",
              "</table>\n",
              "</div>"
            ],
            "text/plain": [
              "Empty DataFrame\n",
              "Columns: [title, rating, level, enrolled]\n",
              "Index: []"
            ]
          },
          "metadata": {
            "tags": []
          },
          "execution_count": 113
        }
      ]
    },
    {
      "cell_type": "markdown",
      "metadata": {
        "id": "Z51iqst4BqiT",
        "colab_type": "text"
      },
      "source": [
        "### 7. React Best Sellers"
      ]
    },
    {
      "cell_type": "code",
      "metadata": {
        "id": "P58Z1MODBoz9",
        "colab_type": "code",
        "colab": {
          "base_uri": "https://localhost:8080/",
          "height": 142
        },
        "outputId": "a9814fcf-385f-48d3-eeae-b6863275164c"
      },
      "source": [
        "# React 강의 확인\n",
        "df[df['title'].str.contains('React')].sort_values(by=['enrolled'], ascending=False)"
      ],
      "execution_count": 114,
      "outputs": [
        {
          "output_type": "execute_result",
          "data": {
            "text/html": [
              "<div>\n",
              "<style scoped>\n",
              "    .dataframe tbody tr th:only-of-type {\n",
              "        vertical-align: middle;\n",
              "    }\n",
              "\n",
              "    .dataframe tbody tr th {\n",
              "        vertical-align: top;\n",
              "    }\n",
              "\n",
              "    .dataframe thead th {\n",
              "        text-align: right;\n",
              "    }\n",
              "</style>\n",
              "<table border=\"1\" class=\"dataframe\">\n",
              "  <thead>\n",
              "    <tr style=\"text-align: right;\">\n",
              "      <th></th>\n",
              "      <th>title</th>\n",
              "      <th>rating</th>\n",
              "      <th>level</th>\n",
              "      <th>enrolled</th>\n",
              "    </tr>\n",
              "  </thead>\n",
              "  <tbody>\n",
              "    <tr>\n",
              "      <th>339</th>\n",
              "      <td>Full-Stack Web Development with React</td>\n",
              "      <td>4.7</td>\n",
              "      <td>3</td>\n",
              "      <td>140000</td>\n",
              "    </tr>\n",
              "    <tr>\n",
              "      <th>476</th>\n",
              "      <td>Introduction to Chemistry:  Reactions and Ratios</td>\n",
              "      <td>4.8</td>\n",
              "      <td>1</td>\n",
              "      <td>46000</td>\n",
              "    </tr>\n",
              "    <tr>\n",
              "      <th>336</th>\n",
              "      <td>Front-End Web Development with React</td>\n",
              "      <td>4.7</td>\n",
              "      <td>3</td>\n",
              "      <td>45000</td>\n",
              "    </tr>\n",
              "  </tbody>\n",
              "</table>\n",
              "</div>"
            ],
            "text/plain": [
              "                                                title  rating  level  enrolled\n",
              "339             Full-Stack Web Development with React     4.7      3    140000\n",
              "476  Introduction to Chemistry:  Reactions and Ratios     4.8      1     46000\n",
              "336              Front-End Web Development with React     4.7      3     45000"
            ]
          },
          "metadata": {
            "tags": []
          },
          "execution_count": 114
        }
      ]
    },
    {
      "cell_type": "code",
      "metadata": {
        "id": "EYaDqutQBwB1",
        "colab_type": "code",
        "colab": {}
      },
      "source": [
        "React_Courses = df[df['title'].str.contains('React')].sort_values(by=['enrolled'], ascending=False)\n",
        "React_BestSellers = React_Courses[React_Courses['enrolled']>100000]"
      ],
      "execution_count": 115,
      "outputs": []
    },
    {
      "cell_type": "code",
      "metadata": {
        "id": "4JxaaFe6B8Kc",
        "colab_type": "code",
        "colab": {
          "base_uri": "https://localhost:8080/",
          "height": 80
        },
        "outputId": "89478428-0291-4816-ba6a-d48f39cdd201"
      },
      "source": [
        "# 베스트셀러 저장\n",
        "React_BestSellers"
      ],
      "execution_count": 116,
      "outputs": [
        {
          "output_type": "execute_result",
          "data": {
            "text/html": [
              "<div>\n",
              "<style scoped>\n",
              "    .dataframe tbody tr th:only-of-type {\n",
              "        vertical-align: middle;\n",
              "    }\n",
              "\n",
              "    .dataframe tbody tr th {\n",
              "        vertical-align: top;\n",
              "    }\n",
              "\n",
              "    .dataframe thead th {\n",
              "        text-align: right;\n",
              "    }\n",
              "</style>\n",
              "<table border=\"1\" class=\"dataframe\">\n",
              "  <thead>\n",
              "    <tr style=\"text-align: right;\">\n",
              "      <th></th>\n",
              "      <th>title</th>\n",
              "      <th>rating</th>\n",
              "      <th>level</th>\n",
              "      <th>enrolled</th>\n",
              "    </tr>\n",
              "  </thead>\n",
              "  <tbody>\n",
              "    <tr>\n",
              "      <th>339</th>\n",
              "      <td>Full-Stack Web Development with React</td>\n",
              "      <td>4.7</td>\n",
              "      <td>3</td>\n",
              "      <td>140000</td>\n",
              "    </tr>\n",
              "  </tbody>\n",
              "</table>\n",
              "</div>"
            ],
            "text/plain": [
              "                                     title  rating  level  enrolled\n",
              "339  Full-Stack Web Development with React     4.7      3    140000"
            ]
          },
          "metadata": {
            "tags": []
          },
          "execution_count": 116
        }
      ]
    },
    {
      "cell_type": "markdown",
      "metadata": {
        "id": "tBJDhAFBB9NS",
        "colab_type": "text"
      },
      "source": [
        "### 8. Vue Best Sellers"
      ]
    },
    {
      "cell_type": "code",
      "metadata": {
        "id": "-5dKU6e1CEfB",
        "colab_type": "code",
        "colab": {
          "base_uri": "https://localhost:8080/",
          "height": 49
        },
        "outputId": "4c86c410-5d4d-401f-a636-61ff48a3788d"
      },
      "source": [
        "# Vue 강의 확인\n",
        "df[df['title'].str.contains('Vue')].sort_values(by=['enrolled'], ascending=False)"
      ],
      "execution_count": 117,
      "outputs": [
        {
          "output_type": "execute_result",
          "data": {
            "text/html": [
              "<div>\n",
              "<style scoped>\n",
              "    .dataframe tbody tr th:only-of-type {\n",
              "        vertical-align: middle;\n",
              "    }\n",
              "\n",
              "    .dataframe tbody tr th {\n",
              "        vertical-align: top;\n",
              "    }\n",
              "\n",
              "    .dataframe thead th {\n",
              "        text-align: right;\n",
              "    }\n",
              "</style>\n",
              "<table border=\"1\" class=\"dataframe\">\n",
              "  <thead>\n",
              "    <tr style=\"text-align: right;\">\n",
              "      <th></th>\n",
              "      <th>title</th>\n",
              "      <th>rating</th>\n",
              "      <th>level</th>\n",
              "      <th>enrolled</th>\n",
              "    </tr>\n",
              "  </thead>\n",
              "  <tbody>\n",
              "  </tbody>\n",
              "</table>\n",
              "</div>"
            ],
            "text/plain": [
              "Empty DataFrame\n",
              "Columns: [title, rating, level, enrolled]\n",
              "Index: []"
            ]
          },
          "metadata": {
            "tags": []
          },
          "execution_count": 117
        }
      ]
    },
    {
      "cell_type": "code",
      "metadata": {
        "id": "NpIh1XbpCIuk",
        "colab_type": "code",
        "colab": {
          "base_uri": "https://localhost:8080/",
          "height": 49
        },
        "outputId": "553e873c-e514-4518-e5f6-58b7f1f03fb2"
      },
      "source": [
        "# Vue 강의 확인\n",
        "df[df['title'].str.contains('vue')].sort_values(by=['enrolled'], ascending=False)"
      ],
      "execution_count": 118,
      "outputs": [
        {
          "output_type": "execute_result",
          "data": {
            "text/html": [
              "<div>\n",
              "<style scoped>\n",
              "    .dataframe tbody tr th:only-of-type {\n",
              "        vertical-align: middle;\n",
              "    }\n",
              "\n",
              "    .dataframe tbody tr th {\n",
              "        vertical-align: top;\n",
              "    }\n",
              "\n",
              "    .dataframe thead th {\n",
              "        text-align: right;\n",
              "    }\n",
              "</style>\n",
              "<table border=\"1\" class=\"dataframe\">\n",
              "  <thead>\n",
              "    <tr style=\"text-align: right;\">\n",
              "      <th></th>\n",
              "      <th>title</th>\n",
              "      <th>rating</th>\n",
              "      <th>level</th>\n",
              "      <th>enrolled</th>\n",
              "    </tr>\n",
              "  </thead>\n",
              "  <tbody>\n",
              "  </tbody>\n",
              "</table>\n",
              "</div>"
            ],
            "text/plain": [
              "Empty DataFrame\n",
              "Columns: [title, rating, level, enrolled]\n",
              "Index: []"
            ]
          },
          "metadata": {
            "tags": []
          },
          "execution_count": 118
        }
      ]
    },
    {
      "cell_type": "markdown",
      "metadata": {
        "id": "6AttzhNNCN6c",
        "colab_type": "text"
      },
      "source": [
        "### 9. Tensorflow Best Sellers"
      ]
    },
    {
      "cell_type": "code",
      "metadata": {
        "id": "AlfvoOHfCLHQ",
        "colab_type": "code",
        "colab": {
          "base_uri": "https://localhost:8080/",
          "height": 266
        },
        "outputId": "a28b5e0d-b4df-46f5-b9fa-7e0e7dc8ac9e"
      },
      "source": [
        "# Tensorflow 강의 확인\n",
        "df[df['title'].str.contains('TensorFlow')].sort_values(by=['enrolled'], ascending=False)"
      ],
      "execution_count": 123,
      "outputs": [
        {
          "output_type": "execute_result",
          "data": {
            "text/html": [
              "<div>\n",
              "<style scoped>\n",
              "    .dataframe tbody tr th:only-of-type {\n",
              "        vertical-align: middle;\n",
              "    }\n",
              "\n",
              "    .dataframe tbody tr th {\n",
              "        vertical-align: top;\n",
              "    }\n",
              "\n",
              "    .dataframe thead th {\n",
              "        text-align: right;\n",
              "    }\n",
              "</style>\n",
              "<table border=\"1\" class=\"dataframe\">\n",
              "  <thead>\n",
              "    <tr style=\"text-align: right;\">\n",
              "      <th></th>\n",
              "      <th>title</th>\n",
              "      <th>rating</th>\n",
              "      <th>level</th>\n",
              "      <th>enrolled</th>\n",
              "    </tr>\n",
              "  </thead>\n",
              "  <tbody>\n",
              "    <tr>\n",
              "      <th>787</th>\n",
              "      <td>TensorFlow in Practice</td>\n",
              "      <td>4.7</td>\n",
              "      <td>3</td>\n",
              "      <td>170000</td>\n",
              "    </tr>\n",
              "    <tr>\n",
              "      <th>520</th>\n",
              "      <td>Introduction to TensorFlow for Artificial Inte...</td>\n",
              "      <td>4.7</td>\n",
              "      <td>3</td>\n",
              "      <td>150000</td>\n",
              "    </tr>\n",
              "    <tr>\n",
              "      <th>571</th>\n",
              "      <td>Machine Learning with TensorFlow on Google Clo...</td>\n",
              "      <td>4.5</td>\n",
              "      <td>3</td>\n",
              "      <td>72000</td>\n",
              "    </tr>\n",
              "    <tr>\n",
              "      <th>163</th>\n",
              "      <td>Convolutional Neural Networks in TensorFlow</td>\n",
              "      <td>4.7</td>\n",
              "      <td>3</td>\n",
              "      <td>46000</td>\n",
              "    </tr>\n",
              "    <tr>\n",
              "      <th>621</th>\n",
              "      <td>Natural Language Processing in TensorFlow</td>\n",
              "      <td>4.6</td>\n",
              "      <td>3</td>\n",
              "      <td>40000</td>\n",
              "    </tr>\n",
              "    <tr>\n",
              "      <th>29</th>\n",
              "      <td>Advanced Machine Learning with TensorFlow on G...</td>\n",
              "      <td>4.5</td>\n",
              "      <td>4</td>\n",
              "      <td>35000</td>\n",
              "    </tr>\n",
              "    <tr>\n",
              "      <th>788</th>\n",
              "      <td>TensorFlow: Data and Deployment</td>\n",
              "      <td>4.5</td>\n",
              "      <td>3</td>\n",
              "      <td>12000</td>\n",
              "    </tr>\n",
              "  </tbody>\n",
              "</table>\n",
              "</div>"
            ],
            "text/plain": [
              "                                                 title  rating  level  enrolled\n",
              "787                             TensorFlow in Practice     4.7      3    170000\n",
              "520  Introduction to TensorFlow for Artificial Inte...     4.7      3    150000\n",
              "571  Machine Learning with TensorFlow on Google Clo...     4.5      3     72000\n",
              "163        Convolutional Neural Networks in TensorFlow     4.7      3     46000\n",
              "621          Natural Language Processing in TensorFlow     4.6      3     40000\n",
              "29   Advanced Machine Learning with TensorFlow on G...     4.5      4     35000\n",
              "788                    TensorFlow: Data and Deployment     4.5      3     12000"
            ]
          },
          "metadata": {
            "tags": []
          },
          "execution_count": 123
        }
      ]
    },
    {
      "cell_type": "code",
      "metadata": {
        "id": "jQMI9BsODAnh",
        "colab_type": "code",
        "colab": {
          "base_uri": "https://localhost:8080/",
          "height": 111
        },
        "outputId": "fd19a7bc-deb3-44d1-fb50-74ebc4a0e43c"
      },
      "source": [
        "Tensorflow_Courses = df[df['title'].str.contains('TensorFlow')].sort_values(by=['enrolled'], ascending=False)\n",
        "Tensorflow_BestSellers = Tensorflow_Courses[Tensorflow_Courses['enrolled']>100000]\n",
        "# 베스트셀러 저장\n",
        "Tensorflow_BestSellers"
      ],
      "execution_count": 126,
      "outputs": [
        {
          "output_type": "execute_result",
          "data": {
            "text/html": [
              "<div>\n",
              "<style scoped>\n",
              "    .dataframe tbody tr th:only-of-type {\n",
              "        vertical-align: middle;\n",
              "    }\n",
              "\n",
              "    .dataframe tbody tr th {\n",
              "        vertical-align: top;\n",
              "    }\n",
              "\n",
              "    .dataframe thead th {\n",
              "        text-align: right;\n",
              "    }\n",
              "</style>\n",
              "<table border=\"1\" class=\"dataframe\">\n",
              "  <thead>\n",
              "    <tr style=\"text-align: right;\">\n",
              "      <th></th>\n",
              "      <th>title</th>\n",
              "      <th>rating</th>\n",
              "      <th>level</th>\n",
              "      <th>enrolled</th>\n",
              "    </tr>\n",
              "  </thead>\n",
              "  <tbody>\n",
              "    <tr>\n",
              "      <th>787</th>\n",
              "      <td>TensorFlow in Practice</td>\n",
              "      <td>4.7</td>\n",
              "      <td>3</td>\n",
              "      <td>170000</td>\n",
              "    </tr>\n",
              "    <tr>\n",
              "      <th>520</th>\n",
              "      <td>Introduction to TensorFlow for Artificial Inte...</td>\n",
              "      <td>4.7</td>\n",
              "      <td>3</td>\n",
              "      <td>150000</td>\n",
              "    </tr>\n",
              "  </tbody>\n",
              "</table>\n",
              "</div>"
            ],
            "text/plain": [
              "                                                 title  rating  level  enrolled\n",
              "787                             TensorFlow in Practice     4.7      3    170000\n",
              "520  Introduction to TensorFlow for Artificial Inte...     4.7      3    150000"
            ]
          },
          "metadata": {
            "tags": []
          },
          "execution_count": 126
        }
      ]
    },
    {
      "cell_type": "markdown",
      "metadata": {
        "id": "arwUkX0NCx3-",
        "colab_type": "text"
      },
      "source": [
        "### 10. PyTorch Best Sellers"
      ]
    },
    {
      "cell_type": "code",
      "metadata": {
        "id": "9MVsZ9ziCVLP",
        "colab_type": "code",
        "colab": {
          "base_uri": "https://localhost:8080/",
          "height": 49
        },
        "outputId": "daeb8415-4e07-4769-fbad-971e96dae21f"
      },
      "source": [
        "# Tensorflow 강의 확인\n",
        "df[df['title'].str.contains('PyTorch')].sort_values(by=['enrolled'], ascending=False)"
      ],
      "execution_count": 125,
      "outputs": [
        {
          "output_type": "execute_result",
          "data": {
            "text/html": [
              "<div>\n",
              "<style scoped>\n",
              "    .dataframe tbody tr th:only-of-type {\n",
              "        vertical-align: middle;\n",
              "    }\n",
              "\n",
              "    .dataframe tbody tr th {\n",
              "        vertical-align: top;\n",
              "    }\n",
              "\n",
              "    .dataframe thead th {\n",
              "        text-align: right;\n",
              "    }\n",
              "</style>\n",
              "<table border=\"1\" class=\"dataframe\">\n",
              "  <thead>\n",
              "    <tr style=\"text-align: right;\">\n",
              "      <th></th>\n",
              "      <th>title</th>\n",
              "      <th>rating</th>\n",
              "      <th>level</th>\n",
              "      <th>enrolled</th>\n",
              "    </tr>\n",
              "  </thead>\n",
              "  <tbody>\n",
              "  </tbody>\n",
              "</table>\n",
              "</div>"
            ],
            "text/plain": [
              "Empty DataFrame\n",
              "Columns: [title, rating, level, enrolled]\n",
              "Index: []"
            ]
          },
          "metadata": {
            "tags": []
          },
          "execution_count": 125
        }
      ]
    },
    {
      "cell_type": "markdown",
      "metadata": {
        "id": "Ii81uwpCDqvY",
        "colab_type": "text"
      },
      "source": [
        "## Step 6. Apply - Sector\n",
        "마지막으로 분야별 인기 강의를 알아보고, 분석을 종료합니다.\n",
        "\n",
        "1. Web\n",
        "2. App\n",
        "3. Algorithm\n",
        "4. Computer\n",
        "5. hacking\n",
        "6. Finance\n",
        "7. Commerce\n",
        "8. neural network\n",
        "9. machine learning \n",
        "10. deep learning"
      ]
    },
    {
      "cell_type": "markdown",
      "metadata": {
        "id": "IZ3iZl2vCip4",
        "colab_type": "text"
      },
      "source": [
        "### 1. Web"
      ]
    },
    {
      "cell_type": "code",
      "metadata": {
        "id": "7IW6Lwm1Eef8",
        "colab_type": "code",
        "colab": {
          "base_uri": "https://localhost:8080/",
          "height": 390
        },
        "outputId": "dccb906a-a2b2-4f58-a739-22f27d13add7"
      },
      "source": [
        "# Web 강의 확인\n",
        "df[df['title'].str.contains('Web')].sort_values(by=['enrolled'], ascending=False)"
      ],
      "execution_count": 127,
      "outputs": [
        {
          "output_type": "execute_result",
          "data": {
            "text/html": [
              "<div>\n",
              "<style scoped>\n",
              "    .dataframe tbody tr th:only-of-type {\n",
              "        vertical-align: middle;\n",
              "    }\n",
              "\n",
              "    .dataframe tbody tr th {\n",
              "        vertical-align: top;\n",
              "    }\n",
              "\n",
              "    .dataframe thead th {\n",
              "        text-align: right;\n",
              "    }\n",
              "</style>\n",
              "<table border=\"1\" class=\"dataframe\">\n",
              "  <thead>\n",
              "    <tr style=\"text-align: right;\">\n",
              "      <th></th>\n",
              "      <th>title</th>\n",
              "      <th>rating</th>\n",
              "      <th>level</th>\n",
              "      <th>enrolled</th>\n",
              "    </tr>\n",
              "  </thead>\n",
              "  <tbody>\n",
              "    <tr>\n",
              "      <th>850</th>\n",
              "      <td>Using Python to Access Web Data</td>\n",
              "      <td>4.8</td>\n",
              "      <td>2</td>\n",
              "      <td>310000</td>\n",
              "    </tr>\n",
              "    <tr>\n",
              "      <th>859</th>\n",
              "      <td>Web Design for Everybody: Basics of Web Develo...</td>\n",
              "      <td>4.7</td>\n",
              "      <td>1</td>\n",
              "      <td>280000</td>\n",
              "    </tr>\n",
              "    <tr>\n",
              "      <th>399</th>\n",
              "      <td>HTML, CSS, and Javascript for Web Developers</td>\n",
              "      <td>4.8</td>\n",
              "      <td>2</td>\n",
              "      <td>240000</td>\n",
              "    </tr>\n",
              "    <tr>\n",
              "      <th>701</th>\n",
              "      <td>Responsive Website Development and Design</td>\n",
              "      <td>4.5</td>\n",
              "      <td>1</td>\n",
              "      <td>170000</td>\n",
              "    </tr>\n",
              "    <tr>\n",
              "      <th>338</th>\n",
              "      <td>Full Stack Web and Multiplatform Mobile App De...</td>\n",
              "      <td>4.7</td>\n",
              "      <td>3</td>\n",
              "      <td>150000</td>\n",
              "    </tr>\n",
              "    <tr>\n",
              "      <th>339</th>\n",
              "      <td>Full-Stack Web Development with React</td>\n",
              "      <td>4.7</td>\n",
              "      <td>3</td>\n",
              "      <td>140000</td>\n",
              "    </tr>\n",
              "    <tr>\n",
              "      <th>413</th>\n",
              "      <td>How To Create a Website in a Weekend! (Project...</td>\n",
              "      <td>3.3</td>\n",
              "      <td>2</td>\n",
              "      <td>140000</td>\n",
              "    </tr>\n",
              "    <tr>\n",
              "      <th>858</th>\n",
              "      <td>Web Applications for Everybody</td>\n",
              "      <td>4.8</td>\n",
              "      <td>3</td>\n",
              "      <td>120000</td>\n",
              "    </tr>\n",
              "    <tr>\n",
              "      <th>337</th>\n",
              "      <td>Front-End Web UI Frameworks and Tools: Bootstr...</td>\n",
              "      <td>4.8</td>\n",
              "      <td>3</td>\n",
              "      <td>89000</td>\n",
              "    </tr>\n",
              "    <tr>\n",
              "      <th>526</th>\n",
              "      <td>Introduction to Web Development</td>\n",
              "      <td>4.7</td>\n",
              "      <td>1</td>\n",
              "      <td>76000</td>\n",
              "    </tr>\n",
              "    <tr>\n",
              "      <th>336</th>\n",
              "      <td>Front-End Web Development with React</td>\n",
              "      <td>4.7</td>\n",
              "      <td>3</td>\n",
              "      <td>45000</td>\n",
              "    </tr>\n",
              "  </tbody>\n",
              "</table>\n",
              "</div>"
            ],
            "text/plain": [
              "                                                 title  rating  level  enrolled\n",
              "850                    Using Python to Access Web Data     4.8      2    310000\n",
              "859  Web Design for Everybody: Basics of Web Develo...     4.7      1    280000\n",
              "399       HTML, CSS, and Javascript for Web Developers     4.8      2    240000\n",
              "701          Responsive Website Development and Design     4.5      1    170000\n",
              "338  Full Stack Web and Multiplatform Mobile App De...     4.7      3    150000\n",
              "339              Full-Stack Web Development with React     4.7      3    140000\n",
              "413  How To Create a Website in a Weekend! (Project...     3.3      2    140000\n",
              "858                     Web Applications for Everybody     4.8      3    120000\n",
              "337  Front-End Web UI Frameworks and Tools: Bootstr...     4.8      3     89000\n",
              "526                    Introduction to Web Development     4.7      1     76000\n",
              "336               Front-End Web Development with React     4.7      3     45000"
            ]
          },
          "metadata": {
            "tags": []
          },
          "execution_count": 127
        }
      ]
    },
    {
      "cell_type": "code",
      "metadata": {
        "id": "-Rj7jcjcEhEC",
        "colab_type": "code",
        "colab": {
          "base_uri": "https://localhost:8080/",
          "height": 297
        },
        "outputId": "48b5a204-6aee-484e-f882-05a0a21c18df"
      },
      "source": [
        "Web_Courses = df[df['title'].str.contains('Web')].sort_values(by=['enrolled'], ascending=False)\n",
        "# 베스트셀러 저장\n",
        "Web_BestSellers = Web_Courses[Web_Courses['enrolled']>100000]\n",
        "Web_BestSellers"
      ],
      "execution_count": 128,
      "outputs": [
        {
          "output_type": "execute_result",
          "data": {
            "text/html": [
              "<div>\n",
              "<style scoped>\n",
              "    .dataframe tbody tr th:only-of-type {\n",
              "        vertical-align: middle;\n",
              "    }\n",
              "\n",
              "    .dataframe tbody tr th {\n",
              "        vertical-align: top;\n",
              "    }\n",
              "\n",
              "    .dataframe thead th {\n",
              "        text-align: right;\n",
              "    }\n",
              "</style>\n",
              "<table border=\"1\" class=\"dataframe\">\n",
              "  <thead>\n",
              "    <tr style=\"text-align: right;\">\n",
              "      <th></th>\n",
              "      <th>title</th>\n",
              "      <th>rating</th>\n",
              "      <th>level</th>\n",
              "      <th>enrolled</th>\n",
              "    </tr>\n",
              "  </thead>\n",
              "  <tbody>\n",
              "    <tr>\n",
              "      <th>850</th>\n",
              "      <td>Using Python to Access Web Data</td>\n",
              "      <td>4.8</td>\n",
              "      <td>2</td>\n",
              "      <td>310000</td>\n",
              "    </tr>\n",
              "    <tr>\n",
              "      <th>859</th>\n",
              "      <td>Web Design for Everybody: Basics of Web Develo...</td>\n",
              "      <td>4.7</td>\n",
              "      <td>1</td>\n",
              "      <td>280000</td>\n",
              "    </tr>\n",
              "    <tr>\n",
              "      <th>399</th>\n",
              "      <td>HTML, CSS, and Javascript for Web Developers</td>\n",
              "      <td>4.8</td>\n",
              "      <td>2</td>\n",
              "      <td>240000</td>\n",
              "    </tr>\n",
              "    <tr>\n",
              "      <th>701</th>\n",
              "      <td>Responsive Website Development and Design</td>\n",
              "      <td>4.5</td>\n",
              "      <td>1</td>\n",
              "      <td>170000</td>\n",
              "    </tr>\n",
              "    <tr>\n",
              "      <th>338</th>\n",
              "      <td>Full Stack Web and Multiplatform Mobile App De...</td>\n",
              "      <td>4.7</td>\n",
              "      <td>3</td>\n",
              "      <td>150000</td>\n",
              "    </tr>\n",
              "    <tr>\n",
              "      <th>339</th>\n",
              "      <td>Full-Stack Web Development with React</td>\n",
              "      <td>4.7</td>\n",
              "      <td>3</td>\n",
              "      <td>140000</td>\n",
              "    </tr>\n",
              "    <tr>\n",
              "      <th>413</th>\n",
              "      <td>How To Create a Website in a Weekend! (Project...</td>\n",
              "      <td>3.3</td>\n",
              "      <td>2</td>\n",
              "      <td>140000</td>\n",
              "    </tr>\n",
              "    <tr>\n",
              "      <th>858</th>\n",
              "      <td>Web Applications for Everybody</td>\n",
              "      <td>4.8</td>\n",
              "      <td>3</td>\n",
              "      <td>120000</td>\n",
              "    </tr>\n",
              "  </tbody>\n",
              "</table>\n",
              "</div>"
            ],
            "text/plain": [
              "                                                 title  rating  level  enrolled\n",
              "850                    Using Python to Access Web Data     4.8      2    310000\n",
              "859  Web Design for Everybody: Basics of Web Develo...     4.7      1    280000\n",
              "399       HTML, CSS, and Javascript for Web Developers     4.8      2    240000\n",
              "701          Responsive Website Development and Design     4.5      1    170000\n",
              "338  Full Stack Web and Multiplatform Mobile App De...     4.7      3    150000\n",
              "339              Full-Stack Web Development with React     4.7      3    140000\n",
              "413  How To Create a Website in a Weekend! (Project...     3.3      2    140000\n",
              "858                     Web Applications for Everybody     4.8      3    120000"
            ]
          },
          "metadata": {
            "tags": []
          },
          "execution_count": 128
        }
      ]
    },
    {
      "cell_type": "markdown",
      "metadata": {
        "id": "HtUbj5i7FGIl",
        "colab_type": "text"
      },
      "source": [
        "### 2. App"
      ]
    },
    {
      "cell_type": "code",
      "metadata": {
        "id": "ZT9Wm7iiEsAr",
        "colab_type": "code",
        "colab": {
          "base_uri": "https://localhost:8080/",
          "height": 762
        },
        "outputId": "56d25058-34e7-41e1-d5fb-1ac218ab0bba"
      },
      "source": [
        "# App 강의 확인\n",
        "df[df['title'].str.contains('App')].sort_values(by=['enrolled'], ascending=False)"
      ],
      "execution_count": 129,
      "outputs": [
        {
          "output_type": "execute_result",
          "data": {
            "text/html": [
              "<div>\n",
              "<style scoped>\n",
              "    .dataframe tbody tr th:only-of-type {\n",
              "        vertical-align: middle;\n",
              "    }\n",
              "\n",
              "    .dataframe tbody tr th {\n",
              "        vertical-align: top;\n",
              "    }\n",
              "\n",
              "    .dataframe thead th {\n",
              "        text-align: right;\n",
              "    }\n",
              "</style>\n",
              "<table border=\"1\" class=\"dataframe\">\n",
              "  <thead>\n",
              "    <tr style=\"text-align: right;\">\n",
              "      <th></th>\n",
              "      <th>title</th>\n",
              "      <th>rating</th>\n",
              "      <th>level</th>\n",
              "      <th>enrolled</th>\n",
              "    </tr>\n",
              "  </thead>\n",
              "  <tbody>\n",
              "    <tr>\n",
              "      <th>56</th>\n",
              "      <td>Applied Data Science with Python</td>\n",
              "      <td>4.5</td>\n",
              "      <td>3</td>\n",
              "      <td>480000</td>\n",
              "    </tr>\n",
              "    <tr>\n",
              "      <th>221</th>\n",
              "      <td>Developing Applications with Google Cloud Plat...</td>\n",
              "      <td>4.7</td>\n",
              "      <td>3</td>\n",
              "      <td>300000</td>\n",
              "    </tr>\n",
              "    <tr>\n",
              "      <th>565</th>\n",
              "      <td>Machine Learning Foundations: A Case Study App...</td>\n",
              "      <td>4.6</td>\n",
              "      <td>2</td>\n",
              "      <td>240000</td>\n",
              "    </tr>\n",
              "    <tr>\n",
              "      <th>54</th>\n",
              "      <td>Applied Data Science</td>\n",
              "      <td>4.6</td>\n",
              "      <td>1</td>\n",
              "      <td>220000</td>\n",
              "    </tr>\n",
              "    <tr>\n",
              "      <th>187</th>\n",
              "      <td>Data Analysis and Presentation Skills: the PwC...</td>\n",
              "      <td>4.6</td>\n",
              "      <td>1</td>\n",
              "      <td>220000</td>\n",
              "    </tr>\n",
              "    <tr>\n",
              "      <th>418</th>\n",
              "      <td>IBM Applied AI</td>\n",
              "      <td>4.6</td>\n",
              "      <td>1</td>\n",
              "      <td>220000</td>\n",
              "    </tr>\n",
              "    <tr>\n",
              "      <th>57</th>\n",
              "      <td>Applied Machine Learning in Python</td>\n",
              "      <td>4.6</td>\n",
              "      <td>3</td>\n",
              "      <td>150000</td>\n",
              "    </tr>\n",
              "    <tr>\n",
              "      <th>338</th>\n",
              "      <td>Full Stack Web and Multiplatform Mobile App De...</td>\n",
              "      <td>4.7</td>\n",
              "      <td>3</td>\n",
              "      <td>150000</td>\n",
              "    </tr>\n",
              "    <tr>\n",
              "      <th>858</th>\n",
              "      <td>Web Applications for Everybody</td>\n",
              "      <td>4.8</td>\n",
              "      <td>3</td>\n",
              "      <td>120000</td>\n",
              "    </tr>\n",
              "    <tr>\n",
              "      <th>49</th>\n",
              "      <td>Android App Development</td>\n",
              "      <td>4.5</td>\n",
              "      <td>1</td>\n",
              "      <td>120000</td>\n",
              "    </tr>\n",
              "    <tr>\n",
              "      <th>246</th>\n",
              "      <td>Econometrics: Methods and Applications</td>\n",
              "      <td>4.7</td>\n",
              "      <td>2</td>\n",
              "      <td>110000</td>\n",
              "    </tr>\n",
              "    <tr>\n",
              "      <th>58</th>\n",
              "      <td>Applied Plotting, Charting &amp; Data Representati...</td>\n",
              "      <td>4.6</td>\n",
              "      <td>3</td>\n",
              "      <td>97000</td>\n",
              "    </tr>\n",
              "    <tr>\n",
              "      <th>873</th>\n",
              "      <td>iOS App Development with Swift</td>\n",
              "      <td>3.9</td>\n",
              "      <td>3</td>\n",
              "      <td>76000</td>\n",
              "    </tr>\n",
              "    <tr>\n",
              "      <th>55</th>\n",
              "      <td>Applied Data Science Capstone</td>\n",
              "      <td>4.7</td>\n",
              "      <td>3</td>\n",
              "      <td>42000</td>\n",
              "    </tr>\n",
              "    <tr>\n",
              "      <th>14</th>\n",
              "      <td>AWS Fundamentals: Building Serverless Applicat...</td>\n",
              "      <td>4.7</td>\n",
              "      <td>1</td>\n",
              "      <td>27000</td>\n",
              "    </tr>\n",
              "    <tr>\n",
              "      <th>657</th>\n",
              "      <td>Positive Psychology: Applications and Interven...</td>\n",
              "      <td>4.8</td>\n",
              "      <td>1</td>\n",
              "      <td>23000</td>\n",
              "    </tr>\n",
              "    <tr>\n",
              "      <th>321</th>\n",
              "      <td>Fintech: Foundations &amp; Applications of Financi...</td>\n",
              "      <td>4.6</td>\n",
              "      <td>1</td>\n",
              "      <td>20000</td>\n",
              "    </tr>\n",
              "    <tr>\n",
              "      <th>872</th>\n",
              "      <td>e-Learning Ecologies: Innovative Approaches to...</td>\n",
              "      <td>4.5</td>\n",
              "      <td>2</td>\n",
              "      <td>17000</td>\n",
              "    </tr>\n",
              "    <tr>\n",
              "      <th>445</th>\n",
              "      <td>Instructional Design Foundations and Applications</td>\n",
              "      <td>4.2</td>\n",
              "      <td>2</td>\n",
              "      <td>12000</td>\n",
              "    </tr>\n",
              "    <tr>\n",
              "      <th>628</th>\n",
              "      <td>New Approaches to Countering Terror: Counterin...</td>\n",
              "      <td>4.7</td>\n",
              "      <td>1</td>\n",
              "      <td>12000</td>\n",
              "    </tr>\n",
              "    <tr>\n",
              "      <th>844</th>\n",
              "      <td>Unity XR: How to Build AR and VR Apps</td>\n",
              "      <td>4.2</td>\n",
              "      <td>1</td>\n",
              "      <td>12000</td>\n",
              "    </tr>\n",
              "    <tr>\n",
              "      <th>222</th>\n",
              "      <td>Developing Applications with Google Cloud Plat...</td>\n",
              "      <td>4.8</td>\n",
              "      <td>3</td>\n",
              "      <td>4000</td>\n",
              "    </tr>\n",
              "    <tr>\n",
              "      <th>776</th>\n",
              "      <td>Swift 5 iOS Application Developer</td>\n",
              "      <td>4.5</td>\n",
              "      <td>1</td>\n",
              "      <td>3900</td>\n",
              "    </tr>\n",
              "  </tbody>\n",
              "</table>\n",
              "</div>"
            ],
            "text/plain": [
              "                                                 title  rating  level  enrolled\n",
              "56                    Applied Data Science with Python     4.5      3    480000\n",
              "221  Developing Applications with Google Cloud Plat...     4.7      3    300000\n",
              "565  Machine Learning Foundations: A Case Study App...     4.6      2    240000\n",
              "54                                Applied Data Science     4.6      1    220000\n",
              "187  Data Analysis and Presentation Skills: the PwC...     4.6      1    220000\n",
              "418                                     IBM Applied AI     4.6      1    220000\n",
              "57                  Applied Machine Learning in Python     4.6      3    150000\n",
              "338  Full Stack Web and Multiplatform Mobile App De...     4.7      3    150000\n",
              "858                     Web Applications for Everybody     4.8      3    120000\n",
              "49                             Android App Development     4.5      1    120000\n",
              "246             Econometrics: Methods and Applications     4.7      2    110000\n",
              "58   Applied Plotting, Charting & Data Representati...     4.6      3     97000\n",
              "873                     iOS App Development with Swift     3.9      3     76000\n",
              "55                       Applied Data Science Capstone     4.7      3     42000\n",
              "14   AWS Fundamentals: Building Serverless Applicat...     4.7      1     27000\n",
              "657  Positive Psychology: Applications and Interven...     4.8      1     23000\n",
              "321  Fintech: Foundations & Applications of Financi...     4.6      1     20000\n",
              "872  e-Learning Ecologies: Innovative Approaches to...     4.5      2     17000\n",
              "445  Instructional Design Foundations and Applications     4.2      2     12000\n",
              "628  New Approaches to Countering Terror: Counterin...     4.7      1     12000\n",
              "844              Unity XR: How to Build AR and VR Apps     4.2      1     12000\n",
              "222  Developing Applications with Google Cloud Plat...     4.8      3      4000\n",
              "776                  Swift 5 iOS Application Developer     4.5      1      3900"
            ]
          },
          "metadata": {
            "tags": []
          },
          "execution_count": 129
        }
      ]
    },
    {
      "cell_type": "code",
      "metadata": {
        "id": "TGdZ_DF7E0M_",
        "colab_type": "code",
        "colab": {
          "base_uri": "https://localhost:8080/",
          "height": 390
        },
        "outputId": "e4e2fb3f-e088-4a49-ee4a-73db778cf6fa"
      },
      "source": [
        "App_Courses = df[df['title'].str.contains('App')].sort_values(by=['enrolled'], ascending=False)\n",
        "# 베스트셀러 저장\n",
        "App_BestSellers = App_Courses[App_Courses['enrolled']>100000]\n",
        "App_BestSellers"
      ],
      "execution_count": 130,
      "outputs": [
        {
          "output_type": "execute_result",
          "data": {
            "text/html": [
              "<div>\n",
              "<style scoped>\n",
              "    .dataframe tbody tr th:only-of-type {\n",
              "        vertical-align: middle;\n",
              "    }\n",
              "\n",
              "    .dataframe tbody tr th {\n",
              "        vertical-align: top;\n",
              "    }\n",
              "\n",
              "    .dataframe thead th {\n",
              "        text-align: right;\n",
              "    }\n",
              "</style>\n",
              "<table border=\"1\" class=\"dataframe\">\n",
              "  <thead>\n",
              "    <tr style=\"text-align: right;\">\n",
              "      <th></th>\n",
              "      <th>title</th>\n",
              "      <th>rating</th>\n",
              "      <th>level</th>\n",
              "      <th>enrolled</th>\n",
              "    </tr>\n",
              "  </thead>\n",
              "  <tbody>\n",
              "    <tr>\n",
              "      <th>56</th>\n",
              "      <td>Applied Data Science with Python</td>\n",
              "      <td>4.5</td>\n",
              "      <td>3</td>\n",
              "      <td>480000</td>\n",
              "    </tr>\n",
              "    <tr>\n",
              "      <th>221</th>\n",
              "      <td>Developing Applications with Google Cloud Plat...</td>\n",
              "      <td>4.7</td>\n",
              "      <td>3</td>\n",
              "      <td>300000</td>\n",
              "    </tr>\n",
              "    <tr>\n",
              "      <th>565</th>\n",
              "      <td>Machine Learning Foundations: A Case Study App...</td>\n",
              "      <td>4.6</td>\n",
              "      <td>2</td>\n",
              "      <td>240000</td>\n",
              "    </tr>\n",
              "    <tr>\n",
              "      <th>54</th>\n",
              "      <td>Applied Data Science</td>\n",
              "      <td>4.6</td>\n",
              "      <td>1</td>\n",
              "      <td>220000</td>\n",
              "    </tr>\n",
              "    <tr>\n",
              "      <th>187</th>\n",
              "      <td>Data Analysis and Presentation Skills: the PwC...</td>\n",
              "      <td>4.6</td>\n",
              "      <td>1</td>\n",
              "      <td>220000</td>\n",
              "    </tr>\n",
              "    <tr>\n",
              "      <th>418</th>\n",
              "      <td>IBM Applied AI</td>\n",
              "      <td>4.6</td>\n",
              "      <td>1</td>\n",
              "      <td>220000</td>\n",
              "    </tr>\n",
              "    <tr>\n",
              "      <th>57</th>\n",
              "      <td>Applied Machine Learning in Python</td>\n",
              "      <td>4.6</td>\n",
              "      <td>3</td>\n",
              "      <td>150000</td>\n",
              "    </tr>\n",
              "    <tr>\n",
              "      <th>338</th>\n",
              "      <td>Full Stack Web and Multiplatform Mobile App De...</td>\n",
              "      <td>4.7</td>\n",
              "      <td>3</td>\n",
              "      <td>150000</td>\n",
              "    </tr>\n",
              "    <tr>\n",
              "      <th>858</th>\n",
              "      <td>Web Applications for Everybody</td>\n",
              "      <td>4.8</td>\n",
              "      <td>3</td>\n",
              "      <td>120000</td>\n",
              "    </tr>\n",
              "    <tr>\n",
              "      <th>49</th>\n",
              "      <td>Android App Development</td>\n",
              "      <td>4.5</td>\n",
              "      <td>1</td>\n",
              "      <td>120000</td>\n",
              "    </tr>\n",
              "    <tr>\n",
              "      <th>246</th>\n",
              "      <td>Econometrics: Methods and Applications</td>\n",
              "      <td>4.7</td>\n",
              "      <td>2</td>\n",
              "      <td>110000</td>\n",
              "    </tr>\n",
              "  </tbody>\n",
              "</table>\n",
              "</div>"
            ],
            "text/plain": [
              "                                                 title  rating  level  enrolled\n",
              "56                    Applied Data Science with Python     4.5      3    480000\n",
              "221  Developing Applications with Google Cloud Plat...     4.7      3    300000\n",
              "565  Machine Learning Foundations: A Case Study App...     4.6      2    240000\n",
              "54                                Applied Data Science     4.6      1    220000\n",
              "187  Data Analysis and Presentation Skills: the PwC...     4.6      1    220000\n",
              "418                                     IBM Applied AI     4.6      1    220000\n",
              "57                  Applied Machine Learning in Python     4.6      3    150000\n",
              "338  Full Stack Web and Multiplatform Mobile App De...     4.7      3    150000\n",
              "858                     Web Applications for Everybody     4.8      3    120000\n",
              "49                             Android App Development     4.5      1    120000\n",
              "246             Econometrics: Methods and Applications     4.7      2    110000"
            ]
          },
          "metadata": {
            "tags": []
          },
          "execution_count": 130
        }
      ]
    },
    {
      "cell_type": "markdown",
      "metadata": {
        "id": "SAUgZueNFIMs",
        "colab_type": "text"
      },
      "source": [
        "### 3. Algorithm"
      ]
    },
    {
      "cell_type": "code",
      "metadata": {
        "id": "n9V3jwviE-1d",
        "colab_type": "code",
        "colab": {
          "base_uri": "https://localhost:8080/",
          "height": 173
        },
        "outputId": "4ff1df3e-fc6d-4997-829f-7188eb06cee4"
      },
      "source": [
        "# Algorithm 데이터 확인\n",
        "df[df['title'].str.contains('Algorithm')].sort_values(by=['enrolled'], ascending=False)"
      ],
      "execution_count": 135,
      "outputs": [
        {
          "output_type": "execute_result",
          "data": {
            "text/html": [
              "<div>\n",
              "<style scoped>\n",
              "    .dataframe tbody tr th:only-of-type {\n",
              "        vertical-align: middle;\n",
              "    }\n",
              "\n",
              "    .dataframe tbody tr th {\n",
              "        vertical-align: top;\n",
              "    }\n",
              "\n",
              "    .dataframe thead th {\n",
              "        text-align: right;\n",
              "    }\n",
              "</style>\n",
              "<table border=\"1\" class=\"dataframe\">\n",
              "  <thead>\n",
              "    <tr style=\"text-align: right;\">\n",
              "      <th></th>\n",
              "      <th>title</th>\n",
              "      <th>rating</th>\n",
              "      <th>level</th>\n",
              "      <th>enrolled</th>\n",
              "    </tr>\n",
              "  </thead>\n",
              "  <tbody>\n",
              "    <tr>\n",
              "      <th>37</th>\n",
              "      <td>Algorithmic Toolbox</td>\n",
              "      <td>4.7</td>\n",
              "      <td>3</td>\n",
              "      <td>220000</td>\n",
              "    </tr>\n",
              "    <tr>\n",
              "      <th>38</th>\n",
              "      <td>Algorithms</td>\n",
              "      <td>4.8</td>\n",
              "      <td>3</td>\n",
              "      <td>150000</td>\n",
              "    </tr>\n",
              "    <tr>\n",
              "      <th>238</th>\n",
              "      <td>Divide and Conquer, Sorting and Searching, and...</td>\n",
              "      <td>4.8</td>\n",
              "      <td>3</td>\n",
              "      <td>130000</td>\n",
              "    </tr>\n",
              "    <tr>\n",
              "      <th>39</th>\n",
              "      <td>Algorithms for Battery Management Systems</td>\n",
              "      <td>4.8</td>\n",
              "      <td>3</td>\n",
              "      <td>14000</td>\n",
              "    </tr>\n",
              "  </tbody>\n",
              "</table>\n",
              "</div>"
            ],
            "text/plain": [
              "                                                 title  rating  level  enrolled\n",
              "37                                 Algorithmic Toolbox     4.7      3    220000\n",
              "38                                          Algorithms     4.8      3    150000\n",
              "238  Divide and Conquer, Sorting and Searching, and...     4.8      3    130000\n",
              "39           Algorithms for Battery Management Systems     4.8      3     14000"
            ]
          },
          "metadata": {
            "tags": []
          },
          "execution_count": 135
        }
      ]
    },
    {
      "cell_type": "code",
      "metadata": {
        "id": "H4u24kmLFNmA",
        "colab_type": "code",
        "colab": {
          "base_uri": "https://localhost:8080/",
          "height": 142
        },
        "outputId": "821ddd68-ebdb-4487-853c-b409173f61ae"
      },
      "source": [
        "Algorithm_Courses = df[df['title'].str.contains('Algorithm')].sort_values(by=['enrolled'], ascending=False)\n",
        "# 베스트셀러 저장\n",
        "Algorithm_BestSellers = Algorithm_Courses[Algorithm_Courses['enrolled']>100000]\n",
        "Algorithm_BestSellers"
      ],
      "execution_count": 138,
      "outputs": [
        {
          "output_type": "execute_result",
          "data": {
            "text/html": [
              "<div>\n",
              "<style scoped>\n",
              "    .dataframe tbody tr th:only-of-type {\n",
              "        vertical-align: middle;\n",
              "    }\n",
              "\n",
              "    .dataframe tbody tr th {\n",
              "        vertical-align: top;\n",
              "    }\n",
              "\n",
              "    .dataframe thead th {\n",
              "        text-align: right;\n",
              "    }\n",
              "</style>\n",
              "<table border=\"1\" class=\"dataframe\">\n",
              "  <thead>\n",
              "    <tr style=\"text-align: right;\">\n",
              "      <th></th>\n",
              "      <th>title</th>\n",
              "      <th>rating</th>\n",
              "      <th>level</th>\n",
              "      <th>enrolled</th>\n",
              "    </tr>\n",
              "  </thead>\n",
              "  <tbody>\n",
              "    <tr>\n",
              "      <th>37</th>\n",
              "      <td>Algorithmic Toolbox</td>\n",
              "      <td>4.7</td>\n",
              "      <td>3</td>\n",
              "      <td>220000</td>\n",
              "    </tr>\n",
              "    <tr>\n",
              "      <th>38</th>\n",
              "      <td>Algorithms</td>\n",
              "      <td>4.8</td>\n",
              "      <td>3</td>\n",
              "      <td>150000</td>\n",
              "    </tr>\n",
              "    <tr>\n",
              "      <th>238</th>\n",
              "      <td>Divide and Conquer, Sorting and Searching, and...</td>\n",
              "      <td>4.8</td>\n",
              "      <td>3</td>\n",
              "      <td>130000</td>\n",
              "    </tr>\n",
              "  </tbody>\n",
              "</table>\n",
              "</div>"
            ],
            "text/plain": [
              "                                                 title  rating  level  enrolled\n",
              "37                                 Algorithmic Toolbox     4.7      3    220000\n",
              "38                                          Algorithms     4.8      3    150000\n",
              "238  Divide and Conquer, Sorting and Searching, and...     4.8      3    130000"
            ]
          },
          "metadata": {
            "tags": []
          },
          "execution_count": 138
        }
      ]
    },
    {
      "cell_type": "markdown",
      "metadata": {
        "id": "jg5tF1q-FtT0",
        "colab_type": "text"
      },
      "source": [
        "### 4. Computer"
      ]
    },
    {
      "cell_type": "code",
      "metadata": {
        "id": "uBz8u4OtF6QJ",
        "colab_type": "code",
        "colab": {
          "base_uri": "https://localhost:8080/",
          "height": 266
        },
        "outputId": "32aa001a-d84c-4be4-91b4-b7bd3ee4dfe3"
      },
      "source": [
        "# Computer 데이터 확인\n",
        "df[df['title'].str.contains('Computer')].sort_values(by=['enrolled'], ascending=False)"
      ],
      "execution_count": 141,
      "outputs": [
        {
          "output_type": "execute_result",
          "data": {
            "text/html": [
              "<div>\n",
              "<style scoped>\n",
              "    .dataframe tbody tr th:only-of-type {\n",
              "        vertical-align: middle;\n",
              "    }\n",
              "\n",
              "    .dataframe tbody tr th {\n",
              "        vertical-align: top;\n",
              "    }\n",
              "\n",
              "    .dataframe thead th {\n",
              "        text-align: right;\n",
              "    }\n",
              "</style>\n",
              "<table border=\"1\" class=\"dataframe\">\n",
              "  <thead>\n",
              "    <tr style=\"text-align: right;\">\n",
              "      <th></th>\n",
              "      <th>title</th>\n",
              "      <th>rating</th>\n",
              "      <th>level</th>\n",
              "      <th>enrolled</th>\n",
              "    </tr>\n",
              "  </thead>\n",
              "  <tbody>\n",
              "    <tr>\n",
              "      <th>794</th>\n",
              "      <td>The Bits and Bytes of Computer Networking</td>\n",
              "      <td>4.7</td>\n",
              "      <td>1</td>\n",
              "      <td>130000</td>\n",
              "    </tr>\n",
              "    <tr>\n",
              "      <th>103</th>\n",
              "      <td>Build a Modern Computer from First Principles:...</td>\n",
              "      <td>4.9</td>\n",
              "      <td>2</td>\n",
              "      <td>95000</td>\n",
              "    </tr>\n",
              "    <tr>\n",
              "      <th>489</th>\n",
              "      <td>Introduction to Discrete Mathematics for Compu...</td>\n",
              "      <td>4.4</td>\n",
              "      <td>1</td>\n",
              "      <td>75000</td>\n",
              "    </tr>\n",
              "    <tr>\n",
              "      <th>480</th>\n",
              "      <td>Introduction to Computer Science and Programming</td>\n",
              "      <td>4.3</td>\n",
              "      <td>1</td>\n",
              "      <td>32000</td>\n",
              "    </tr>\n",
              "    <tr>\n",
              "      <th>152</th>\n",
              "      <td>Computer Security and Systems Management</td>\n",
              "      <td>4.6</td>\n",
              "      <td>1</td>\n",
              "      <td>27000</td>\n",
              "    </tr>\n",
              "    <tr>\n",
              "      <th>19</th>\n",
              "      <td>Accelerated Computer Science Fundamentals</td>\n",
              "      <td>4.7</td>\n",
              "      <td>3</td>\n",
              "      <td>22000</td>\n",
              "    </tr>\n",
              "    <tr>\n",
              "      <th>479</th>\n",
              "      <td>Introduction to Computer Programming</td>\n",
              "      <td>4.3</td>\n",
              "      <td>1</td>\n",
              "      <td>20000</td>\n",
              "    </tr>\n",
              "  </tbody>\n",
              "</table>\n",
              "</div>"
            ],
            "text/plain": [
              "                                                 title  rating  level  enrolled\n",
              "794          The Bits and Bytes of Computer Networking     4.7      1    130000\n",
              "103  Build a Modern Computer from First Principles:...     4.9      2     95000\n",
              "489  Introduction to Discrete Mathematics for Compu...     4.4      1     75000\n",
              "480   Introduction to Computer Science and Programming     4.3      1     32000\n",
              "152           Computer Security and Systems Management     4.6      1     27000\n",
              "19           Accelerated Computer Science Fundamentals     4.7      3     22000\n",
              "479               Introduction to Computer Programming     4.3      1     20000"
            ]
          },
          "metadata": {
            "tags": []
          },
          "execution_count": 141
        }
      ]
    },
    {
      "cell_type": "code",
      "metadata": {
        "id": "GvKMAcDxF-wF",
        "colab_type": "code",
        "colab": {
          "base_uri": "https://localhost:8080/",
          "height": 80
        },
        "outputId": "438066de-3004-45b0-cf26-5013ae9f2f71"
      },
      "source": [
        "Computer_Courses = df[df['title'].str.contains('Computer')].sort_values(by=['enrolled'], ascending=False)\n",
        "# 베스트셀러 저장\n",
        "Computer_BestSellers = Computer_Courses[Computer_Courses['enrolled']>100000]\n",
        "Computer_BestSellers"
      ],
      "execution_count": 142,
      "outputs": [
        {
          "output_type": "execute_result",
          "data": {
            "text/html": [
              "<div>\n",
              "<style scoped>\n",
              "    .dataframe tbody tr th:only-of-type {\n",
              "        vertical-align: middle;\n",
              "    }\n",
              "\n",
              "    .dataframe tbody tr th {\n",
              "        vertical-align: top;\n",
              "    }\n",
              "\n",
              "    .dataframe thead th {\n",
              "        text-align: right;\n",
              "    }\n",
              "</style>\n",
              "<table border=\"1\" class=\"dataframe\">\n",
              "  <thead>\n",
              "    <tr style=\"text-align: right;\">\n",
              "      <th></th>\n",
              "      <th>title</th>\n",
              "      <th>rating</th>\n",
              "      <th>level</th>\n",
              "      <th>enrolled</th>\n",
              "    </tr>\n",
              "  </thead>\n",
              "  <tbody>\n",
              "    <tr>\n",
              "      <th>794</th>\n",
              "      <td>The Bits and Bytes of Computer Networking</td>\n",
              "      <td>4.7</td>\n",
              "      <td>1</td>\n",
              "      <td>130000</td>\n",
              "    </tr>\n",
              "  </tbody>\n",
              "</table>\n",
              "</div>"
            ],
            "text/plain": [
              "                                         title  rating  level  enrolled\n",
              "794  The Bits and Bytes of Computer Networking     4.7      1    130000"
            ]
          },
          "metadata": {
            "tags": []
          },
          "execution_count": 142
        }
      ]
    },
    {
      "cell_type": "markdown",
      "metadata": {
        "id": "E4I622CIGfNz",
        "colab_type": "text"
      },
      "source": [
        "### 5. Hacking"
      ]
    },
    {
      "cell_type": "code",
      "metadata": {
        "id": "qpEMVY2wGkCy",
        "colab_type": "code",
        "colab": {
          "base_uri": "https://localhost:8080/",
          "height": 49
        },
        "outputId": "96e22521-55bc-4a30-907c-1f829dfff0b3"
      },
      "source": [
        "# Hacking 데이터 확인\n",
        "df[df['title'].str.contains('Hacking')].sort_values(by=['enrolled'], ascending=False)"
      ],
      "execution_count": 145,
      "outputs": [
        {
          "output_type": "execute_result",
          "data": {
            "text/html": [
              "<div>\n",
              "<style scoped>\n",
              "    .dataframe tbody tr th:only-of-type {\n",
              "        vertical-align: middle;\n",
              "    }\n",
              "\n",
              "    .dataframe tbody tr th {\n",
              "        vertical-align: top;\n",
              "    }\n",
              "\n",
              "    .dataframe thead th {\n",
              "        text-align: right;\n",
              "    }\n",
              "</style>\n",
              "<table border=\"1\" class=\"dataframe\">\n",
              "  <thead>\n",
              "    <tr style=\"text-align: right;\">\n",
              "      <th></th>\n",
              "      <th>title</th>\n",
              "      <th>rating</th>\n",
              "      <th>level</th>\n",
              "      <th>enrolled</th>\n",
              "    </tr>\n",
              "  </thead>\n",
              "  <tbody>\n",
              "  </tbody>\n",
              "</table>\n",
              "</div>"
            ],
            "text/plain": [
              "Empty DataFrame\n",
              "Columns: [title, rating, level, enrolled]\n",
              "Index: []"
            ]
          },
          "metadata": {
            "tags": []
          },
          "execution_count": 145
        }
      ]
    },
    {
      "cell_type": "code",
      "metadata": {
        "id": "PbvBsgRUGpGE",
        "colab_type": "code",
        "colab": {
          "base_uri": "https://localhost:8080/",
          "height": 390
        },
        "outputId": "588c5704-93f1-4e63-ed82-03ae6902bd22"
      },
      "source": [
        "# 유관 데이터 확인\n",
        "df[df['title'].str.contains('Security')].sort_values(by=['enrolled'], ascending=False)"
      ],
      "execution_count": 146,
      "outputs": [
        {
          "output_type": "execute_result",
          "data": {
            "text/html": [
              "<div>\n",
              "<style scoped>\n",
              "    .dataframe tbody tr th:only-of-type {\n",
              "        vertical-align: middle;\n",
              "    }\n",
              "\n",
              "    .dataframe tbody tr th {\n",
              "        vertical-align: top;\n",
              "    }\n",
              "\n",
              "    .dataframe thead th {\n",
              "        text-align: right;\n",
              "    }\n",
              "</style>\n",
              "<table border=\"1\" class=\"dataframe\">\n",
              "  <thead>\n",
              "    <tr style=\"text-align: right;\">\n",
              "      <th></th>\n",
              "      <th>title</th>\n",
              "      <th>rating</th>\n",
              "      <th>level</th>\n",
              "      <th>enrolled</th>\n",
              "    </tr>\n",
              "  </thead>\n",
              "  <tbody>\n",
              "    <tr>\n",
              "      <th>721</th>\n",
              "      <td>Security in Google Cloud Platform</td>\n",
              "      <td>4.7</td>\n",
              "      <td>3</td>\n",
              "      <td>300000</td>\n",
              "    </tr>\n",
              "    <tr>\n",
              "      <th>422</th>\n",
              "      <td>IT Security: Defense against the digital dark ...</td>\n",
              "      <td>4.8</td>\n",
              "      <td>1</td>\n",
              "      <td>62000</td>\n",
              "    </tr>\n",
              "    <tr>\n",
              "      <th>435</th>\n",
              "      <td>Information Security: Context and Introduction</td>\n",
              "      <td>4.6</td>\n",
              "      <td>1</td>\n",
              "      <td>32000</td>\n",
              "    </tr>\n",
              "    <tr>\n",
              "      <th>483</th>\n",
              "      <td>Introduction to Cyber Security</td>\n",
              "      <td>4.7</td>\n",
              "      <td>1</td>\n",
              "      <td>32000</td>\n",
              "    </tr>\n",
              "    <tr>\n",
              "      <th>152</th>\n",
              "      <td>Computer Security and Systems Management</td>\n",
              "      <td>4.6</td>\n",
              "      <td>1</td>\n",
              "      <td>27000</td>\n",
              "    </tr>\n",
              "    <tr>\n",
              "      <th>624</th>\n",
              "      <td>Networking and Security Architecture with VMwa...</td>\n",
              "      <td>4.8</td>\n",
              "      <td>3</td>\n",
              "      <td>17000</td>\n",
              "    </tr>\n",
              "    <tr>\n",
              "      <th>720</th>\n",
              "      <td>Security &amp; Safety Challenges in a Globalized W...</td>\n",
              "      <td>4.7</td>\n",
              "      <td>1</td>\n",
              "      <td>14000</td>\n",
              "    </tr>\n",
              "    <tr>\n",
              "      <th>13</th>\n",
              "      <td>AWS Fundamentals: Addressing Security Risk</td>\n",
              "      <td>4.3</td>\n",
              "      <td>1</td>\n",
              "      <td>11000</td>\n",
              "    </tr>\n",
              "    <tr>\n",
              "      <th>410</th>\n",
              "      <td>Homeland Security and Cybersecurity</td>\n",
              "      <td>4.7</td>\n",
              "      <td>1</td>\n",
              "      <td>5500</td>\n",
              "    </tr>\n",
              "    <tr>\n",
              "      <th>0</th>\n",
              "      <td>(ISC)² Systems Security Certified Practitioner...</td>\n",
              "      <td>4.7</td>\n",
              "      <td>1</td>\n",
              "      <td>5300</td>\n",
              "    </tr>\n",
              "    <tr>\n",
              "      <th>459</th>\n",
              "      <td>International Security Management</td>\n",
              "      <td>4.5</td>\n",
              "      <td>1</td>\n",
              "      <td>2200</td>\n",
              "    </tr>\n",
              "  </tbody>\n",
              "</table>\n",
              "</div>"
            ],
            "text/plain": [
              "                                                 title  rating  level  enrolled\n",
              "721                  Security in Google Cloud Platform     4.7      3    300000\n",
              "422  IT Security: Defense against the digital dark ...     4.8      1     62000\n",
              "435     Information Security: Context and Introduction     4.6      1     32000\n",
              "483                     Introduction to Cyber Security     4.7      1     32000\n",
              "152           Computer Security and Systems Management     4.6      1     27000\n",
              "624  Networking and Security Architecture with VMwa...     4.8      3     17000\n",
              "720  Security & Safety Challenges in a Globalized W...     4.7      1     14000\n",
              "13          AWS Fundamentals: Addressing Security Risk     4.3      1     11000\n",
              "410                Homeland Security and Cybersecurity     4.7      1      5500\n",
              "0    (ISC)² Systems Security Certified Practitioner...     4.7      1      5300\n",
              "459                  International Security Management     4.5      1      2200"
            ]
          },
          "metadata": {
            "tags": []
          },
          "execution_count": 146
        }
      ]
    },
    {
      "cell_type": "code",
      "metadata": {
        "id": "yDk1aE0uGvfn",
        "colab_type": "code",
        "colab": {
          "base_uri": "https://localhost:8080/",
          "height": 80
        },
        "outputId": "7b909b4c-7d4c-4e9f-cac9-00c8b6cfc5da"
      },
      "source": [
        "Security_Courses = df[df['title'].str.contains('Security')].sort_values(by=['enrolled'], ascending=False)\n",
        "# 베스트셀러 저장\n",
        "Security_BestSellers = Security_Courses[Security_Courses['enrolled']>100000]\n",
        "Security_BestSellers"
      ],
      "execution_count": 147,
      "outputs": [
        {
          "output_type": "execute_result",
          "data": {
            "text/html": [
              "<div>\n",
              "<style scoped>\n",
              "    .dataframe tbody tr th:only-of-type {\n",
              "        vertical-align: middle;\n",
              "    }\n",
              "\n",
              "    .dataframe tbody tr th {\n",
              "        vertical-align: top;\n",
              "    }\n",
              "\n",
              "    .dataframe thead th {\n",
              "        text-align: right;\n",
              "    }\n",
              "</style>\n",
              "<table border=\"1\" class=\"dataframe\">\n",
              "  <thead>\n",
              "    <tr style=\"text-align: right;\">\n",
              "      <th></th>\n",
              "      <th>title</th>\n",
              "      <th>rating</th>\n",
              "      <th>level</th>\n",
              "      <th>enrolled</th>\n",
              "    </tr>\n",
              "  </thead>\n",
              "  <tbody>\n",
              "    <tr>\n",
              "      <th>721</th>\n",
              "      <td>Security in Google Cloud Platform</td>\n",
              "      <td>4.7</td>\n",
              "      <td>3</td>\n",
              "      <td>300000</td>\n",
              "    </tr>\n",
              "  </tbody>\n",
              "</table>\n",
              "</div>"
            ],
            "text/plain": [
              "                                 title  rating  level  enrolled\n",
              "721  Security in Google Cloud Platform     4.7      3    300000"
            ]
          },
          "metadata": {
            "tags": []
          },
          "execution_count": 147
        }
      ]
    },
    {
      "cell_type": "markdown",
      "metadata": {
        "id": "uv70tkirHPhF",
        "colab_type": "text"
      },
      "source": [
        "### 6. Finance"
      ]
    },
    {
      "cell_type": "code",
      "metadata": {
        "id": "DXPfJmAdHc3l",
        "colab_type": "code",
        "colab": {
          "base_uri": "https://localhost:8080/",
          "height": 452
        },
        "outputId": "4b007201-e94e-4dac-ddf8-bb7ffb891f94"
      },
      "source": [
        "# Finance 데이터 확인\n",
        "df[df['title'].str.contains('Finance')].sort_values(by=['enrolled'], ascending=False)"
      ],
      "execution_count": 148,
      "outputs": [
        {
          "output_type": "execute_result",
          "data": {
            "text/html": [
              "<div>\n",
              "<style scoped>\n",
              "    .dataframe tbody tr th:only-of-type {\n",
              "        vertical-align: middle;\n",
              "    }\n",
              "\n",
              "    .dataframe tbody tr th {\n",
              "        vertical-align: top;\n",
              "    }\n",
              "\n",
              "    .dataframe thead th {\n",
              "        text-align: right;\n",
              "    }\n",
              "</style>\n",
              "<table border=\"1\" class=\"dataframe\">\n",
              "  <thead>\n",
              "    <tr style=\"text-align: right;\">\n",
              "      <th></th>\n",
              "      <th>title</th>\n",
              "      <th>rating</th>\n",
              "      <th>level</th>\n",
              "      <th>enrolled</th>\n",
              "    </tr>\n",
              "  </thead>\n",
              "  <tbody>\n",
              "    <tr>\n",
              "      <th>306</th>\n",
              "      <td>Finance &amp; Quantitative Modeling for Analysts</td>\n",
              "      <td>4.5</td>\n",
              "      <td>1</td>\n",
              "      <td>260000</td>\n",
              "    </tr>\n",
              "    <tr>\n",
              "      <th>481</th>\n",
              "      <td>Introduction to Corporate Finance</td>\n",
              "      <td>4.6</td>\n",
              "      <td>2</td>\n",
              "      <td>130000</td>\n",
              "    </tr>\n",
              "    <tr>\n",
              "      <th>307</th>\n",
              "      <td>Finance for Non-Finance Professionals</td>\n",
              "      <td>4.8</td>\n",
              "      <td>1</td>\n",
              "      <td>69000</td>\n",
              "    </tr>\n",
              "    <tr>\n",
              "      <th>165</th>\n",
              "      <td>Corporate Finance Essentials</td>\n",
              "      <td>4.8</td>\n",
              "      <td>2</td>\n",
              "      <td>56000</td>\n",
              "    </tr>\n",
              "    <tr>\n",
              "      <th>87</th>\n",
              "      <td>Behavioral Finance</td>\n",
              "      <td>4.4</td>\n",
              "      <td>2</td>\n",
              "      <td>55000</td>\n",
              "    </tr>\n",
              "    <tr>\n",
              "      <th>285</th>\n",
              "      <td>Essentials of Corporate Finance</td>\n",
              "      <td>4.6</td>\n",
              "      <td>3</td>\n",
              "      <td>54000</td>\n",
              "    </tr>\n",
              "    <tr>\n",
              "      <th>566</th>\n",
              "      <td>Machine Learning and Reinforcement Learning in...</td>\n",
              "      <td>3.7</td>\n",
              "      <td>3</td>\n",
              "      <td>29000</td>\n",
              "    </tr>\n",
              "    <tr>\n",
              "      <th>326</th>\n",
              "      <td>Foundational Finance for Strategic Decision Ma...</td>\n",
              "      <td>4.8</td>\n",
              "      <td>1</td>\n",
              "      <td>14000</td>\n",
              "    </tr>\n",
              "    <tr>\n",
              "      <th>304</th>\n",
              "      <td>FinTech: Finance Industry Transformation and R...</td>\n",
              "      <td>4.6</td>\n",
              "      <td>1</td>\n",
              "      <td>13000</td>\n",
              "    </tr>\n",
              "    <tr>\n",
              "      <th>308</th>\n",
              "      <td>Finance for Non-Financial Managers</td>\n",
              "      <td>4.4</td>\n",
              "      <td>3</td>\n",
              "      <td>12000</td>\n",
              "    </tr>\n",
              "    <tr>\n",
              "      <th>838</th>\n",
              "      <td>Understanding Modern Finance</td>\n",
              "      <td>4.4</td>\n",
              "      <td>3</td>\n",
              "      <td>11000</td>\n",
              "    </tr>\n",
              "    <tr>\n",
              "      <th>266</th>\n",
              "      <td>Entrepreneurial Finance: Strategy and Innovation</td>\n",
              "      <td>4.5</td>\n",
              "      <td>3</td>\n",
              "      <td>7900</td>\n",
              "    </tr>\n",
              "    <tr>\n",
              "      <th>768</th>\n",
              "      <td>Supply Chain Finance and Blockchain Technology</td>\n",
              "      <td>4.6</td>\n",
              "      <td>3</td>\n",
              "      <td>4900</td>\n",
              "    </tr>\n",
              "  </tbody>\n",
              "</table>\n",
              "</div>"
            ],
            "text/plain": [
              "                                                 title  rating  level  enrolled\n",
              "306       Finance & Quantitative Modeling for Analysts     4.5      1    260000\n",
              "481                  Introduction to Corporate Finance     4.6      2    130000\n",
              "307              Finance for Non-Finance Professionals     4.8      1     69000\n",
              "165                       Corporate Finance Essentials     4.8      2     56000\n",
              "87                                  Behavioral Finance     4.4      2     55000\n",
              "285                    Essentials of Corporate Finance     4.6      3     54000\n",
              "566  Machine Learning and Reinforcement Learning in...     3.7      3     29000\n",
              "326  Foundational Finance for Strategic Decision Ma...     4.8      1     14000\n",
              "304  FinTech: Finance Industry Transformation and R...     4.6      1     13000\n",
              "308                 Finance for Non-Financial Managers     4.4      3     12000\n",
              "838                       Understanding Modern Finance     4.4      3     11000\n",
              "266   Entrepreneurial Finance: Strategy and Innovation     4.5      3      7900\n",
              "768     Supply Chain Finance and Blockchain Technology     4.6      3      4900"
            ]
          },
          "metadata": {
            "tags": []
          },
          "execution_count": 148
        }
      ]
    },
    {
      "cell_type": "code",
      "metadata": {
        "id": "ZEsX6rGaHovc",
        "colab_type": "code",
        "colab": {
          "base_uri": "https://localhost:8080/",
          "height": 111
        },
        "outputId": "fdf053bb-7909-487c-b277-524fd8a07339"
      },
      "source": [
        "Finance_Courses = df[df['title'].str.contains('Finance')].sort_values(by=['enrolled'], ascending=False)\n",
        "Finance_BestSellers = Finance_Courses[Finance_Courses['enrolled']>100000]\n",
        "Finance_BestSellers"
      ],
      "execution_count": 149,
      "outputs": [
        {
          "output_type": "execute_result",
          "data": {
            "text/html": [
              "<div>\n",
              "<style scoped>\n",
              "    .dataframe tbody tr th:only-of-type {\n",
              "        vertical-align: middle;\n",
              "    }\n",
              "\n",
              "    .dataframe tbody tr th {\n",
              "        vertical-align: top;\n",
              "    }\n",
              "\n",
              "    .dataframe thead th {\n",
              "        text-align: right;\n",
              "    }\n",
              "</style>\n",
              "<table border=\"1\" class=\"dataframe\">\n",
              "  <thead>\n",
              "    <tr style=\"text-align: right;\">\n",
              "      <th></th>\n",
              "      <th>title</th>\n",
              "      <th>rating</th>\n",
              "      <th>level</th>\n",
              "      <th>enrolled</th>\n",
              "    </tr>\n",
              "  </thead>\n",
              "  <tbody>\n",
              "    <tr>\n",
              "      <th>306</th>\n",
              "      <td>Finance &amp; Quantitative Modeling for Analysts</td>\n",
              "      <td>4.5</td>\n",
              "      <td>1</td>\n",
              "      <td>260000</td>\n",
              "    </tr>\n",
              "    <tr>\n",
              "      <th>481</th>\n",
              "      <td>Introduction to Corporate Finance</td>\n",
              "      <td>4.6</td>\n",
              "      <td>2</td>\n",
              "      <td>130000</td>\n",
              "    </tr>\n",
              "  </tbody>\n",
              "</table>\n",
              "</div>"
            ],
            "text/plain": [
              "                                            title  rating  level  enrolled\n",
              "306  Finance & Quantitative Modeling for Analysts     4.5      1    260000\n",
              "481             Introduction to Corporate Finance     4.6      2    130000"
            ]
          },
          "metadata": {
            "tags": []
          },
          "execution_count": 149
        }
      ]
    },
    {
      "cell_type": "markdown",
      "metadata": {
        "id": "YaCgvT1gH54x",
        "colab_type": "text"
      },
      "source": [
        "### 7. Commerce"
      ]
    },
    {
      "cell_type": "code",
      "metadata": {
        "id": "Fq6BS1xuIEXi",
        "colab_type": "code",
        "colab": {
          "base_uri": "https://localhost:8080/",
          "height": 49
        },
        "outputId": "b8116014-4572-4ce9-b0ca-1afbd7c2c135"
      },
      "source": [
        "# Commerce 데이터 확인\n",
        "df[df['title'].str.contains('Commerce')].sort_values(by=['enrolled'], ascending=False)"
      ],
      "execution_count": 152,
      "outputs": [
        {
          "output_type": "execute_result",
          "data": {
            "text/html": [
              "<div>\n",
              "<style scoped>\n",
              "    .dataframe tbody tr th:only-of-type {\n",
              "        vertical-align: middle;\n",
              "    }\n",
              "\n",
              "    .dataframe tbody tr th {\n",
              "        vertical-align: top;\n",
              "    }\n",
              "\n",
              "    .dataframe thead th {\n",
              "        text-align: right;\n",
              "    }\n",
              "</style>\n",
              "<table border=\"1\" class=\"dataframe\">\n",
              "  <thead>\n",
              "    <tr style=\"text-align: right;\">\n",
              "      <th></th>\n",
              "      <th>title</th>\n",
              "      <th>rating</th>\n",
              "      <th>level</th>\n",
              "      <th>enrolled</th>\n",
              "    </tr>\n",
              "  </thead>\n",
              "  <tbody>\n",
              "  </tbody>\n",
              "</table>\n",
              "</div>"
            ],
            "text/plain": [
              "Empty DataFrame\n",
              "Columns: [title, rating, level, enrolled]\n",
              "Index: []"
            ]
          },
          "metadata": {
            "tags": []
          },
          "execution_count": 152
        }
      ]
    },
    {
      "cell_type": "code",
      "metadata": {
        "id": "dqPriCb4IIbt",
        "colab_type": "code",
        "colab": {
          "base_uri": "https://localhost:8080/",
          "height": 49
        },
        "outputId": "d15f8249-3579-479b-bf9a-b5a5f60e06c5"
      },
      "source": [
        "# 유관 데이터 확인\n",
        "df[df['title'].str.contains('Shopping')].sort_values(by=['enrolled'], ascending=False)"
      ],
      "execution_count": 155,
      "outputs": [
        {
          "output_type": "execute_result",
          "data": {
            "text/html": [
              "<div>\n",
              "<style scoped>\n",
              "    .dataframe tbody tr th:only-of-type {\n",
              "        vertical-align: middle;\n",
              "    }\n",
              "\n",
              "    .dataframe tbody tr th {\n",
              "        vertical-align: top;\n",
              "    }\n",
              "\n",
              "    .dataframe thead th {\n",
              "        text-align: right;\n",
              "    }\n",
              "</style>\n",
              "<table border=\"1\" class=\"dataframe\">\n",
              "  <thead>\n",
              "    <tr style=\"text-align: right;\">\n",
              "      <th></th>\n",
              "      <th>title</th>\n",
              "      <th>rating</th>\n",
              "      <th>level</th>\n",
              "      <th>enrolled</th>\n",
              "    </tr>\n",
              "  </thead>\n",
              "  <tbody>\n",
              "  </tbody>\n",
              "</table>\n",
              "</div>"
            ],
            "text/plain": [
              "Empty DataFrame\n",
              "Columns: [title, rating, level, enrolled]\n",
              "Index: []"
            ]
          },
          "metadata": {
            "tags": []
          },
          "execution_count": 155
        }
      ]
    },
    {
      "cell_type": "code",
      "metadata": {
        "id": "kmIrburpIR91",
        "colab_type": "code",
        "colab": {
          "base_uri": "https://localhost:8080/",
          "height": 1000
        },
        "outputId": "728d604c-b723-4fe1-b7f7-b9359ae75ad9"
      },
      "source": [
        "# 유관 데이터 확인\n",
        "df[df['title'].str.contains('Business')].sort_values(by=['enrolled'], ascending=False)"
      ],
      "execution_count": 157,
      "outputs": [
        {
          "output_type": "execute_result",
          "data": {
            "text/html": [
              "<div>\n",
              "<style scoped>\n",
              "    .dataframe tbody tr th:only-of-type {\n",
              "        vertical-align: middle;\n",
              "    }\n",
              "\n",
              "    .dataframe tbody tr th {\n",
              "        vertical-align: top;\n",
              "    }\n",
              "\n",
              "    .dataframe thead th {\n",
              "        text-align: right;\n",
              "    }\n",
              "</style>\n",
              "<table border=\"1\" class=\"dataframe\">\n",
              "  <thead>\n",
              "    <tr style=\"text-align: right;\">\n",
              "      <th></th>\n",
              "      <th>title</th>\n",
              "      <th>rating</th>\n",
              "      <th>level</th>\n",
              "      <th>enrolled</th>\n",
              "    </tr>\n",
              "  </thead>\n",
              "  <tbody>\n",
              "    <tr>\n",
              "      <th>113</th>\n",
              "      <td>Business Foundations</td>\n",
              "      <td>4.7</td>\n",
              "      <td>1</td>\n",
              "      <td>510000</td>\n",
              "    </tr>\n",
              "    <tr>\n",
              "      <th>296</th>\n",
              "      <td>Excel to MySQL: Analytic Techniques for Business</td>\n",
              "      <td>4.6</td>\n",
              "      <td>1</td>\n",
              "      <td>490000</td>\n",
              "    </tr>\n",
              "    <tr>\n",
              "      <th>109</th>\n",
              "      <td>Business Analytics</td>\n",
              "      <td>4.6</td>\n",
              "      <td>1</td>\n",
              "      <td>280000</td>\n",
              "    </tr>\n",
              "    <tr>\n",
              "      <th>291</th>\n",
              "      <td>Excel Skills for Business</td>\n",
              "      <td>4.9</td>\n",
              "      <td>1</td>\n",
              "      <td>240000</td>\n",
              "    </tr>\n",
              "    <tr>\n",
              "      <th>260</th>\n",
              "      <td>English for Business and Entrepreneurship</td>\n",
              "      <td>4.8</td>\n",
              "      <td>1</td>\n",
              "      <td>230000</td>\n",
              "    </tr>\n",
              "    <tr>\n",
              "      <th>293</th>\n",
              "      <td>Excel Skills for Business: Essentials</td>\n",
              "      <td>4.9</td>\n",
              "      <td>1</td>\n",
              "      <td>200000</td>\n",
              "    </tr>\n",
              "    <tr>\n",
              "      <th>121</th>\n",
              "      <td>Business and Financial Modeling</td>\n",
              "      <td>4.5</td>\n",
              "      <td>1</td>\n",
              "      <td>160000</td>\n",
              "    </tr>\n",
              "    <tr>\n",
              "      <th>205</th>\n",
              "      <td>Data Warehousing for Business Intelligence</td>\n",
              "      <td>4.5</td>\n",
              "      <td>4</td>\n",
              "      <td>140000</td>\n",
              "    </tr>\n",
              "    <tr>\n",
              "      <th>111</th>\n",
              "      <td>Business English Communication Skills</td>\n",
              "      <td>4.7</td>\n",
              "      <td>3</td>\n",
              "      <td>120000</td>\n",
              "    </tr>\n",
              "    <tr>\n",
              "      <th>115</th>\n",
              "      <td>Business Statistics and Analysis</td>\n",
              "      <td>4.7</td>\n",
              "      <td>1</td>\n",
              "      <td>110000</td>\n",
              "    </tr>\n",
              "    <tr>\n",
              "      <th>117</th>\n",
              "      <td>Business Strategy</td>\n",
              "      <td>4.7</td>\n",
              "      <td>1</td>\n",
              "      <td>89000</td>\n",
              "    </tr>\n",
              "    <tr>\n",
              "      <th>796</th>\n",
              "      <td>The Business of Music Production</td>\n",
              "      <td>4.8</td>\n",
              "      <td>1</td>\n",
              "      <td>84000</td>\n",
              "    </tr>\n",
              "    <tr>\n",
              "      <th>26</th>\n",
              "      <td>Advanced Business Analytics</td>\n",
              "      <td>4.5</td>\n",
              "      <td>3</td>\n",
              "      <td>78000</td>\n",
              "    </tr>\n",
              "    <tr>\n",
              "      <th>112</th>\n",
              "      <td>Business English: Networking</td>\n",
              "      <td>4.7</td>\n",
              "      <td>3</td>\n",
              "      <td>77000</td>\n",
              "    </tr>\n",
              "    <tr>\n",
              "      <th>294</th>\n",
              "      <td>Excel Skills for Business: Intermediate I</td>\n",
              "      <td>4.9</td>\n",
              "      <td>3</td>\n",
              "      <td>76000</td>\n",
              "    </tr>\n",
              "    <tr>\n",
              "      <th>272</th>\n",
              "      <td>Entrepreneurship: Launching an Innovative Busi...</td>\n",
              "      <td>4.6</td>\n",
              "      <td>1</td>\n",
              "      <td>69000</td>\n",
              "    </tr>\n",
              "    <tr>\n",
              "      <th>118</th>\n",
              "      <td>Business Technology Management</td>\n",
              "      <td>4.5</td>\n",
              "      <td>1</td>\n",
              "      <td>67000</td>\n",
              "    </tr>\n",
              "    <tr>\n",
              "      <th>327</th>\n",
              "      <td>Foundations of Business Strategy</td>\n",
              "      <td>4.8</td>\n",
              "      <td>1</td>\n",
              "      <td>63000</td>\n",
              "    </tr>\n",
              "    <tr>\n",
              "      <th>755</th>\n",
              "      <td>Strategic Business Analytics</td>\n",
              "      <td>4.3</td>\n",
              "      <td>4</td>\n",
              "      <td>60000</td>\n",
              "    </tr>\n",
              "    <tr>\n",
              "      <th>568</th>\n",
              "      <td>Machine Learning for Business Professionals</td>\n",
              "      <td>4.6</td>\n",
              "      <td>3</td>\n",
              "      <td>58000</td>\n",
              "    </tr>\n",
              "    <tr>\n",
              "      <th>99</th>\n",
              "      <td>Brand Management: Aligning Business, Brand and...</td>\n",
              "      <td>4.9</td>\n",
              "      <td>1</td>\n",
              "      <td>57000</td>\n",
              "    </tr>\n",
              "    <tr>\n",
              "      <th>576</th>\n",
              "      <td>Managerial Economics and Business Analysis</td>\n",
              "      <td>4.7</td>\n",
              "      <td>1</td>\n",
              "      <td>55000</td>\n",
              "    </tr>\n",
              "    <tr>\n",
              "      <th>120</th>\n",
              "      <td>Business Writing</td>\n",
              "      <td>4.8</td>\n",
              "      <td>1</td>\n",
              "      <td>48000</td>\n",
              "    </tr>\n",
              "    <tr>\n",
              "      <th>617</th>\n",
              "      <td>Music Business</td>\n",
              "      <td>4.8</td>\n",
              "      <td>1</td>\n",
              "      <td>42000</td>\n",
              "    </tr>\n",
              "    <tr>\n",
              "      <th>292</th>\n",
              "      <td>Excel Skills for Business: Advanced</td>\n",
              "      <td>4.7</td>\n",
              "      <td>3</td>\n",
              "      <td>39000</td>\n",
              "    </tr>\n",
              "    <tr>\n",
              "      <th>295</th>\n",
              "      <td>Excel Skills for Business: Intermediate II</td>\n",
              "      <td>4.8</td>\n",
              "      <td>3</td>\n",
              "      <td>39000</td>\n",
              "    </tr>\n",
              "    <tr>\n",
              "      <th>110</th>\n",
              "      <td>Business English</td>\n",
              "      <td>4.7</td>\n",
              "      <td>3</td>\n",
              "      <td>38000</td>\n",
              "    </tr>\n",
              "    <tr>\n",
              "      <th>414</th>\n",
              "      <td>How to Start Your Own Business</td>\n",
              "      <td>4.1</td>\n",
              "      <td>1</td>\n",
              "      <td>34000</td>\n",
              "    </tr>\n",
              "    <tr>\n",
              "      <th>618</th>\n",
              "      <td>Music Business Foundations</td>\n",
              "      <td>4.9</td>\n",
              "      <td>2</td>\n",
              "      <td>34000</td>\n",
              "    </tr>\n",
              "    <tr>\n",
              "      <th>116</th>\n",
              "      <td>Business Strategies for A Better World</td>\n",
              "      <td>4.7</td>\n",
              "      <td>1</td>\n",
              "      <td>24000</td>\n",
              "    </tr>\n",
              "    <tr>\n",
              "      <th>183</th>\n",
              "      <td>Cybersecurity for Business</td>\n",
              "      <td>4.6</td>\n",
              "      <td>1</td>\n",
              "      <td>23000</td>\n",
              "    </tr>\n",
              "    <tr>\n",
              "      <th>795</th>\n",
              "      <td>The Business of Health Care</td>\n",
              "      <td>4.6</td>\n",
              "      <td>1</td>\n",
              "      <td>22000</td>\n",
              "    </tr>\n",
              "    <tr>\n",
              "      <th>451</th>\n",
              "      <td>International Business Essentials</td>\n",
              "      <td>4.5</td>\n",
              "      <td>3</td>\n",
              "      <td>22000</td>\n",
              "    </tr>\n",
              "    <tr>\n",
              "      <th>228</th>\n",
              "      <td>Digital Business Models</td>\n",
              "      <td>4.5</td>\n",
              "      <td>1</td>\n",
              "      <td>21000</td>\n",
              "    </tr>\n",
              "    <tr>\n",
              "      <th>473</th>\n",
              "      <td>Introduction to Business Analytics: Communicat...</td>\n",
              "      <td>4.7</td>\n",
              "      <td>3</td>\n",
              "      <td>14000</td>\n",
              "    </tr>\n",
              "    <tr>\n",
              "      <th>114</th>\n",
              "      <td>Business Model Innovation</td>\n",
              "      <td>4.7</td>\n",
              "      <td>2</td>\n",
              "      <td>13000</td>\n",
              "    </tr>\n",
              "    <tr>\n",
              "      <th>119</th>\n",
              "      <td>Business Transformation with Google Cloud</td>\n",
              "      <td>4.7</td>\n",
              "      <td>1</td>\n",
              "      <td>10000</td>\n",
              "    </tr>\n",
              "    <tr>\n",
              "      <th>756</th>\n",
              "      <td>Strategic Business Management - Microeconomics</td>\n",
              "      <td>4.7</td>\n",
              "      <td>1</td>\n",
              "      <td>9500</td>\n",
              "    </tr>\n",
              "    <tr>\n",
              "      <th>386</th>\n",
              "      <td>Global Trends for Business and Society</td>\n",
              "      <td>4.8</td>\n",
              "      <td>2</td>\n",
              "      <td>7600</td>\n",
              "    </tr>\n",
              "    <tr>\n",
              "      <th>84</th>\n",
              "      <td>Become a Sustainable Business Change Agent</td>\n",
              "      <td>4.7</td>\n",
              "      <td>3</td>\n",
              "      <td>4200</td>\n",
              "    </tr>\n",
              "    <tr>\n",
              "      <th>710</th>\n",
              "      <td>SAS Visual Business Analytics</td>\n",
              "      <td>4.6</td>\n",
              "      <td>1</td>\n",
              "      <td>2600</td>\n",
              "    </tr>\n",
              "  </tbody>\n",
              "</table>\n",
              "</div>"
            ],
            "text/plain": [
              "                                                 title  rating  level  enrolled\n",
              "113                               Business Foundations     4.7      1    510000\n",
              "296   Excel to MySQL: Analytic Techniques for Business     4.6      1    490000\n",
              "109                                 Business Analytics     4.6      1    280000\n",
              "291                          Excel Skills for Business     4.9      1    240000\n",
              "260          English for Business and Entrepreneurship     4.8      1    230000\n",
              "293              Excel Skills for Business: Essentials     4.9      1    200000\n",
              "121                    Business and Financial Modeling     4.5      1    160000\n",
              "205         Data Warehousing for Business Intelligence     4.5      4    140000\n",
              "111              Business English Communication Skills     4.7      3    120000\n",
              "115                   Business Statistics and Analysis     4.7      1    110000\n",
              "117                                  Business Strategy     4.7      1     89000\n",
              "796                   The Business of Music Production     4.8      1     84000\n",
              "26                         Advanced Business Analytics     4.5      3     78000\n",
              "112                       Business English: Networking     4.7      3     77000\n",
              "294          Excel Skills for Business: Intermediate I     4.9      3     76000\n",
              "272  Entrepreneurship: Launching an Innovative Busi...     4.6      1     69000\n",
              "118                     Business Technology Management     4.5      1     67000\n",
              "327                   Foundations of Business Strategy     4.8      1     63000\n",
              "755                       Strategic Business Analytics     4.3      4     60000\n",
              "568        Machine Learning for Business Professionals     4.6      3     58000\n",
              "99   Brand Management: Aligning Business, Brand and...     4.9      1     57000\n",
              "576         Managerial Economics and Business Analysis     4.7      1     55000\n",
              "120                                   Business Writing     4.8      1     48000\n",
              "617                                     Music Business     4.8      1     42000\n",
              "292                Excel Skills for Business: Advanced     4.7      3     39000\n",
              "295         Excel Skills for Business: Intermediate II     4.8      3     39000\n",
              "110                                   Business English     4.7      3     38000\n",
              "414                     How to Start Your Own Business     4.1      1     34000\n",
              "618                         Music Business Foundations     4.9      2     34000\n",
              "116             Business Strategies for A Better World     4.7      1     24000\n",
              "183                         Cybersecurity for Business     4.6      1     23000\n",
              "795                        The Business of Health Care     4.6      1     22000\n",
              "451                  International Business Essentials     4.5      3     22000\n",
              "228                            Digital Business Models     4.5      1     21000\n",
              "473  Introduction to Business Analytics: Communicat...     4.7      3     14000\n",
              "114                          Business Model Innovation     4.7      2     13000\n",
              "119          Business Transformation with Google Cloud     4.7      1     10000\n",
              "756     Strategic Business Management - Microeconomics     4.7      1      9500\n",
              "386             Global Trends for Business and Society     4.8      2      7600\n",
              "84          Become a Sustainable Business Change Agent     4.7      3      4200\n",
              "710                      SAS Visual Business Analytics     4.6      1      2600"
            ]
          },
          "metadata": {
            "tags": []
          },
          "execution_count": 157
        }
      ]
    },
    {
      "cell_type": "code",
      "metadata": {
        "id": "AGs2IU7hIYZv",
        "colab_type": "code",
        "colab": {
          "base_uri": "https://localhost:8080/",
          "height": 359
        },
        "outputId": "361694c5-f9b9-4caf-a9eb-319b53eaea3a"
      },
      "source": [
        "Business_Courses = df[df['title'].str.contains('Business')].sort_values(by=['enrolled'], ascending=False)\n",
        "# 베스트셀러 저장\n",
        "Business_BestSellers = Business_Courses[Business_Courses['enrolled']>100000]\n",
        "Business_BestSellers"
      ],
      "execution_count": 158,
      "outputs": [
        {
          "output_type": "execute_result",
          "data": {
            "text/html": [
              "<div>\n",
              "<style scoped>\n",
              "    .dataframe tbody tr th:only-of-type {\n",
              "        vertical-align: middle;\n",
              "    }\n",
              "\n",
              "    .dataframe tbody tr th {\n",
              "        vertical-align: top;\n",
              "    }\n",
              "\n",
              "    .dataframe thead th {\n",
              "        text-align: right;\n",
              "    }\n",
              "</style>\n",
              "<table border=\"1\" class=\"dataframe\">\n",
              "  <thead>\n",
              "    <tr style=\"text-align: right;\">\n",
              "      <th></th>\n",
              "      <th>title</th>\n",
              "      <th>rating</th>\n",
              "      <th>level</th>\n",
              "      <th>enrolled</th>\n",
              "    </tr>\n",
              "  </thead>\n",
              "  <tbody>\n",
              "    <tr>\n",
              "      <th>113</th>\n",
              "      <td>Business Foundations</td>\n",
              "      <td>4.7</td>\n",
              "      <td>1</td>\n",
              "      <td>510000</td>\n",
              "    </tr>\n",
              "    <tr>\n",
              "      <th>296</th>\n",
              "      <td>Excel to MySQL: Analytic Techniques for Business</td>\n",
              "      <td>4.6</td>\n",
              "      <td>1</td>\n",
              "      <td>490000</td>\n",
              "    </tr>\n",
              "    <tr>\n",
              "      <th>109</th>\n",
              "      <td>Business Analytics</td>\n",
              "      <td>4.6</td>\n",
              "      <td>1</td>\n",
              "      <td>280000</td>\n",
              "    </tr>\n",
              "    <tr>\n",
              "      <th>291</th>\n",
              "      <td>Excel Skills for Business</td>\n",
              "      <td>4.9</td>\n",
              "      <td>1</td>\n",
              "      <td>240000</td>\n",
              "    </tr>\n",
              "    <tr>\n",
              "      <th>260</th>\n",
              "      <td>English for Business and Entrepreneurship</td>\n",
              "      <td>4.8</td>\n",
              "      <td>1</td>\n",
              "      <td>230000</td>\n",
              "    </tr>\n",
              "    <tr>\n",
              "      <th>293</th>\n",
              "      <td>Excel Skills for Business: Essentials</td>\n",
              "      <td>4.9</td>\n",
              "      <td>1</td>\n",
              "      <td>200000</td>\n",
              "    </tr>\n",
              "    <tr>\n",
              "      <th>121</th>\n",
              "      <td>Business and Financial Modeling</td>\n",
              "      <td>4.5</td>\n",
              "      <td>1</td>\n",
              "      <td>160000</td>\n",
              "    </tr>\n",
              "    <tr>\n",
              "      <th>205</th>\n",
              "      <td>Data Warehousing for Business Intelligence</td>\n",
              "      <td>4.5</td>\n",
              "      <td>4</td>\n",
              "      <td>140000</td>\n",
              "    </tr>\n",
              "    <tr>\n",
              "      <th>111</th>\n",
              "      <td>Business English Communication Skills</td>\n",
              "      <td>4.7</td>\n",
              "      <td>3</td>\n",
              "      <td>120000</td>\n",
              "    </tr>\n",
              "    <tr>\n",
              "      <th>115</th>\n",
              "      <td>Business Statistics and Analysis</td>\n",
              "      <td>4.7</td>\n",
              "      <td>1</td>\n",
              "      <td>110000</td>\n",
              "    </tr>\n",
              "  </tbody>\n",
              "</table>\n",
              "</div>"
            ],
            "text/plain": [
              "                                                title  rating  level  enrolled\n",
              "113                              Business Foundations     4.7      1    510000\n",
              "296  Excel to MySQL: Analytic Techniques for Business     4.6      1    490000\n",
              "109                                Business Analytics     4.6      1    280000\n",
              "291                         Excel Skills for Business     4.9      1    240000\n",
              "260         English for Business and Entrepreneurship     4.8      1    230000\n",
              "293             Excel Skills for Business: Essentials     4.9      1    200000\n",
              "121                   Business and Financial Modeling     4.5      1    160000\n",
              "205        Data Warehousing for Business Intelligence     4.5      4    140000\n",
              "111             Business English Communication Skills     4.7      3    120000\n",
              "115                  Business Statistics and Analysis     4.7      1    110000"
            ]
          },
          "metadata": {
            "tags": []
          },
          "execution_count": 158
        }
      ]
    },
    {
      "cell_type": "markdown",
      "metadata": {
        "id": "giUs4lT3I1qB",
        "colab_type": "text"
      },
      "source": [
        "### 8. Neural Network"
      ]
    },
    {
      "cell_type": "code",
      "metadata": {
        "id": "FtH30Uq0IrqV",
        "colab_type": "code",
        "colab": {
          "base_uri": "https://localhost:8080/",
          "height": 173
        },
        "outputId": "590b0cab-446e-47a2-bd4c-9d51f06150e4"
      },
      "source": [
        "# Neural Network 데이터 확인\n",
        "df[df['title'].str.contains('Neural')].sort_values(by=['enrolled'], ascending=False)"
      ],
      "execution_count": 159,
      "outputs": [
        {
          "output_type": "execute_result",
          "data": {
            "text/html": [
              "<div>\n",
              "<style scoped>\n",
              "    .dataframe tbody tr th:only-of-type {\n",
              "        vertical-align: middle;\n",
              "    }\n",
              "\n",
              "    .dataframe tbody tr th {\n",
              "        vertical-align: top;\n",
              "    }\n",
              "\n",
              "    .dataframe thead th {\n",
              "        text-align: right;\n",
              "    }\n",
              "</style>\n",
              "<table border=\"1\" class=\"dataframe\">\n",
              "  <thead>\n",
              "    <tr style=\"text-align: right;\">\n",
              "      <th></th>\n",
              "      <th>title</th>\n",
              "      <th>rating</th>\n",
              "      <th>level</th>\n",
              "      <th>enrolled</th>\n",
              "    </tr>\n",
              "  </thead>\n",
              "  <tbody>\n",
              "    <tr>\n",
              "      <th>626</th>\n",
              "      <td>Neural Networks and Deep Learning</td>\n",
              "      <td>4.9</td>\n",
              "      <td>3</td>\n",
              "      <td>630000</td>\n",
              "    </tr>\n",
              "    <tr>\n",
              "      <th>427</th>\n",
              "      <td>Improving Deep Neural Networks: Hyperparameter...</td>\n",
              "      <td>4.9</td>\n",
              "      <td>1</td>\n",
              "      <td>270000</td>\n",
              "    </tr>\n",
              "    <tr>\n",
              "      <th>162</th>\n",
              "      <td>Convolutional Neural Networks</td>\n",
              "      <td>4.9</td>\n",
              "      <td>3</td>\n",
              "      <td>240000</td>\n",
              "    </tr>\n",
              "    <tr>\n",
              "      <th>163</th>\n",
              "      <td>Convolutional Neural Networks in TensorFlow</td>\n",
              "      <td>4.7</td>\n",
              "      <td>3</td>\n",
              "      <td>46000</td>\n",
              "    </tr>\n",
              "  </tbody>\n",
              "</table>\n",
              "</div>"
            ],
            "text/plain": [
              "                                                 title  rating  level  enrolled\n",
              "626                  Neural Networks and Deep Learning     4.9      3    630000\n",
              "427  Improving Deep Neural Networks: Hyperparameter...     4.9      1    270000\n",
              "162                      Convolutional Neural Networks     4.9      3    240000\n",
              "163        Convolutional Neural Networks in TensorFlow     4.7      3     46000"
            ]
          },
          "metadata": {
            "tags": []
          },
          "execution_count": 159
        }
      ]
    },
    {
      "cell_type": "code",
      "metadata": {
        "id": "eJ4KPM5VI6zI",
        "colab_type": "code",
        "colab": {
          "base_uri": "https://localhost:8080/",
          "height": 49
        },
        "outputId": "17c09889-e27d-4c6c-afcd-352c84b9c66a"
      },
      "source": [
        "# 유관 데이터 확인\n",
        "df[df['title'].str.contains('CNN')].sort_values(by=['enrolled'], ascending=False)"
      ],
      "execution_count": 160,
      "outputs": [
        {
          "output_type": "execute_result",
          "data": {
            "text/html": [
              "<div>\n",
              "<style scoped>\n",
              "    .dataframe tbody tr th:only-of-type {\n",
              "        vertical-align: middle;\n",
              "    }\n",
              "\n",
              "    .dataframe tbody tr th {\n",
              "        vertical-align: top;\n",
              "    }\n",
              "\n",
              "    .dataframe thead th {\n",
              "        text-align: right;\n",
              "    }\n",
              "</style>\n",
              "<table border=\"1\" class=\"dataframe\">\n",
              "  <thead>\n",
              "    <tr style=\"text-align: right;\">\n",
              "      <th></th>\n",
              "      <th>title</th>\n",
              "      <th>rating</th>\n",
              "      <th>level</th>\n",
              "      <th>enrolled</th>\n",
              "    </tr>\n",
              "  </thead>\n",
              "  <tbody>\n",
              "  </tbody>\n",
              "</table>\n",
              "</div>"
            ],
            "text/plain": [
              "Empty DataFrame\n",
              "Columns: [title, rating, level, enrolled]\n",
              "Index: []"
            ]
          },
          "metadata": {
            "tags": []
          },
          "execution_count": 160
        }
      ]
    },
    {
      "cell_type": "code",
      "metadata": {
        "id": "emRHOp98I_3s",
        "colab_type": "code",
        "colab": {
          "base_uri": "https://localhost:8080/",
          "height": 49
        },
        "outputId": "c1502347-de44-4047-d1af-949556d3fd0a"
      },
      "source": [
        "# 유관 데이터 확인\n",
        "df[df['title'].str.contains('RNN')].sort_values(by=['enrolled'], ascending=False)"
      ],
      "execution_count": 161,
      "outputs": [
        {
          "output_type": "execute_result",
          "data": {
            "text/html": [
              "<div>\n",
              "<style scoped>\n",
              "    .dataframe tbody tr th:only-of-type {\n",
              "        vertical-align: middle;\n",
              "    }\n",
              "\n",
              "    .dataframe tbody tr th {\n",
              "        vertical-align: top;\n",
              "    }\n",
              "\n",
              "    .dataframe thead th {\n",
              "        text-align: right;\n",
              "    }\n",
              "</style>\n",
              "<table border=\"1\" class=\"dataframe\">\n",
              "  <thead>\n",
              "    <tr style=\"text-align: right;\">\n",
              "      <th></th>\n",
              "      <th>title</th>\n",
              "      <th>rating</th>\n",
              "      <th>level</th>\n",
              "      <th>enrolled</th>\n",
              "    </tr>\n",
              "  </thead>\n",
              "  <tbody>\n",
              "  </tbody>\n",
              "</table>\n",
              "</div>"
            ],
            "text/plain": [
              "Empty DataFrame\n",
              "Columns: [title, rating, level, enrolled]\n",
              "Index: []"
            ]
          },
          "metadata": {
            "tags": []
          },
          "execution_count": 161
        }
      ]
    },
    {
      "cell_type": "code",
      "metadata": {
        "id": "QMHZiHJCJB0x",
        "colab_type": "code",
        "colab": {
          "base_uri": "https://localhost:8080/",
          "height": 142
        },
        "outputId": "78ddfff8-7092-4151-8d0d-8c9f7705c371"
      },
      "source": [
        "# 유관 데이터 확인\n",
        "df[df['title'].str.contains('Reinforcement')].sort_values(by=['enrolled'], ascending=False)"
      ],
      "execution_count": 162,
      "outputs": [
        {
          "output_type": "execute_result",
          "data": {
            "text/html": [
              "<div>\n",
              "<style scoped>\n",
              "    .dataframe tbody tr th:only-of-type {\n",
              "        vertical-align: middle;\n",
              "    }\n",
              "\n",
              "    .dataframe tbody tr th {\n",
              "        vertical-align: top;\n",
              "    }\n",
              "\n",
              "    .dataframe thead th {\n",
              "        text-align: right;\n",
              "    }\n",
              "</style>\n",
              "<table border=\"1\" class=\"dataframe\">\n",
              "  <thead>\n",
              "    <tr style=\"text-align: right;\">\n",
              "      <th></th>\n",
              "      <th>title</th>\n",
              "      <th>rating</th>\n",
              "      <th>level</th>\n",
              "      <th>enrolled</th>\n",
              "    </tr>\n",
              "  </thead>\n",
              "  <tbody>\n",
              "    <tr>\n",
              "      <th>566</th>\n",
              "      <td>Machine Learning and Reinforcement Learning in...</td>\n",
              "      <td>3.7</td>\n",
              "      <td>3</td>\n",
              "      <td>29000</td>\n",
              "    </tr>\n",
              "    <tr>\n",
              "      <th>695</th>\n",
              "      <td>Reinforcement Learning</td>\n",
              "      <td>4.7</td>\n",
              "      <td>3</td>\n",
              "      <td>23000</td>\n",
              "    </tr>\n",
              "    <tr>\n",
              "      <th>353</th>\n",
              "      <td>Fundamentals of Reinforcement Learning</td>\n",
              "      <td>4.8</td>\n",
              "      <td>3</td>\n",
              "      <td>22000</td>\n",
              "    </tr>\n",
              "  </tbody>\n",
              "</table>\n",
              "</div>"
            ],
            "text/plain": [
              "                                                 title  rating  level  enrolled\n",
              "566  Machine Learning and Reinforcement Learning in...     3.7      3     29000\n",
              "695                             Reinforcement Learning     4.7      3     23000\n",
              "353             Fundamentals of Reinforcement Learning     4.8      3     22000"
            ]
          },
          "metadata": {
            "tags": []
          },
          "execution_count": 162
        }
      ]
    },
    {
      "cell_type": "code",
      "metadata": {
        "id": "qdfvZS5JJDux",
        "colab_type": "code",
        "colab": {
          "base_uri": "https://localhost:8080/",
          "height": 142
        },
        "outputId": "d058b50b-d4a0-494a-e668-57cffb25a018"
      },
      "source": [
        "# Neural Network 데이터 확인\n",
        "Neural_Courses = df[df['title'].str.contains('Neural')].sort_values(by=['enrolled'], ascending=False)\n",
        "# 베스트셀러 저장\n",
        "Neural_BestSellers = Neural_Courses[Neural_Courses['enrolled']>100000]\n",
        "Neural_BestSellers"
      ],
      "execution_count": 164,
      "outputs": [
        {
          "output_type": "execute_result",
          "data": {
            "text/html": [
              "<div>\n",
              "<style scoped>\n",
              "    .dataframe tbody tr th:only-of-type {\n",
              "        vertical-align: middle;\n",
              "    }\n",
              "\n",
              "    .dataframe tbody tr th {\n",
              "        vertical-align: top;\n",
              "    }\n",
              "\n",
              "    .dataframe thead th {\n",
              "        text-align: right;\n",
              "    }\n",
              "</style>\n",
              "<table border=\"1\" class=\"dataframe\">\n",
              "  <thead>\n",
              "    <tr style=\"text-align: right;\">\n",
              "      <th></th>\n",
              "      <th>title</th>\n",
              "      <th>rating</th>\n",
              "      <th>level</th>\n",
              "      <th>enrolled</th>\n",
              "    </tr>\n",
              "  </thead>\n",
              "  <tbody>\n",
              "    <tr>\n",
              "      <th>626</th>\n",
              "      <td>Neural Networks and Deep Learning</td>\n",
              "      <td>4.9</td>\n",
              "      <td>3</td>\n",
              "      <td>630000</td>\n",
              "    </tr>\n",
              "    <tr>\n",
              "      <th>427</th>\n",
              "      <td>Improving Deep Neural Networks: Hyperparameter...</td>\n",
              "      <td>4.9</td>\n",
              "      <td>1</td>\n",
              "      <td>270000</td>\n",
              "    </tr>\n",
              "    <tr>\n",
              "      <th>162</th>\n",
              "      <td>Convolutional Neural Networks</td>\n",
              "      <td>4.9</td>\n",
              "      <td>3</td>\n",
              "      <td>240000</td>\n",
              "    </tr>\n",
              "  </tbody>\n",
              "</table>\n",
              "</div>"
            ],
            "text/plain": [
              "                                                 title  rating  level  enrolled\n",
              "626                  Neural Networks and Deep Learning     4.9      3    630000\n",
              "427  Improving Deep Neural Networks: Hyperparameter...     4.9      1    270000\n",
              "162                      Convolutional Neural Networks     4.9      3    240000"
            ]
          },
          "metadata": {
            "tags": []
          },
          "execution_count": 164
        }
      ]
    },
    {
      "cell_type": "markdown",
      "metadata": {
        "id": "Z0vcwjXQJH1M",
        "colab_type": "text"
      },
      "source": [
        "### 9. Machine Learning"
      ]
    },
    {
      "cell_type": "code",
      "metadata": {
        "id": "AAIeGQRKJY-J",
        "colab_type": "code",
        "colab": {
          "base_uri": "https://localhost:8080/",
          "height": 793
        },
        "outputId": "4d72dbdf-ff98-4cce-aba8-854df8c1ba94"
      },
      "source": [
        "# Machine Learning 데이터 확인\n",
        "df[df['title'].str.contains('Machine')].sort_values(by=['enrolled'], ascending=False)"
      ],
      "execution_count": 165,
      "outputs": [
        {
          "output_type": "execute_result",
          "data": {
            "text/html": [
              "<div>\n",
              "<style scoped>\n",
              "    .dataframe tbody tr th:only-of-type {\n",
              "        vertical-align: middle;\n",
              "    }\n",
              "\n",
              "    .dataframe tbody tr th {\n",
              "        vertical-align: top;\n",
              "    }\n",
              "\n",
              "    .dataframe thead th {\n",
              "        text-align: right;\n",
              "    }\n",
              "</style>\n",
              "<table border=\"1\" class=\"dataframe\">\n",
              "  <thead>\n",
              "    <tr style=\"text-align: right;\">\n",
              "      <th></th>\n",
              "      <th>title</th>\n",
              "      <th>rating</th>\n",
              "      <th>level</th>\n",
              "      <th>enrolled</th>\n",
              "    </tr>\n",
              "  </thead>\n",
              "  <tbody>\n",
              "    <tr>\n",
              "      <th>563</th>\n",
              "      <td>Machine Learning</td>\n",
              "      <td>4.6</td>\n",
              "      <td>3</td>\n",
              "      <td>290000</td>\n",
              "    </tr>\n",
              "    <tr>\n",
              "      <th>565</th>\n",
              "      <td>Machine Learning Foundations: A Case Study App...</td>\n",
              "      <td>4.6</td>\n",
              "      <td>2</td>\n",
              "      <td>240000</td>\n",
              "    </tr>\n",
              "    <tr>\n",
              "      <th>763</th>\n",
              "      <td>Structuring Machine Learning Projects</td>\n",
              "      <td>4.8</td>\n",
              "      <td>1</td>\n",
              "      <td>220000</td>\n",
              "    </tr>\n",
              "    <tr>\n",
              "      <th>200</th>\n",
              "      <td>Data Science: Statistics and Machine Learning</td>\n",
              "      <td>4.4</td>\n",
              "      <td>3</td>\n",
              "      <td>210000</td>\n",
              "    </tr>\n",
              "    <tr>\n",
              "      <th>28</th>\n",
              "      <td>Advanced Machine Learning</td>\n",
              "      <td>4.5</td>\n",
              "      <td>4</td>\n",
              "      <td>190000</td>\n",
              "    </tr>\n",
              "    <tr>\n",
              "      <th>57</th>\n",
              "      <td>Applied Machine Learning in Python</td>\n",
              "      <td>4.6</td>\n",
              "      <td>3</td>\n",
              "      <td>150000</td>\n",
              "    </tr>\n",
              "    <tr>\n",
              "      <th>595</th>\n",
              "      <td>Mathematics for Machine Learning</td>\n",
              "      <td>4.6</td>\n",
              "      <td>1</td>\n",
              "      <td>150000</td>\n",
              "    </tr>\n",
              "    <tr>\n",
              "      <th>520</th>\n",
              "      <td>Introduction to TensorFlow for Artificial Inte...</td>\n",
              "      <td>4.7</td>\n",
              "      <td>3</td>\n",
              "      <td>150000</td>\n",
              "    </tr>\n",
              "    <tr>\n",
              "      <th>596</th>\n",
              "      <td>Mathematics for Machine Learning: Linear Algebra</td>\n",
              "      <td>4.7</td>\n",
              "      <td>1</td>\n",
              "      <td>140000</td>\n",
              "    </tr>\n",
              "    <tr>\n",
              "      <th>570</th>\n",
              "      <td>Machine Learning with Python</td>\n",
              "      <td>4.7</td>\n",
              "      <td>3</td>\n",
              "      <td>120000</td>\n",
              "    </tr>\n",
              "    <tr>\n",
              "      <th>193</th>\n",
              "      <td>Data Engineering, Big Data, and Machine Learni...</td>\n",
              "      <td>4.6</td>\n",
              "      <td>3</td>\n",
              "      <td>120000</td>\n",
              "    </tr>\n",
              "    <tr>\n",
              "      <th>389</th>\n",
              "      <td>Google Cloud Platform Big Data and Machine Lea...</td>\n",
              "      <td>4.6</td>\n",
              "      <td>3</td>\n",
              "      <td>120000</td>\n",
              "    </tr>\n",
              "    <tr>\n",
              "      <th>375</th>\n",
              "      <td>Getting Started with AWS Machine Learning</td>\n",
              "      <td>4.5</td>\n",
              "      <td>3</td>\n",
              "      <td>73000</td>\n",
              "    </tr>\n",
              "    <tr>\n",
              "      <th>571</th>\n",
              "      <td>Machine Learning with TensorFlow on Google Clo...</td>\n",
              "      <td>4.5</td>\n",
              "      <td>3</td>\n",
              "      <td>72000</td>\n",
              "    </tr>\n",
              "    <tr>\n",
              "      <th>568</th>\n",
              "      <td>Machine Learning for Business Professionals</td>\n",
              "      <td>4.6</td>\n",
              "      <td>3</td>\n",
              "      <td>58000</td>\n",
              "    </tr>\n",
              "    <tr>\n",
              "      <th>597</th>\n",
              "      <td>Mathematics for Machine Learning: Multivariate...</td>\n",
              "      <td>4.7</td>\n",
              "      <td>1</td>\n",
              "      <td>51000</td>\n",
              "    </tr>\n",
              "    <tr>\n",
              "      <th>29</th>\n",
              "      <td>Advanced Machine Learning with TensorFlow on G...</td>\n",
              "      <td>4.5</td>\n",
              "      <td>4</td>\n",
              "      <td>35000</td>\n",
              "    </tr>\n",
              "    <tr>\n",
              "      <th>598</th>\n",
              "      <td>Mathematics for Machine Learning: PCA</td>\n",
              "      <td>4.0</td>\n",
              "      <td>3</td>\n",
              "      <td>33000</td>\n",
              "    </tr>\n",
              "    <tr>\n",
              "      <th>566</th>\n",
              "      <td>Machine Learning and Reinforcement Learning in...</td>\n",
              "      <td>3.7</td>\n",
              "      <td>3</td>\n",
              "      <td>29000</td>\n",
              "    </tr>\n",
              "    <tr>\n",
              "      <th>567</th>\n",
              "      <td>Machine Learning for All</td>\n",
              "      <td>4.6</td>\n",
              "      <td>1</td>\n",
              "      <td>19000</td>\n",
              "    </tr>\n",
              "    <tr>\n",
              "      <th>569</th>\n",
              "      <td>Machine Learning for Trading</td>\n",
              "      <td>3.9</td>\n",
              "      <td>3</td>\n",
              "      <td>15000</td>\n",
              "    </tr>\n",
              "    <tr>\n",
              "      <th>532</th>\n",
              "      <td>Investment Management with Python and Machine ...</td>\n",
              "      <td>4.6</td>\n",
              "      <td>1</td>\n",
              "      <td>14000</td>\n",
              "    </tr>\n",
              "    <tr>\n",
              "      <th>522</th>\n",
              "      <td>Introduction to Trading, Machine Learning &amp; GCP</td>\n",
              "      <td>4.0</td>\n",
              "      <td>3</td>\n",
              "      <td>13000</td>\n",
              "    </tr>\n",
              "    <tr>\n",
              "      <th>564</th>\n",
              "      <td>Machine Learning</td>\n",
              "      <td>4.9</td>\n",
              "      <td>2</td>\n",
              "      <td>32</td>\n",
              "    </tr>\n",
              "  </tbody>\n",
              "</table>\n",
              "</div>"
            ],
            "text/plain": [
              "                                                 title  rating  level  enrolled\n",
              "563                                   Machine Learning     4.6      3    290000\n",
              "565  Machine Learning Foundations: A Case Study App...     4.6      2    240000\n",
              "763              Structuring Machine Learning Projects     4.8      1    220000\n",
              "200      Data Science: Statistics and Machine Learning     4.4      3    210000\n",
              "28                           Advanced Machine Learning     4.5      4    190000\n",
              "57                  Applied Machine Learning in Python     4.6      3    150000\n",
              "595                   Mathematics for Machine Learning     4.6      1    150000\n",
              "520  Introduction to TensorFlow for Artificial Inte...     4.7      3    150000\n",
              "596   Mathematics for Machine Learning: Linear Algebra     4.7      1    140000\n",
              "570                       Machine Learning with Python     4.7      3    120000\n",
              "193  Data Engineering, Big Data, and Machine Learni...     4.6      3    120000\n",
              "389  Google Cloud Platform Big Data and Machine Lea...     4.6      3    120000\n",
              "375          Getting Started with AWS Machine Learning     4.5      3     73000\n",
              "571  Machine Learning with TensorFlow on Google Clo...     4.5      3     72000\n",
              "568        Machine Learning for Business Professionals     4.6      3     58000\n",
              "597  Mathematics for Machine Learning: Multivariate...     4.7      1     51000\n",
              "29   Advanced Machine Learning with TensorFlow on G...     4.5      4     35000\n",
              "598              Mathematics for Machine Learning: PCA     4.0      3     33000\n",
              "566  Machine Learning and Reinforcement Learning in...     3.7      3     29000\n",
              "567                           Machine Learning for All     4.6      1     19000\n",
              "569                       Machine Learning for Trading     3.9      3     15000\n",
              "532  Investment Management with Python and Machine ...     4.6      1     14000\n",
              "522    Introduction to Trading, Machine Learning & GCP     4.0      3     13000\n",
              "564                                   Machine Learning     4.9      2        32"
            ]
          },
          "metadata": {
            "tags": []
          },
          "execution_count": 165
        }
      ]
    },
    {
      "cell_type": "code",
      "metadata": {
        "id": "rzmUNgG6JcU4",
        "colab_type": "code",
        "colab": {
          "base_uri": "https://localhost:8080/",
          "height": 421
        },
        "outputId": "653e4a9f-1bb7-4a0f-973a-70e330755186"
      },
      "source": [
        "Machine_Courses = df[df['title'].str.contains('Machine')].sort_values(by=['enrolled'], ascending=False)\n",
        "Machine_BestSellers = Machine_Courses[Machine_Courses['enrolled']>100000]\n",
        "Machine_BestSellers"
      ],
      "execution_count": 166,
      "outputs": [
        {
          "output_type": "execute_result",
          "data": {
            "text/html": [
              "<div>\n",
              "<style scoped>\n",
              "    .dataframe tbody tr th:only-of-type {\n",
              "        vertical-align: middle;\n",
              "    }\n",
              "\n",
              "    .dataframe tbody tr th {\n",
              "        vertical-align: top;\n",
              "    }\n",
              "\n",
              "    .dataframe thead th {\n",
              "        text-align: right;\n",
              "    }\n",
              "</style>\n",
              "<table border=\"1\" class=\"dataframe\">\n",
              "  <thead>\n",
              "    <tr style=\"text-align: right;\">\n",
              "      <th></th>\n",
              "      <th>title</th>\n",
              "      <th>rating</th>\n",
              "      <th>level</th>\n",
              "      <th>enrolled</th>\n",
              "    </tr>\n",
              "  </thead>\n",
              "  <tbody>\n",
              "    <tr>\n",
              "      <th>563</th>\n",
              "      <td>Machine Learning</td>\n",
              "      <td>4.6</td>\n",
              "      <td>3</td>\n",
              "      <td>290000</td>\n",
              "    </tr>\n",
              "    <tr>\n",
              "      <th>565</th>\n",
              "      <td>Machine Learning Foundations: A Case Study App...</td>\n",
              "      <td>4.6</td>\n",
              "      <td>2</td>\n",
              "      <td>240000</td>\n",
              "    </tr>\n",
              "    <tr>\n",
              "      <th>763</th>\n",
              "      <td>Structuring Machine Learning Projects</td>\n",
              "      <td>4.8</td>\n",
              "      <td>1</td>\n",
              "      <td>220000</td>\n",
              "    </tr>\n",
              "    <tr>\n",
              "      <th>200</th>\n",
              "      <td>Data Science: Statistics and Machine Learning</td>\n",
              "      <td>4.4</td>\n",
              "      <td>3</td>\n",
              "      <td>210000</td>\n",
              "    </tr>\n",
              "    <tr>\n",
              "      <th>28</th>\n",
              "      <td>Advanced Machine Learning</td>\n",
              "      <td>4.5</td>\n",
              "      <td>4</td>\n",
              "      <td>190000</td>\n",
              "    </tr>\n",
              "    <tr>\n",
              "      <th>57</th>\n",
              "      <td>Applied Machine Learning in Python</td>\n",
              "      <td>4.6</td>\n",
              "      <td>3</td>\n",
              "      <td>150000</td>\n",
              "    </tr>\n",
              "    <tr>\n",
              "      <th>595</th>\n",
              "      <td>Mathematics for Machine Learning</td>\n",
              "      <td>4.6</td>\n",
              "      <td>1</td>\n",
              "      <td>150000</td>\n",
              "    </tr>\n",
              "    <tr>\n",
              "      <th>520</th>\n",
              "      <td>Introduction to TensorFlow for Artificial Inte...</td>\n",
              "      <td>4.7</td>\n",
              "      <td>3</td>\n",
              "      <td>150000</td>\n",
              "    </tr>\n",
              "    <tr>\n",
              "      <th>596</th>\n",
              "      <td>Mathematics for Machine Learning: Linear Algebra</td>\n",
              "      <td>4.7</td>\n",
              "      <td>1</td>\n",
              "      <td>140000</td>\n",
              "    </tr>\n",
              "    <tr>\n",
              "      <th>570</th>\n",
              "      <td>Machine Learning with Python</td>\n",
              "      <td>4.7</td>\n",
              "      <td>3</td>\n",
              "      <td>120000</td>\n",
              "    </tr>\n",
              "    <tr>\n",
              "      <th>193</th>\n",
              "      <td>Data Engineering, Big Data, and Machine Learni...</td>\n",
              "      <td>4.6</td>\n",
              "      <td>3</td>\n",
              "      <td>120000</td>\n",
              "    </tr>\n",
              "    <tr>\n",
              "      <th>389</th>\n",
              "      <td>Google Cloud Platform Big Data and Machine Lea...</td>\n",
              "      <td>4.6</td>\n",
              "      <td>3</td>\n",
              "      <td>120000</td>\n",
              "    </tr>\n",
              "  </tbody>\n",
              "</table>\n",
              "</div>"
            ],
            "text/plain": [
              "                                                 title  rating  level  enrolled\n",
              "563                                   Machine Learning     4.6      3    290000\n",
              "565  Machine Learning Foundations: A Case Study App...     4.6      2    240000\n",
              "763              Structuring Machine Learning Projects     4.8      1    220000\n",
              "200      Data Science: Statistics and Machine Learning     4.4      3    210000\n",
              "28                           Advanced Machine Learning     4.5      4    190000\n",
              "57                  Applied Machine Learning in Python     4.6      3    150000\n",
              "595                   Mathematics for Machine Learning     4.6      1    150000\n",
              "520  Introduction to TensorFlow for Artificial Inte...     4.7      3    150000\n",
              "596   Mathematics for Machine Learning: Linear Algebra     4.7      1    140000\n",
              "570                       Machine Learning with Python     4.7      3    120000\n",
              "193  Data Engineering, Big Data, and Machine Learni...     4.6      3    120000\n",
              "389  Google Cloud Platform Big Data and Machine Lea...     4.6      3    120000"
            ]
          },
          "metadata": {
            "tags": []
          },
          "execution_count": 166
        }
      ]
    },
    {
      "cell_type": "markdown",
      "metadata": {
        "id": "4KU1prqJJn5H",
        "colab_type": "text"
      },
      "source": [
        "### 10. Deep Learning"
      ]
    },
    {
      "cell_type": "code",
      "metadata": {
        "id": "Y7MSsyHwJrb2",
        "colab_type": "code",
        "colab": {
          "base_uri": "https://localhost:8080/",
          "height": 173
        },
        "outputId": "35af5f7f-1bbc-4264-e5d2-d74db4ffa75c"
      },
      "source": [
        "# Deep Learning 데이터 확인\n",
        "df[df['title'].str.contains('Deep')].sort_values(by=['enrolled'], ascending=False)"
      ],
      "execution_count": 167,
      "outputs": [
        {
          "output_type": "execute_result",
          "data": {
            "text/html": [
              "<div>\n",
              "<style scoped>\n",
              "    .dataframe tbody tr th:only-of-type {\n",
              "        vertical-align: middle;\n",
              "    }\n",
              "\n",
              "    .dataframe tbody tr th {\n",
              "        vertical-align: top;\n",
              "    }\n",
              "\n",
              "    .dataframe thead th {\n",
              "        text-align: right;\n",
              "    }\n",
              "</style>\n",
              "<table border=\"1\" class=\"dataframe\">\n",
              "  <thead>\n",
              "    <tr style=\"text-align: right;\">\n",
              "      <th></th>\n",
              "      <th>title</th>\n",
              "      <th>rating</th>\n",
              "      <th>level</th>\n",
              "      <th>enrolled</th>\n",
              "    </tr>\n",
              "  </thead>\n",
              "  <tbody>\n",
              "    <tr>\n",
              "      <th>211</th>\n",
              "      <td>Deep Learning</td>\n",
              "      <td>4.8</td>\n",
              "      <td>3</td>\n",
              "      <td>690000</td>\n",
              "    </tr>\n",
              "    <tr>\n",
              "      <th>626</th>\n",
              "      <td>Neural Networks and Deep Learning</td>\n",
              "      <td>4.9</td>\n",
              "      <td>3</td>\n",
              "      <td>630000</td>\n",
              "    </tr>\n",
              "    <tr>\n",
              "      <th>427</th>\n",
              "      <td>Improving Deep Neural Networks: Hyperparameter...</td>\n",
              "      <td>4.9</td>\n",
              "      <td>1</td>\n",
              "      <td>270000</td>\n",
              "    </tr>\n",
              "    <tr>\n",
              "      <th>520</th>\n",
              "      <td>Introduction to TensorFlow for Artificial Inte...</td>\n",
              "      <td>4.7</td>\n",
              "      <td>3</td>\n",
              "      <td>150000</td>\n",
              "    </tr>\n",
              "  </tbody>\n",
              "</table>\n",
              "</div>"
            ],
            "text/plain": [
              "                                                 title  rating  level  enrolled\n",
              "211                                      Deep Learning     4.8      3    690000\n",
              "626                  Neural Networks and Deep Learning     4.9      3    630000\n",
              "427  Improving Deep Neural Networks: Hyperparameter...     4.9      1    270000\n",
              "520  Introduction to TensorFlow for Artificial Inte...     4.7      3    150000"
            ]
          },
          "metadata": {
            "tags": []
          },
          "execution_count": 167
        }
      ]
    },
    {
      "cell_type": "code",
      "metadata": {
        "id": "1tXvLDskJuWT",
        "colab_type": "code",
        "colab": {}
      },
      "source": [
        "# 모두 10만이 넘는 수강생이므로 BestSellers로 저장\n",
        "Deep_BestSellers = df[df['title'].str.contains('Deep')].sort_values(by=['enrolled'], ascending=False)"
      ],
      "execution_count": 168,
      "outputs": []
    }
  ]
}